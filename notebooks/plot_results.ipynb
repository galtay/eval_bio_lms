{
 "cells": [
  {
   "cell_type": "code",
   "execution_count": 13,
   "id": "84f46bb2",
   "metadata": {},
   "outputs": [],
   "source": [
    "import json\n",
    "import pandas as pd\n",
    "import plotly.express as px\n",
    "from rich import print"
   ]
  },
  {
   "cell_type": "code",
   "execution_count": 14,
   "id": "003e771c",
   "metadata": {},
   "outputs": [],
   "source": [
    "from eval_bio_lms.model_utilities import MODEL_DEFS"
   ]
  },
  {
   "cell_type": "code",
   "execution_count": 15,
   "id": "87d706aa",
   "metadata": {},
   "outputs": [],
   "source": [
    "MODEL_NAME_TO_DEF = {model_def.name: model_def for model_def in MODEL_DEFS}"
   ]
  },
  {
   "cell_type": "code",
   "execution_count": 16,
   "id": "86193f56",
   "metadata": {},
   "outputs": [
    {
     "data": {
      "text/html": [
       "<pre style=\"white-space:pre;overflow-x:auto;line-height:normal;font-family:Menlo,'DejaVu Sans Mono',consolas,'Courier New',monospace\"><span style=\"font-weight: bold\">[</span>\n",
       "    <span style=\"color: #800080; text-decoration-color: #800080; font-weight: bold\">HuggingFaceModelDefinition</span><span style=\"font-weight: bold\">(</span>\n",
       "        <span style=\"color: #808000; text-decoration-color: #808000\">name</span>=<span style=\"color: #008000; text-decoration-color: #008000\">'BioLinkBERT-base'</span>,\n",
       "        <span style=\"color: #808000; text-decoration-color: #808000\">tokenizer_checkpoint</span>=<span style=\"color: #008000; text-decoration-color: #008000\">'michiyasunaga/BioLinkBERT-base'</span>,\n",
       "        <span style=\"color: #808000; text-decoration-color: #808000\">model_checkpoint</span>=<span style=\"color: #008000; text-decoration-color: #008000\">'michiyasunaga/BioLinkBERT-base'</span>,\n",
       "        <span style=\"color: #808000; text-decoration-color: #808000\">cased</span>=<span style=\"color: #ff0000; text-decoration-color: #ff0000; font-style: italic\">False</span>,\n",
       "        <span style=\"color: #808000; text-decoration-color: #808000\">max_seq_len</span>=<span style=\"color: #008080; text-decoration-color: #008080; font-weight: bold\">512</span>,\n",
       "        <span style=\"color: #808000; text-decoration-color: #808000\">arxiv</span>=<span style=\"color: #008000; text-decoration-color: #008000\">'https://arxiv.org/abs/2203.15827'</span>\n",
       "    <span style=\"font-weight: bold\">)</span>,\n",
       "    <span style=\"color: #800080; text-decoration-color: #800080; font-weight: bold\">HuggingFaceModelDefinition</span><span style=\"font-weight: bold\">(</span>\n",
       "        <span style=\"color: #808000; text-decoration-color: #808000\">name</span>=<span style=\"color: #008000; text-decoration-color: #008000\">'BioLinkBERT-large'</span>,\n",
       "        <span style=\"color: #808000; text-decoration-color: #808000\">tokenizer_checkpoint</span>=<span style=\"color: #008000; text-decoration-color: #008000\">'/home/galtay/data/bio-link-bert/BioLinkBERT-large-with-heads'</span>,\n",
       "        <span style=\"color: #808000; text-decoration-color: #808000\">model_checkpoint</span>=<span style=\"color: #008000; text-decoration-color: #008000\">'/home/galtay/data/bio-link-bert/BioLinkBERT-large-with-heads'</span>,\n",
       "        <span style=\"color: #808000; text-decoration-color: #808000\">cased</span>=<span style=\"color: #ff0000; text-decoration-color: #ff0000; font-style: italic\">False</span>,\n",
       "        <span style=\"color: #808000; text-decoration-color: #808000\">max_seq_len</span>=<span style=\"color: #008080; text-decoration-color: #008080; font-weight: bold\">512</span>,\n",
       "        <span style=\"color: #808000; text-decoration-color: #808000\">arxiv</span>=<span style=\"color: #008000; text-decoration-color: #008000\">'https://arxiv.org/abs/2203.15827'</span>\n",
       "    <span style=\"font-weight: bold\">)</span>,\n",
       "    <span style=\"color: #800080; text-decoration-color: #800080; font-weight: bold\">HuggingFaceModelDefinition</span><span style=\"font-weight: bold\">(</span>\n",
       "        <span style=\"color: #808000; text-decoration-color: #808000\">name</span>=<span style=\"color: #008000; text-decoration-color: #008000\">'bert-base-uncased'</span>,\n",
       "        <span style=\"color: #808000; text-decoration-color: #808000\">tokenizer_checkpoint</span>=<span style=\"color: #008000; text-decoration-color: #008000\">'bert-base-uncased'</span>,\n",
       "        <span style=\"color: #808000; text-decoration-color: #808000\">model_checkpoint</span>=<span style=\"color: #008000; text-decoration-color: #008000\">'bert-base-uncased'</span>,\n",
       "        <span style=\"color: #808000; text-decoration-color: #808000\">cased</span>=<span style=\"color: #ff0000; text-decoration-color: #ff0000; font-style: italic\">False</span>,\n",
       "        <span style=\"color: #808000; text-decoration-color: #808000\">max_seq_len</span>=<span style=\"color: #008080; text-decoration-color: #008080; font-weight: bold\">512</span>,\n",
       "        <span style=\"color: #808000; text-decoration-color: #808000\">arxiv</span>=<span style=\"color: #008000; text-decoration-color: #008000\">'https://arxiv.org/abs/1810.04805'</span>\n",
       "    <span style=\"font-weight: bold\">)</span>,\n",
       "    <span style=\"color: #800080; text-decoration-color: #800080; font-weight: bold\">HuggingFaceModelDefinition</span><span style=\"font-weight: bold\">(</span>\n",
       "        <span style=\"color: #808000; text-decoration-color: #808000\">name</span>=<span style=\"color: #008000; text-decoration-color: #008000\">'bert-base-cased'</span>,\n",
       "        <span style=\"color: #808000; text-decoration-color: #808000\">tokenizer_checkpoint</span>=<span style=\"color: #008000; text-decoration-color: #008000\">'bert-base-cased'</span>,\n",
       "        <span style=\"color: #808000; text-decoration-color: #808000\">model_checkpoint</span>=<span style=\"color: #008000; text-decoration-color: #008000\">'bert-base-cased'</span>,\n",
       "        <span style=\"color: #808000; text-decoration-color: #808000\">cased</span>=<span style=\"color: #00ff00; text-decoration-color: #00ff00; font-style: italic\">True</span>,\n",
       "        <span style=\"color: #808000; text-decoration-color: #808000\">max_seq_len</span>=<span style=\"color: #008080; text-decoration-color: #008080; font-weight: bold\">512</span>,\n",
       "        <span style=\"color: #808000; text-decoration-color: #808000\">arxiv</span>=<span style=\"color: #008000; text-decoration-color: #008000\">'https://arxiv.org/abs/1810.04805'</span>\n",
       "    <span style=\"font-weight: bold\">)</span>,\n",
       "    <span style=\"color: #800080; text-decoration-color: #800080; font-weight: bold\">HuggingFaceModelDefinition</span><span style=\"font-weight: bold\">(</span>\n",
       "        <span style=\"color: #808000; text-decoration-color: #808000\">name</span>=<span style=\"color: #008000; text-decoration-color: #008000\">'roberta-base'</span>,\n",
       "        <span style=\"color: #808000; text-decoration-color: #808000\">tokenizer_checkpoint</span>=<span style=\"color: #008000; text-decoration-color: #008000\">'roberta-base'</span>,\n",
       "        <span style=\"color: #808000; text-decoration-color: #808000\">model_checkpoint</span>=<span style=\"color: #008000; text-decoration-color: #008000\">'roberta-base'</span>,\n",
       "        <span style=\"color: #808000; text-decoration-color: #808000\">cased</span>=<span style=\"color: #00ff00; text-decoration-color: #00ff00; font-style: italic\">True</span>,\n",
       "        <span style=\"color: #808000; text-decoration-color: #808000\">max_seq_len</span>=<span style=\"color: #008080; text-decoration-color: #008080; font-weight: bold\">512</span>,\n",
       "        <span style=\"color: #808000; text-decoration-color: #808000\">arxiv</span>=<span style=\"color: #008000; text-decoration-color: #008000\">'https://arxiv.org/abs/1907.11692'</span>\n",
       "    <span style=\"font-weight: bold\">)</span>,\n",
       "    <span style=\"color: #800080; text-decoration-color: #800080; font-weight: bold\">HuggingFaceModelDefinition</span><span style=\"font-weight: bold\">(</span>\n",
       "        <span style=\"color: #808000; text-decoration-color: #808000\">name</span>=<span style=\"color: #008000; text-decoration-color: #008000\">'roberta-large'</span>,\n",
       "        <span style=\"color: #808000; text-decoration-color: #808000\">tokenizer_checkpoint</span>=<span style=\"color: #008000; text-decoration-color: #008000\">'roberta-large'</span>,\n",
       "        <span style=\"color: #808000; text-decoration-color: #808000\">model_checkpoint</span>=<span style=\"color: #008000; text-decoration-color: #008000\">'roberta-large'</span>,\n",
       "        <span style=\"color: #808000; text-decoration-color: #808000\">cased</span>=<span style=\"color: #00ff00; text-decoration-color: #00ff00; font-style: italic\">True</span>,\n",
       "        <span style=\"color: #808000; text-decoration-color: #808000\">max_seq_len</span>=<span style=\"color: #008080; text-decoration-color: #008080; font-weight: bold\">512</span>,\n",
       "        <span style=\"color: #808000; text-decoration-color: #808000\">arxiv</span>=<span style=\"color: #008000; text-decoration-color: #008000\">'https://arxiv.org/abs/1907.11692'</span>\n",
       "    <span style=\"font-weight: bold\">)</span>,\n",
       "    <span style=\"color: #800080; text-decoration-color: #800080; font-weight: bold\">HuggingFaceModelDefinition</span><span style=\"font-weight: bold\">(</span>\n",
       "        <span style=\"color: #808000; text-decoration-color: #808000\">name</span>=<span style=\"color: #008000; text-decoration-color: #008000\">'biobert-base-cased-v1.2'</span>,\n",
       "        <span style=\"color: #808000; text-decoration-color: #808000\">tokenizer_checkpoint</span>=<span style=\"color: #008000; text-decoration-color: #008000\">'dmis-lab/biobert-base-cased-v1.2'</span>,\n",
       "        <span style=\"color: #808000; text-decoration-color: #808000\">model_checkpoint</span>=<span style=\"color: #008000; text-decoration-color: #008000\">'dmis-lab/biobert-base-cased-v1.2'</span>,\n",
       "        <span style=\"color: #808000; text-decoration-color: #808000\">cased</span>=<span style=\"color: #00ff00; text-decoration-color: #00ff00; font-style: italic\">True</span>,\n",
       "        <span style=\"color: #808000; text-decoration-color: #808000\">max_seq_len</span>=<span style=\"color: #008080; text-decoration-color: #008080; font-weight: bold\">512</span>,\n",
       "        <span style=\"color: #808000; text-decoration-color: #808000\">arxiv</span>=<span style=\"color: #008000; text-decoration-color: #008000\">'https://arxiv.org/abs/1901.08746'</span>\n",
       "    <span style=\"font-weight: bold\">)</span>,\n",
       "    <span style=\"color: #800080; text-decoration-color: #800080; font-weight: bold\">HuggingFaceModelDefinition</span><span style=\"font-weight: bold\">(</span>\n",
       "        <span style=\"color: #808000; text-decoration-color: #808000\">name</span>=<span style=\"color: #008000; text-decoration-color: #008000\">'scibert_scivocab_uncased'</span>,\n",
       "        <span style=\"color: #808000; text-decoration-color: #808000\">tokenizer_checkpoint</span>=<span style=\"color: #008000; text-decoration-color: #008000\">'allenai/scibert_scivocab_uncased'</span>,\n",
       "        <span style=\"color: #808000; text-decoration-color: #808000\">model_checkpoint</span>=<span style=\"color: #008000; text-decoration-color: #008000\">'allenai/scibert_scivocab_uncased'</span>,\n",
       "        <span style=\"color: #808000; text-decoration-color: #808000\">cased</span>=<span style=\"color: #ff0000; text-decoration-color: #ff0000; font-style: italic\">False</span>,\n",
       "        <span style=\"color: #808000; text-decoration-color: #808000\">max_seq_len</span>=<span style=\"color: #008080; text-decoration-color: #008080; font-weight: bold\">512</span>,\n",
       "        <span style=\"color: #808000; text-decoration-color: #808000\">arxiv</span>=<span style=\"color: #008000; text-decoration-color: #008000\">'https://arxiv.org/abs/1903.10676'</span>\n",
       "    <span style=\"font-weight: bold\">)</span>,\n",
       "    <span style=\"color: #800080; text-decoration-color: #800080; font-weight: bold\">HuggingFaceModelDefinition</span><span style=\"font-weight: bold\">(</span>\n",
       "        <span style=\"color: #808000; text-decoration-color: #808000\">name</span>=<span style=\"color: #008000; text-decoration-color: #008000\">'scibert_scivocab_cased'</span>,\n",
       "        <span style=\"color: #808000; text-decoration-color: #808000\">tokenizer_checkpoint</span>=<span style=\"color: #008000; text-decoration-color: #008000\">'allenai/scibert_scivocab_cased'</span>,\n",
       "        <span style=\"color: #808000; text-decoration-color: #808000\">model_checkpoint</span>=<span style=\"color: #008000; text-decoration-color: #008000\">'allenai/scibert_scivocab_cased'</span>,\n",
       "        <span style=\"color: #808000; text-decoration-color: #808000\">cased</span>=<span style=\"color: #00ff00; text-decoration-color: #00ff00; font-style: italic\">True</span>,\n",
       "        <span style=\"color: #808000; text-decoration-color: #808000\">max_seq_len</span>=<span style=\"color: #008080; text-decoration-color: #008080; font-weight: bold\">512</span>,\n",
       "        <span style=\"color: #808000; text-decoration-color: #808000\">arxiv</span>=<span style=\"color: #008000; text-decoration-color: #008000\">'https://arxiv.org/abs/1903.10676'</span>\n",
       "    <span style=\"font-weight: bold\">)</span>,\n",
       "    <span style=\"color: #800080; text-decoration-color: #800080; font-weight: bold\">HuggingFaceModelDefinition</span><span style=\"font-weight: bold\">(</span>\n",
       "        <span style=\"color: #808000; text-decoration-color: #808000\">name</span>=<span style=\"color: #008000; text-decoration-color: #008000\">'BiomedNLP-PubMedBERT-base-uncased-abstract'</span>,\n",
       "        <span style=\"color: #808000; text-decoration-color: #808000\">tokenizer_checkpoint</span>=<span style=\"color: #008000; text-decoration-color: #008000\">'microsoft/BiomedNLP-PubMedBERT-base-uncased-abstract'</span>,\n",
       "        <span style=\"color: #808000; text-decoration-color: #808000\">model_checkpoint</span>=<span style=\"color: #008000; text-decoration-color: #008000\">'microsoft/BiomedNLP-PubMedBERT-base-uncased-abstract'</span>,\n",
       "        <span style=\"color: #808000; text-decoration-color: #808000\">cased</span>=<span style=\"color: #ff0000; text-decoration-color: #ff0000; font-style: italic\">False</span>,\n",
       "        <span style=\"color: #808000; text-decoration-color: #808000\">max_seq_len</span>=<span style=\"color: #008080; text-decoration-color: #008080; font-weight: bold\">512</span>,\n",
       "        <span style=\"color: #808000; text-decoration-color: #808000\">arxiv</span>=<span style=\"color: #008000; text-decoration-color: #008000\">'https://arxiv.org/abs/2007.15779'</span>\n",
       "    <span style=\"font-weight: bold\">)</span>,\n",
       "    <span style=\"color: #800080; text-decoration-color: #800080; font-weight: bold\">HuggingFaceModelDefinition</span><span style=\"font-weight: bold\">(</span>\n",
       "        <span style=\"color: #808000; text-decoration-color: #808000\">name</span>=<span style=\"color: #008000; text-decoration-color: #008000\">'BiomedNLP-PubMedBERT-base-uncased-abstract-fulltext'</span>,\n",
       "        <span style=\"color: #808000; text-decoration-color: #808000\">tokenizer_checkpoint</span>=<span style=\"color: #008000; text-decoration-color: #008000\">'microsoft/BiomedNLP-PubMedBERT-base-uncased-abstract-fulltext'</span>,\n",
       "        <span style=\"color: #808000; text-decoration-color: #808000\">model_checkpoint</span>=<span style=\"color: #008000; text-decoration-color: #008000\">'microsoft/BiomedNLP-PubMedBERT-base-uncased-abstract-fulltext'</span>,\n",
       "        <span style=\"color: #808000; text-decoration-color: #808000\">cased</span>=<span style=\"color: #ff0000; text-decoration-color: #ff0000; font-style: italic\">False</span>,\n",
       "        <span style=\"color: #808000; text-decoration-color: #808000\">max_seq_len</span>=<span style=\"color: #008080; text-decoration-color: #008080; font-weight: bold\">512</span>,\n",
       "        <span style=\"color: #808000; text-decoration-color: #808000\">arxiv</span>=<span style=\"color: #008000; text-decoration-color: #008000\">'https://arxiv.org/abs/2007.15779'</span>\n",
       "    <span style=\"font-weight: bold\">)</span>,\n",
       "    <span style=\"color: #800080; text-decoration-color: #800080; font-weight: bold\">HuggingFaceModelDefinition</span><span style=\"font-weight: bold\">(</span>\n",
       "        <span style=\"color: #808000; text-decoration-color: #808000\">name</span>=<span style=\"color: #008000; text-decoration-color: #008000\">'Bio_ClinicalBERT'</span>,\n",
       "        <span style=\"color: #808000; text-decoration-color: #808000\">tokenizer_checkpoint</span>=<span style=\"color: #008000; text-decoration-color: #008000\">'emilyalsentzer/Bio_ClinicalBERT'</span>,\n",
       "        <span style=\"color: #808000; text-decoration-color: #808000\">model_checkpoint</span>=<span style=\"color: #008000; text-decoration-color: #008000\">'emilyalsentzer/Bio_ClinicalBERT'</span>,\n",
       "        <span style=\"color: #808000; text-decoration-color: #808000\">cased</span>=<span style=\"color: #ff0000; text-decoration-color: #ff0000; font-style: italic\">False</span>,\n",
       "        <span style=\"color: #808000; text-decoration-color: #808000\">max_seq_len</span>=<span style=\"color: #008080; text-decoration-color: #008080; font-weight: bold\">128</span>,\n",
       "        <span style=\"color: #808000; text-decoration-color: #808000\">arxiv</span>=<span style=\"color: #008000; text-decoration-color: #008000\">'https://arxiv.org/abs/1904.03323'</span>\n",
       "    <span style=\"font-weight: bold\">)</span>,\n",
       "    <span style=\"color: #800080; text-decoration-color: #800080; font-weight: bold\">HuggingFaceModelDefinition</span><span style=\"font-weight: bold\">(</span>\n",
       "        <span style=\"color: #808000; text-decoration-color: #808000\">name</span>=<span style=\"color: #008000; text-decoration-color: #008000\">'bluebert_pubmed_uncased_L-24_H-1024_A-16'</span>,\n",
       "        <span style=\"color: #808000; text-decoration-color: #808000\">tokenizer_checkpoint</span>=<span style=\"color: #008000; text-decoration-color: #008000\">'bionlp/bluebert_pubmed_uncased_L-24_H-1024_A-16'</span>,\n",
       "        <span style=\"color: #808000; text-decoration-color: #808000\">model_checkpoint</span>=<span style=\"color: #008000; text-decoration-color: #008000\">'bionlp/bluebert_pubmed_uncased_L-24_H-1024_A-16'</span>,\n",
       "        <span style=\"color: #808000; text-decoration-color: #808000\">cased</span>=<span style=\"color: #ff0000; text-decoration-color: #ff0000; font-style: italic\">False</span>,\n",
       "        <span style=\"color: #808000; text-decoration-color: #808000\">max_seq_len</span>=<span style=\"color: #008080; text-decoration-color: #008080; font-weight: bold\">512</span>,\n",
       "        <span style=\"color: #808000; text-decoration-color: #808000\">arxiv</span>=<span style=\"color: #008000; text-decoration-color: #008000\">'https://arxiv.org/abs/1906.05474'</span>\n",
       "    <span style=\"font-weight: bold\">)</span>,\n",
       "    <span style=\"color: #800080; text-decoration-color: #800080; font-weight: bold\">HuggingFaceModelDefinition</span><span style=\"font-weight: bold\">(</span>\n",
       "        <span style=\"color: #808000; text-decoration-color: #808000\">name</span>=<span style=\"color: #008000; text-decoration-color: #008000\">'bluebert_pubmed_mimic_uncased_L-24_H-1024_A-16'</span>,\n",
       "        <span style=\"color: #808000; text-decoration-color: #808000\">tokenizer_checkpoint</span>=<span style=\"color: #008000; text-decoration-color: #008000\">'bionlp/bluebert_pubmed_mimic_uncased_L-24_H-1024_A-16'</span>,\n",
       "        <span style=\"color: #808000; text-decoration-color: #808000\">model_checkpoint</span>=<span style=\"color: #008000; text-decoration-color: #008000\">'bionlp/bluebert_pubmed_mimic_uncased_L-24_H-1024_A-16'</span>,\n",
       "        <span style=\"color: #808000; text-decoration-color: #808000\">cased</span>=<span style=\"color: #ff0000; text-decoration-color: #ff0000; font-style: italic\">False</span>,\n",
       "        <span style=\"color: #808000; text-decoration-color: #808000\">max_seq_len</span>=<span style=\"color: #008080; text-decoration-color: #008080; font-weight: bold\">512</span>,\n",
       "        <span style=\"color: #808000; text-decoration-color: #808000\">arxiv</span>=<span style=\"color: #008000; text-decoration-color: #008000\">'https://arxiv.org/abs/1906.05474'</span>\n",
       "    <span style=\"font-weight: bold\">)</span>,\n",
       "    <span style=\"color: #800080; text-decoration-color: #800080; font-weight: bold\">HuggingFaceModelDefinition</span><span style=\"font-weight: bold\">(</span>\n",
       "        <span style=\"color: #808000; text-decoration-color: #808000\">name</span>=<span style=\"color: #008000; text-decoration-color: #008000\">'bluebert_pubmed_uncased_L-12_H-768_A-12'</span>,\n",
       "        <span style=\"color: #808000; text-decoration-color: #808000\">tokenizer_checkpoint</span>=<span style=\"color: #008000; text-decoration-color: #008000\">'bionlp/bluebert_pubmed_uncased_L-12_H-768_A-12'</span>,\n",
       "        <span style=\"color: #808000; text-decoration-color: #808000\">model_checkpoint</span>=<span style=\"color: #008000; text-decoration-color: #008000\">'bionlp/bluebert_pubmed_uncased_L-12_H-768_A-12'</span>,\n",
       "        <span style=\"color: #808000; text-decoration-color: #808000\">cased</span>=<span style=\"color: #ff0000; text-decoration-color: #ff0000; font-style: italic\">False</span>,\n",
       "        <span style=\"color: #808000; text-decoration-color: #808000\">max_seq_len</span>=<span style=\"color: #008080; text-decoration-color: #008080; font-weight: bold\">512</span>,\n",
       "        <span style=\"color: #808000; text-decoration-color: #808000\">arxiv</span>=<span style=\"color: #008000; text-decoration-color: #008000\">'https://arxiv.org/abs/1906.05474'</span>\n",
       "    <span style=\"font-weight: bold\">)</span>,\n",
       "    <span style=\"color: #800080; text-decoration-color: #800080; font-weight: bold\">HuggingFaceModelDefinition</span><span style=\"font-weight: bold\">(</span>\n",
       "        <span style=\"color: #808000; text-decoration-color: #808000\">name</span>=<span style=\"color: #008000; text-decoration-color: #008000\">'bluebert_pubmed_mimic_uncased_L-12_H-768_A-12'</span>,\n",
       "        <span style=\"color: #808000; text-decoration-color: #808000\">tokenizer_checkpoint</span>=<span style=\"color: #008000; text-decoration-color: #008000\">'bionlp/bluebert_pubmed_mimic_uncased_L-12_H-768_A-12'</span>,\n",
       "        <span style=\"color: #808000; text-decoration-color: #808000\">model_checkpoint</span>=<span style=\"color: #008000; text-decoration-color: #008000\">'bionlp/bluebert_pubmed_mimic_uncased_L-12_H-768_A-12'</span>,\n",
       "        <span style=\"color: #808000; text-decoration-color: #808000\">cased</span>=<span style=\"color: #ff0000; text-decoration-color: #ff0000; font-style: italic\">False</span>,\n",
       "        <span style=\"color: #808000; text-decoration-color: #808000\">max_seq_len</span>=<span style=\"color: #008080; text-decoration-color: #008080; font-weight: bold\">512</span>,\n",
       "        <span style=\"color: #808000; text-decoration-color: #808000\">arxiv</span>=<span style=\"color: #008000; text-decoration-color: #008000\">'https://arxiv.org/abs/1906.05474'</span>\n",
       "    <span style=\"font-weight: bold\">)</span>\n",
       "<span style=\"font-weight: bold\">]</span>\n",
       "</pre>\n"
      ],
      "text/plain": [
       "\u001b[1m[\u001b[0m\n",
       "    \u001b[1;35mHuggingFaceModelDefinition\u001b[0m\u001b[1m(\u001b[0m\n",
       "        \u001b[33mname\u001b[0m=\u001b[32m'BioLinkBERT-base'\u001b[0m,\n",
       "        \u001b[33mtokenizer_checkpoint\u001b[0m=\u001b[32m'michiyasunaga/BioLinkBERT-base'\u001b[0m,\n",
       "        \u001b[33mmodel_checkpoint\u001b[0m=\u001b[32m'michiyasunaga/BioLinkBERT-base'\u001b[0m,\n",
       "        \u001b[33mcased\u001b[0m=\u001b[3;91mFalse\u001b[0m,\n",
       "        \u001b[33mmax_seq_len\u001b[0m=\u001b[1;36m512\u001b[0m,\n",
       "        \u001b[33marxiv\u001b[0m=\u001b[32m'https://arxiv.org/abs/2203.15827'\u001b[0m\n",
       "    \u001b[1m)\u001b[0m,\n",
       "    \u001b[1;35mHuggingFaceModelDefinition\u001b[0m\u001b[1m(\u001b[0m\n",
       "        \u001b[33mname\u001b[0m=\u001b[32m'BioLinkBERT-large'\u001b[0m,\n",
       "        \u001b[33mtokenizer_checkpoint\u001b[0m=\u001b[32m'/home/galtay/data/bio-link-bert/BioLinkBERT-large-with-heads'\u001b[0m,\n",
       "        \u001b[33mmodel_checkpoint\u001b[0m=\u001b[32m'/home/galtay/data/bio-link-bert/BioLinkBERT-large-with-heads'\u001b[0m,\n",
       "        \u001b[33mcased\u001b[0m=\u001b[3;91mFalse\u001b[0m,\n",
       "        \u001b[33mmax_seq_len\u001b[0m=\u001b[1;36m512\u001b[0m,\n",
       "        \u001b[33marxiv\u001b[0m=\u001b[32m'https://arxiv.org/abs/2203.15827'\u001b[0m\n",
       "    \u001b[1m)\u001b[0m,\n",
       "    \u001b[1;35mHuggingFaceModelDefinition\u001b[0m\u001b[1m(\u001b[0m\n",
       "        \u001b[33mname\u001b[0m=\u001b[32m'bert-base-uncased'\u001b[0m,\n",
       "        \u001b[33mtokenizer_checkpoint\u001b[0m=\u001b[32m'bert-base-uncased'\u001b[0m,\n",
       "        \u001b[33mmodel_checkpoint\u001b[0m=\u001b[32m'bert-base-uncased'\u001b[0m,\n",
       "        \u001b[33mcased\u001b[0m=\u001b[3;91mFalse\u001b[0m,\n",
       "        \u001b[33mmax_seq_len\u001b[0m=\u001b[1;36m512\u001b[0m,\n",
       "        \u001b[33marxiv\u001b[0m=\u001b[32m'https://arxiv.org/abs/1810.04805'\u001b[0m\n",
       "    \u001b[1m)\u001b[0m,\n",
       "    \u001b[1;35mHuggingFaceModelDefinition\u001b[0m\u001b[1m(\u001b[0m\n",
       "        \u001b[33mname\u001b[0m=\u001b[32m'bert-base-cased'\u001b[0m,\n",
       "        \u001b[33mtokenizer_checkpoint\u001b[0m=\u001b[32m'bert-base-cased'\u001b[0m,\n",
       "        \u001b[33mmodel_checkpoint\u001b[0m=\u001b[32m'bert-base-cased'\u001b[0m,\n",
       "        \u001b[33mcased\u001b[0m=\u001b[3;92mTrue\u001b[0m,\n",
       "        \u001b[33mmax_seq_len\u001b[0m=\u001b[1;36m512\u001b[0m,\n",
       "        \u001b[33marxiv\u001b[0m=\u001b[32m'https://arxiv.org/abs/1810.04805'\u001b[0m\n",
       "    \u001b[1m)\u001b[0m,\n",
       "    \u001b[1;35mHuggingFaceModelDefinition\u001b[0m\u001b[1m(\u001b[0m\n",
       "        \u001b[33mname\u001b[0m=\u001b[32m'roberta-base'\u001b[0m,\n",
       "        \u001b[33mtokenizer_checkpoint\u001b[0m=\u001b[32m'roberta-base'\u001b[0m,\n",
       "        \u001b[33mmodel_checkpoint\u001b[0m=\u001b[32m'roberta-base'\u001b[0m,\n",
       "        \u001b[33mcased\u001b[0m=\u001b[3;92mTrue\u001b[0m,\n",
       "        \u001b[33mmax_seq_len\u001b[0m=\u001b[1;36m512\u001b[0m,\n",
       "        \u001b[33marxiv\u001b[0m=\u001b[32m'https://arxiv.org/abs/1907.11692'\u001b[0m\n",
       "    \u001b[1m)\u001b[0m,\n",
       "    \u001b[1;35mHuggingFaceModelDefinition\u001b[0m\u001b[1m(\u001b[0m\n",
       "        \u001b[33mname\u001b[0m=\u001b[32m'roberta-large'\u001b[0m,\n",
       "        \u001b[33mtokenizer_checkpoint\u001b[0m=\u001b[32m'roberta-large'\u001b[0m,\n",
       "        \u001b[33mmodel_checkpoint\u001b[0m=\u001b[32m'roberta-large'\u001b[0m,\n",
       "        \u001b[33mcased\u001b[0m=\u001b[3;92mTrue\u001b[0m,\n",
       "        \u001b[33mmax_seq_len\u001b[0m=\u001b[1;36m512\u001b[0m,\n",
       "        \u001b[33marxiv\u001b[0m=\u001b[32m'https://arxiv.org/abs/1907.11692'\u001b[0m\n",
       "    \u001b[1m)\u001b[0m,\n",
       "    \u001b[1;35mHuggingFaceModelDefinition\u001b[0m\u001b[1m(\u001b[0m\n",
       "        \u001b[33mname\u001b[0m=\u001b[32m'biobert-base-cased-v1.2'\u001b[0m,\n",
       "        \u001b[33mtokenizer_checkpoint\u001b[0m=\u001b[32m'dmis-lab/biobert-base-cased-v1.2'\u001b[0m,\n",
       "        \u001b[33mmodel_checkpoint\u001b[0m=\u001b[32m'dmis-lab/biobert-base-cased-v1.2'\u001b[0m,\n",
       "        \u001b[33mcased\u001b[0m=\u001b[3;92mTrue\u001b[0m,\n",
       "        \u001b[33mmax_seq_len\u001b[0m=\u001b[1;36m512\u001b[0m,\n",
       "        \u001b[33marxiv\u001b[0m=\u001b[32m'https://arxiv.org/abs/1901.08746'\u001b[0m\n",
       "    \u001b[1m)\u001b[0m,\n",
       "    \u001b[1;35mHuggingFaceModelDefinition\u001b[0m\u001b[1m(\u001b[0m\n",
       "        \u001b[33mname\u001b[0m=\u001b[32m'scibert_scivocab_uncased'\u001b[0m,\n",
       "        \u001b[33mtokenizer_checkpoint\u001b[0m=\u001b[32m'allenai/scibert_scivocab_uncased'\u001b[0m,\n",
       "        \u001b[33mmodel_checkpoint\u001b[0m=\u001b[32m'allenai/scibert_scivocab_uncased'\u001b[0m,\n",
       "        \u001b[33mcased\u001b[0m=\u001b[3;91mFalse\u001b[0m,\n",
       "        \u001b[33mmax_seq_len\u001b[0m=\u001b[1;36m512\u001b[0m,\n",
       "        \u001b[33marxiv\u001b[0m=\u001b[32m'https://arxiv.org/abs/1903.10676'\u001b[0m\n",
       "    \u001b[1m)\u001b[0m,\n",
       "    \u001b[1;35mHuggingFaceModelDefinition\u001b[0m\u001b[1m(\u001b[0m\n",
       "        \u001b[33mname\u001b[0m=\u001b[32m'scibert_scivocab_cased'\u001b[0m,\n",
       "        \u001b[33mtokenizer_checkpoint\u001b[0m=\u001b[32m'allenai/scibert_scivocab_cased'\u001b[0m,\n",
       "        \u001b[33mmodel_checkpoint\u001b[0m=\u001b[32m'allenai/scibert_scivocab_cased'\u001b[0m,\n",
       "        \u001b[33mcased\u001b[0m=\u001b[3;92mTrue\u001b[0m,\n",
       "        \u001b[33mmax_seq_len\u001b[0m=\u001b[1;36m512\u001b[0m,\n",
       "        \u001b[33marxiv\u001b[0m=\u001b[32m'https://arxiv.org/abs/1903.10676'\u001b[0m\n",
       "    \u001b[1m)\u001b[0m,\n",
       "    \u001b[1;35mHuggingFaceModelDefinition\u001b[0m\u001b[1m(\u001b[0m\n",
       "        \u001b[33mname\u001b[0m=\u001b[32m'BiomedNLP-PubMedBERT-base-uncased-abstract'\u001b[0m,\n",
       "        \u001b[33mtokenizer_checkpoint\u001b[0m=\u001b[32m'microsoft/BiomedNLP-PubMedBERT-base-uncased-abstract'\u001b[0m,\n",
       "        \u001b[33mmodel_checkpoint\u001b[0m=\u001b[32m'microsoft/BiomedNLP-PubMedBERT-base-uncased-abstract'\u001b[0m,\n",
       "        \u001b[33mcased\u001b[0m=\u001b[3;91mFalse\u001b[0m,\n",
       "        \u001b[33mmax_seq_len\u001b[0m=\u001b[1;36m512\u001b[0m,\n",
       "        \u001b[33marxiv\u001b[0m=\u001b[32m'https://arxiv.org/abs/2007.15779'\u001b[0m\n",
       "    \u001b[1m)\u001b[0m,\n",
       "    \u001b[1;35mHuggingFaceModelDefinition\u001b[0m\u001b[1m(\u001b[0m\n",
       "        \u001b[33mname\u001b[0m=\u001b[32m'BiomedNLP-PubMedBERT-base-uncased-abstract-fulltext'\u001b[0m,\n",
       "        \u001b[33mtokenizer_checkpoint\u001b[0m=\u001b[32m'microsoft/BiomedNLP-PubMedBERT-base-uncased-abstract-fulltext'\u001b[0m,\n",
       "        \u001b[33mmodel_checkpoint\u001b[0m=\u001b[32m'microsoft/BiomedNLP-PubMedBERT-base-uncased-abstract-fulltext'\u001b[0m,\n",
       "        \u001b[33mcased\u001b[0m=\u001b[3;91mFalse\u001b[0m,\n",
       "        \u001b[33mmax_seq_len\u001b[0m=\u001b[1;36m512\u001b[0m,\n",
       "        \u001b[33marxiv\u001b[0m=\u001b[32m'https://arxiv.org/abs/2007.15779'\u001b[0m\n",
       "    \u001b[1m)\u001b[0m,\n",
       "    \u001b[1;35mHuggingFaceModelDefinition\u001b[0m\u001b[1m(\u001b[0m\n",
       "        \u001b[33mname\u001b[0m=\u001b[32m'Bio_ClinicalBERT'\u001b[0m,\n",
       "        \u001b[33mtokenizer_checkpoint\u001b[0m=\u001b[32m'emilyalsentzer/Bio_ClinicalBERT'\u001b[0m,\n",
       "        \u001b[33mmodel_checkpoint\u001b[0m=\u001b[32m'emilyalsentzer/Bio_ClinicalBERT'\u001b[0m,\n",
       "        \u001b[33mcased\u001b[0m=\u001b[3;91mFalse\u001b[0m,\n",
       "        \u001b[33mmax_seq_len\u001b[0m=\u001b[1;36m128\u001b[0m,\n",
       "        \u001b[33marxiv\u001b[0m=\u001b[32m'https://arxiv.org/abs/1904.03323'\u001b[0m\n",
       "    \u001b[1m)\u001b[0m,\n",
       "    \u001b[1;35mHuggingFaceModelDefinition\u001b[0m\u001b[1m(\u001b[0m\n",
       "        \u001b[33mname\u001b[0m=\u001b[32m'bluebert_pubmed_uncased_L-24_H-1024_A-16'\u001b[0m,\n",
       "        \u001b[33mtokenizer_checkpoint\u001b[0m=\u001b[32m'bionlp/bluebert_pubmed_uncased_L-24_H-1024_A-16'\u001b[0m,\n",
       "        \u001b[33mmodel_checkpoint\u001b[0m=\u001b[32m'bionlp/bluebert_pubmed_uncased_L-24_H-1024_A-16'\u001b[0m,\n",
       "        \u001b[33mcased\u001b[0m=\u001b[3;91mFalse\u001b[0m,\n",
       "        \u001b[33mmax_seq_len\u001b[0m=\u001b[1;36m512\u001b[0m,\n",
       "        \u001b[33marxiv\u001b[0m=\u001b[32m'https://arxiv.org/abs/1906.05474'\u001b[0m\n",
       "    \u001b[1m)\u001b[0m,\n",
       "    \u001b[1;35mHuggingFaceModelDefinition\u001b[0m\u001b[1m(\u001b[0m\n",
       "        \u001b[33mname\u001b[0m=\u001b[32m'bluebert_pubmed_mimic_uncased_L-24_H-1024_A-16'\u001b[0m,\n",
       "        \u001b[33mtokenizer_checkpoint\u001b[0m=\u001b[32m'bionlp/bluebert_pubmed_mimic_uncased_L-24_H-1024_A-16'\u001b[0m,\n",
       "        \u001b[33mmodel_checkpoint\u001b[0m=\u001b[32m'bionlp/bluebert_pubmed_mimic_uncased_L-24_H-1024_A-16'\u001b[0m,\n",
       "        \u001b[33mcased\u001b[0m=\u001b[3;91mFalse\u001b[0m,\n",
       "        \u001b[33mmax_seq_len\u001b[0m=\u001b[1;36m512\u001b[0m,\n",
       "        \u001b[33marxiv\u001b[0m=\u001b[32m'https://arxiv.org/abs/1906.05474'\u001b[0m\n",
       "    \u001b[1m)\u001b[0m,\n",
       "    \u001b[1;35mHuggingFaceModelDefinition\u001b[0m\u001b[1m(\u001b[0m\n",
       "        \u001b[33mname\u001b[0m=\u001b[32m'bluebert_pubmed_uncased_L-12_H-768_A-12'\u001b[0m,\n",
       "        \u001b[33mtokenizer_checkpoint\u001b[0m=\u001b[32m'bionlp/bluebert_pubmed_uncased_L-12_H-768_A-12'\u001b[0m,\n",
       "        \u001b[33mmodel_checkpoint\u001b[0m=\u001b[32m'bionlp/bluebert_pubmed_uncased_L-12_H-768_A-12'\u001b[0m,\n",
       "        \u001b[33mcased\u001b[0m=\u001b[3;91mFalse\u001b[0m,\n",
       "        \u001b[33mmax_seq_len\u001b[0m=\u001b[1;36m512\u001b[0m,\n",
       "        \u001b[33marxiv\u001b[0m=\u001b[32m'https://arxiv.org/abs/1906.05474'\u001b[0m\n",
       "    \u001b[1m)\u001b[0m,\n",
       "    \u001b[1;35mHuggingFaceModelDefinition\u001b[0m\u001b[1m(\u001b[0m\n",
       "        \u001b[33mname\u001b[0m=\u001b[32m'bluebert_pubmed_mimic_uncased_L-12_H-768_A-12'\u001b[0m,\n",
       "        \u001b[33mtokenizer_checkpoint\u001b[0m=\u001b[32m'bionlp/bluebert_pubmed_mimic_uncased_L-12_H-768_A-12'\u001b[0m,\n",
       "        \u001b[33mmodel_checkpoint\u001b[0m=\u001b[32m'bionlp/bluebert_pubmed_mimic_uncased_L-12_H-768_A-12'\u001b[0m,\n",
       "        \u001b[33mcased\u001b[0m=\u001b[3;91mFalse\u001b[0m,\n",
       "        \u001b[33mmax_seq_len\u001b[0m=\u001b[1;36m512\u001b[0m,\n",
       "        \u001b[33marxiv\u001b[0m=\u001b[32m'https://arxiv.org/abs/1906.05474'\u001b[0m\n",
       "    \u001b[1m)\u001b[0m\n",
       "\u001b[1m]\u001b[0m\n"
      ]
     },
     "metadata": {},
     "output_type": "display_data"
    }
   ],
   "source": [
    "print(MODEL_DEFS)"
   ]
  },
  {
   "cell_type": "markdown",
   "id": "f39df68e",
   "metadata": {},
   "source": [
    "# Show Token Count Measures"
   ]
  },
  {
   "cell_type": "code",
   "execution_count": 26,
   "id": "d3e3e432",
   "metadata": {},
   "outputs": [
    {
     "name": "stdout",
     "output_type": "stream",
     "text": [
      "mimic-corpus-token-counts-num-samples-10000.csv\r\n"
     ]
    }
   ],
   "source": [
    "!ls ../eval_bio_lms/tokenization_output/"
   ]
  },
  {
   "cell_type": "code",
   "execution_count": 27,
   "id": "0b6c18d7",
   "metadata": {},
   "outputs": [],
   "source": [
    "df_tok_counts = pd.read_csv('../eval_bio_lms/tokenization_output/mimic-corpus-token-counts-num-samples-10000.csv')"
   ]
  },
  {
   "cell_type": "code",
   "execution_count": 28,
   "id": "d72d857c",
   "metadata": {},
   "outputs": [
    {
     "data": {
      "text/html": [
       "<div>\n",
       "<style scoped>\n",
       "    .dataframe tbody tr th:only-of-type {\n",
       "        vertical-align: middle;\n",
       "    }\n",
       "\n",
       "    .dataframe tbody tr th {\n",
       "        vertical-align: top;\n",
       "    }\n",
       "\n",
       "    .dataframe thead th {\n",
       "        text-align: right;\n",
       "    }\n",
       "</style>\n",
       "<table border=\"1\" class=\"dataframe\">\n",
       "  <thead>\n",
       "    <tr style=\"text-align: right;\">\n",
       "      <th></th>\n",
       "      <th>BioLinkBERT-base</th>\n",
       "      <th>BioLinkBERT-large</th>\n",
       "      <th>bert-base-uncased</th>\n",
       "      <th>bert-base-cased</th>\n",
       "      <th>roberta-base</th>\n",
       "      <th>roberta-large</th>\n",
       "      <th>biobert-base-cased-v1.2</th>\n",
       "      <th>scibert_scivocab_uncased</th>\n",
       "      <th>scibert_scivocab_cased</th>\n",
       "      <th>BiomedNLP-PubMedBERT-base-uncased-abstract</th>\n",
       "      <th>BiomedNLP-PubMedBERT-base-uncased-abstract-fulltext</th>\n",
       "      <th>Bio_ClinicalBERT</th>\n",
       "      <th>bluebert_pubmed_uncased_L-24_H-1024_A-16</th>\n",
       "      <th>bluebert_pubmed_mimic_uncased_L-24_H-1024_A-16</th>\n",
       "      <th>bluebert_pubmed_uncased_L-12_H-768_A-12</th>\n",
       "      <th>bluebert_pubmed_mimic_uncased_L-12_H-768_A-12</th>\n",
       "    </tr>\n",
       "  </thead>\n",
       "  <tbody>\n",
       "    <tr>\n",
       "      <th>0</th>\n",
       "      <td>342</td>\n",
       "      <td>342</td>\n",
       "      <td>377</td>\n",
       "      <td>440</td>\n",
       "      <td>346</td>\n",
       "      <td>346</td>\n",
       "      <td>440</td>\n",
       "      <td>343</td>\n",
       "      <td>381</td>\n",
       "      <td>342</td>\n",
       "      <td>340</td>\n",
       "      <td>379</td>\n",
       "      <td>377</td>\n",
       "      <td>377</td>\n",
       "      <td>377</td>\n",
       "      <td>377</td>\n",
       "    </tr>\n",
       "    <tr>\n",
       "      <th>1</th>\n",
       "      <td>338</td>\n",
       "      <td>338</td>\n",
       "      <td>344</td>\n",
       "      <td>415</td>\n",
       "      <td>321</td>\n",
       "      <td>321</td>\n",
       "      <td>415</td>\n",
       "      <td>337</td>\n",
       "      <td>377</td>\n",
       "      <td>338</td>\n",
       "      <td>338</td>\n",
       "      <td>349</td>\n",
       "      <td>344</td>\n",
       "      <td>344</td>\n",
       "      <td>344</td>\n",
       "      <td>344</td>\n",
       "    </tr>\n",
       "    <tr>\n",
       "      <th>2</th>\n",
       "      <td>348</td>\n",
       "      <td>348</td>\n",
       "      <td>354</td>\n",
       "      <td>404</td>\n",
       "      <td>330</td>\n",
       "      <td>330</td>\n",
       "      <td>404</td>\n",
       "      <td>349</td>\n",
       "      <td>373</td>\n",
       "      <td>348</td>\n",
       "      <td>350</td>\n",
       "      <td>360</td>\n",
       "      <td>354</td>\n",
       "      <td>354</td>\n",
       "      <td>354</td>\n",
       "      <td>354</td>\n",
       "    </tr>\n",
       "    <tr>\n",
       "      <th>3</th>\n",
       "      <td>144</td>\n",
       "      <td>144</td>\n",
       "      <td>155</td>\n",
       "      <td>289</td>\n",
       "      <td>250</td>\n",
       "      <td>250</td>\n",
       "      <td>289</td>\n",
       "      <td>146</td>\n",
       "      <td>229</td>\n",
       "      <td>144</td>\n",
       "      <td>142</td>\n",
       "      <td>168</td>\n",
       "      <td>155</td>\n",
       "      <td>155</td>\n",
       "      <td>155</td>\n",
       "      <td>155</td>\n",
       "    </tr>\n",
       "    <tr>\n",
       "      <th>4</th>\n",
       "      <td>216</td>\n",
       "      <td>216</td>\n",
       "      <td>221</td>\n",
       "      <td>243</td>\n",
       "      <td>247</td>\n",
       "      <td>247</td>\n",
       "      <td>243</td>\n",
       "      <td>212</td>\n",
       "      <td>221</td>\n",
       "      <td>216</td>\n",
       "      <td>213</td>\n",
       "      <td>240</td>\n",
       "      <td>221</td>\n",
       "      <td>221</td>\n",
       "      <td>221</td>\n",
       "      <td>221</td>\n",
       "    </tr>\n",
       "    <tr>\n",
       "      <th>...</th>\n",
       "      <td>...</td>\n",
       "      <td>...</td>\n",
       "      <td>...</td>\n",
       "      <td>...</td>\n",
       "      <td>...</td>\n",
       "      <td>...</td>\n",
       "      <td>...</td>\n",
       "      <td>...</td>\n",
       "      <td>...</td>\n",
       "      <td>...</td>\n",
       "      <td>...</td>\n",
       "      <td>...</td>\n",
       "      <td>...</td>\n",
       "      <td>...</td>\n",
       "      <td>...</td>\n",
       "      <td>...</td>\n",
       "    </tr>\n",
       "    <tr>\n",
       "      <th>9995</th>\n",
       "      <td>317</td>\n",
       "      <td>317</td>\n",
       "      <td>333</td>\n",
       "      <td>353</td>\n",
       "      <td>324</td>\n",
       "      <td>324</td>\n",
       "      <td>353</td>\n",
       "      <td>317</td>\n",
       "      <td>333</td>\n",
       "      <td>317</td>\n",
       "      <td>315</td>\n",
       "      <td>350</td>\n",
       "      <td>333</td>\n",
       "      <td>333</td>\n",
       "      <td>333</td>\n",
       "      <td>333</td>\n",
       "    </tr>\n",
       "    <tr>\n",
       "      <th>9996</th>\n",
       "      <td>393</td>\n",
       "      <td>393</td>\n",
       "      <td>414</td>\n",
       "      <td>446</td>\n",
       "      <td>382</td>\n",
       "      <td>382</td>\n",
       "      <td>446</td>\n",
       "      <td>393</td>\n",
       "      <td>414</td>\n",
       "      <td>393</td>\n",
       "      <td>395</td>\n",
       "      <td>413</td>\n",
       "      <td>414</td>\n",
       "      <td>414</td>\n",
       "      <td>414</td>\n",
       "      <td>414</td>\n",
       "    </tr>\n",
       "    <tr>\n",
       "      <th>9997</th>\n",
       "      <td>48</td>\n",
       "      <td>48</td>\n",
       "      <td>58</td>\n",
       "      <td>61</td>\n",
       "      <td>58</td>\n",
       "      <td>58</td>\n",
       "      <td>61</td>\n",
       "      <td>48</td>\n",
       "      <td>50</td>\n",
       "      <td>48</td>\n",
       "      <td>48</td>\n",
       "      <td>59</td>\n",
       "      <td>58</td>\n",
       "      <td>58</td>\n",
       "      <td>58</td>\n",
       "      <td>58</td>\n",
       "    </tr>\n",
       "    <tr>\n",
       "      <th>9998</th>\n",
       "      <td>1027</td>\n",
       "      <td>1027</td>\n",
       "      <td>1141</td>\n",
       "      <td>1281</td>\n",
       "      <td>2370</td>\n",
       "      <td>2370</td>\n",
       "      <td>1281</td>\n",
       "      <td>1070</td>\n",
       "      <td>1167</td>\n",
       "      <td>1027</td>\n",
       "      <td>1022</td>\n",
       "      <td>1196</td>\n",
       "      <td>1141</td>\n",
       "      <td>1141</td>\n",
       "      <td>1141</td>\n",
       "      <td>1141</td>\n",
       "    </tr>\n",
       "    <tr>\n",
       "      <th>9999</th>\n",
       "      <td>37</td>\n",
       "      <td>37</td>\n",
       "      <td>46</td>\n",
       "      <td>46</td>\n",
       "      <td>45</td>\n",
       "      <td>45</td>\n",
       "      <td>46</td>\n",
       "      <td>37</td>\n",
       "      <td>41</td>\n",
       "      <td>37</td>\n",
       "      <td>37</td>\n",
       "      <td>46</td>\n",
       "      <td>46</td>\n",
       "      <td>46</td>\n",
       "      <td>46</td>\n",
       "      <td>46</td>\n",
       "    </tr>\n",
       "  </tbody>\n",
       "</table>\n",
       "<p>10000 rows × 16 columns</p>\n",
       "</div>"
      ],
      "text/plain": [
       "      BioLinkBERT-base  BioLinkBERT-large  bert-base-uncased  bert-base-cased  \\\n",
       "0                  342                342                377              440   \n",
       "1                  338                338                344              415   \n",
       "2                  348                348                354              404   \n",
       "3                  144                144                155              289   \n",
       "4                  216                216                221              243   \n",
       "...                ...                ...                ...              ...   \n",
       "9995               317                317                333              353   \n",
       "9996               393                393                414              446   \n",
       "9997                48                 48                 58               61   \n",
       "9998              1027               1027               1141             1281   \n",
       "9999                37                 37                 46               46   \n",
       "\n",
       "      roberta-base  roberta-large  biobert-base-cased-v1.2  \\\n",
       "0              346            346                      440   \n",
       "1              321            321                      415   \n",
       "2              330            330                      404   \n",
       "3              250            250                      289   \n",
       "4              247            247                      243   \n",
       "...            ...            ...                      ...   \n",
       "9995           324            324                      353   \n",
       "9996           382            382                      446   \n",
       "9997            58             58                       61   \n",
       "9998          2370           2370                     1281   \n",
       "9999            45             45                       46   \n",
       "\n",
       "      scibert_scivocab_uncased  scibert_scivocab_cased  \\\n",
       "0                          343                     381   \n",
       "1                          337                     377   \n",
       "2                          349                     373   \n",
       "3                          146                     229   \n",
       "4                          212                     221   \n",
       "...                        ...                     ...   \n",
       "9995                       317                     333   \n",
       "9996                       393                     414   \n",
       "9997                        48                      50   \n",
       "9998                      1070                    1167   \n",
       "9999                        37                      41   \n",
       "\n",
       "      BiomedNLP-PubMedBERT-base-uncased-abstract  \\\n",
       "0                                            342   \n",
       "1                                            338   \n",
       "2                                            348   \n",
       "3                                            144   \n",
       "4                                            216   \n",
       "...                                          ...   \n",
       "9995                                         317   \n",
       "9996                                         393   \n",
       "9997                                          48   \n",
       "9998                                        1027   \n",
       "9999                                          37   \n",
       "\n",
       "      BiomedNLP-PubMedBERT-base-uncased-abstract-fulltext  Bio_ClinicalBERT  \\\n",
       "0                                                   340                 379   \n",
       "1                                                   338                 349   \n",
       "2                                                   350                 360   \n",
       "3                                                   142                 168   \n",
       "4                                                   213                 240   \n",
       "...                                                 ...                 ...   \n",
       "9995                                                315                 350   \n",
       "9996                                                395                 413   \n",
       "9997                                                 48                  59   \n",
       "9998                                               1022                1196   \n",
       "9999                                                 37                  46   \n",
       "\n",
       "      bluebert_pubmed_uncased_L-24_H-1024_A-16  \\\n",
       "0                                          377   \n",
       "1                                          344   \n",
       "2                                          354   \n",
       "3                                          155   \n",
       "4                                          221   \n",
       "...                                        ...   \n",
       "9995                                       333   \n",
       "9996                                       414   \n",
       "9997                                        58   \n",
       "9998                                      1141   \n",
       "9999                                        46   \n",
       "\n",
       "      bluebert_pubmed_mimic_uncased_L-24_H-1024_A-16  \\\n",
       "0                                                377   \n",
       "1                                                344   \n",
       "2                                                354   \n",
       "3                                                155   \n",
       "4                                                221   \n",
       "...                                              ...   \n",
       "9995                                             333   \n",
       "9996                                             414   \n",
       "9997                                              58   \n",
       "9998                                            1141   \n",
       "9999                                              46   \n",
       "\n",
       "      bluebert_pubmed_uncased_L-12_H-768_A-12  \\\n",
       "0                                         377   \n",
       "1                                         344   \n",
       "2                                         354   \n",
       "3                                         155   \n",
       "4                                         221   \n",
       "...                                       ...   \n",
       "9995                                      333   \n",
       "9996                                      414   \n",
       "9997                                       58   \n",
       "9998                                     1141   \n",
       "9999                                       46   \n",
       "\n",
       "      bluebert_pubmed_mimic_uncased_L-12_H-768_A-12  \n",
       "0                                               377  \n",
       "1                                               344  \n",
       "2                                               354  \n",
       "3                                               155  \n",
       "4                                               221  \n",
       "...                                             ...  \n",
       "9995                                            333  \n",
       "9996                                            414  \n",
       "9997                                             58  \n",
       "9998                                           1141  \n",
       "9999                                             46  \n",
       "\n",
       "[10000 rows x 16 columns]"
      ]
     },
     "execution_count": 28,
     "metadata": {},
     "output_type": "execute_result"
    }
   ],
   "source": [
    "df_tok_counts"
   ]
  },
  {
   "cell_type": "code",
   "execution_count": 29,
   "id": "e25b36fd",
   "metadata": {},
   "outputs": [
    {
     "data": {
      "text/html": [
       "<div>\n",
       "<style scoped>\n",
       "    .dataframe tbody tr th:only-of-type {\n",
       "        vertical-align: middle;\n",
       "    }\n",
       "\n",
       "    .dataframe tbody tr th {\n",
       "        vertical-align: top;\n",
       "    }\n",
       "\n",
       "    .dataframe thead th {\n",
       "        text-align: right;\n",
       "    }\n",
       "</style>\n",
       "<table border=\"1\" class=\"dataframe\">\n",
       "  <thead>\n",
       "    <tr style=\"text-align: right;\">\n",
       "      <th></th>\n",
       "      <th>model</th>\n",
       "      <th>mean tokens per sample</th>\n",
       "      <th>cased</th>\n",
       "    </tr>\n",
       "  </thead>\n",
       "  <tbody>\n",
       "    <tr>\n",
       "      <th>0</th>\n",
       "      <td>BioLinkBERT-base</td>\n",
       "      <td>472.8750</td>\n",
       "      <td>False</td>\n",
       "    </tr>\n",
       "    <tr>\n",
       "      <th>1</th>\n",
       "      <td>BioLinkBERT-large</td>\n",
       "      <td>472.8750</td>\n",
       "      <td>False</td>\n",
       "    </tr>\n",
       "    <tr>\n",
       "      <th>9</th>\n",
       "      <td>BiomedNLP-PubMedBERT-base-uncased-abstract</td>\n",
       "      <td>472.8750</td>\n",
       "      <td>False</td>\n",
       "    </tr>\n",
       "    <tr>\n",
       "      <th>10</th>\n",
       "      <td>BiomedNLP-PubMedBERT-base-uncased-abstract-ful...</td>\n",
       "      <td>473.4483</td>\n",
       "      <td>False</td>\n",
       "    </tr>\n",
       "    <tr>\n",
       "      <th>7</th>\n",
       "      <td>scibert_scivocab_uncased</td>\n",
       "      <td>482.1416</td>\n",
       "      <td>False</td>\n",
       "    </tr>\n",
       "    <tr>\n",
       "      <th>2</th>\n",
       "      <td>bert-base-uncased</td>\n",
       "      <td>518.8460</td>\n",
       "      <td>False</td>\n",
       "    </tr>\n",
       "    <tr>\n",
       "      <th>12</th>\n",
       "      <td>bluebert_pubmed_uncased_L-24_H-1024_A-16</td>\n",
       "      <td>518.8460</td>\n",
       "      <td>False</td>\n",
       "    </tr>\n",
       "    <tr>\n",
       "      <th>13</th>\n",
       "      <td>bluebert_pubmed_mimic_uncased_L-24_H-1024_A-16</td>\n",
       "      <td>518.8460</td>\n",
       "      <td>False</td>\n",
       "    </tr>\n",
       "    <tr>\n",
       "      <th>14</th>\n",
       "      <td>bluebert_pubmed_uncased_L-12_H-768_A-12</td>\n",
       "      <td>518.8460</td>\n",
       "      <td>False</td>\n",
       "    </tr>\n",
       "    <tr>\n",
       "      <th>15</th>\n",
       "      <td>bluebert_pubmed_mimic_uncased_L-12_H-768_A-12</td>\n",
       "      <td>518.8460</td>\n",
       "      <td>False</td>\n",
       "    </tr>\n",
       "    <tr>\n",
       "      <th>8</th>\n",
       "      <td>scibert_scivocab_cased</td>\n",
       "      <td>526.8637</td>\n",
       "      <td>True</td>\n",
       "    </tr>\n",
       "    <tr>\n",
       "      <th>11</th>\n",
       "      <td>Bio_ClinicalBERT</td>\n",
       "      <td>543.9135</td>\n",
       "      <td>False</td>\n",
       "    </tr>\n",
       "    <tr>\n",
       "      <th>3</th>\n",
       "      <td>bert-base-cased</td>\n",
       "      <td>588.0590</td>\n",
       "      <td>True</td>\n",
       "    </tr>\n",
       "    <tr>\n",
       "      <th>6</th>\n",
       "      <td>biobert-base-cased-v1.2</td>\n",
       "      <td>588.0590</td>\n",
       "      <td>True</td>\n",
       "    </tr>\n",
       "    <tr>\n",
       "      <th>4</th>\n",
       "      <td>roberta-base</td>\n",
       "      <td>652.2282</td>\n",
       "      <td>True</td>\n",
       "    </tr>\n",
       "    <tr>\n",
       "      <th>5</th>\n",
       "      <td>roberta-large</td>\n",
       "      <td>652.2282</td>\n",
       "      <td>True</td>\n",
       "    </tr>\n",
       "  </tbody>\n",
       "</table>\n",
       "</div>"
      ],
      "text/plain": [
       "                                                model  mean tokens per sample  \\\n",
       "0                                    BioLinkBERT-base                472.8750   \n",
       "1                                   BioLinkBERT-large                472.8750   \n",
       "9          BiomedNLP-PubMedBERT-base-uncased-abstract                472.8750   \n",
       "10  BiomedNLP-PubMedBERT-base-uncased-abstract-ful...                473.4483   \n",
       "7                            scibert_scivocab_uncased                482.1416   \n",
       "2                                   bert-base-uncased                518.8460   \n",
       "12           bluebert_pubmed_uncased_L-24_H-1024_A-16                518.8460   \n",
       "13     bluebert_pubmed_mimic_uncased_L-24_H-1024_A-16                518.8460   \n",
       "14            bluebert_pubmed_uncased_L-12_H-768_A-12                518.8460   \n",
       "15      bluebert_pubmed_mimic_uncased_L-12_H-768_A-12                518.8460   \n",
       "8                              scibert_scivocab_cased                526.8637   \n",
       "11                                   Bio_ClinicalBERT                543.9135   \n",
       "3                                     bert-base-cased                588.0590   \n",
       "6                             biobert-base-cased-v1.2                588.0590   \n",
       "4                                        roberta-base                652.2282   \n",
       "5                                       roberta-large                652.2282   \n",
       "\n",
       "    cased  \n",
       "0   False  \n",
       "1   False  \n",
       "9   False  \n",
       "10  False  \n",
       "7   False  \n",
       "2   False  \n",
       "12  False  \n",
       "13  False  \n",
       "14  False  \n",
       "15  False  \n",
       "8    True  \n",
       "11  False  \n",
       "3    True  \n",
       "6    True  \n",
       "4    True  \n",
       "5    True  "
      ]
     },
     "execution_count": 29,
     "metadata": {},
     "output_type": "execute_result"
    }
   ],
   "source": [
    "df_plt = (\n",
    "    df_tok_counts\n",
    "    .mean()\n",
    "    .to_frame('mean tokens per sample')\n",
    "    .reset_index()\n",
    "    .rename(columns={'index': 'model'})\n",
    ")\n",
    "df_plt = df_plt.sort_values(\"mean tokens per sample\")\n",
    "df_plt[\"cased\"] = df_plt[\"model\"].apply(lambda x: MODEL_NAME_TO_DEF[x].cased)\n",
    "df_plt"
   ]
  },
  {
   "cell_type": "code",
   "execution_count": 30,
   "id": "9fcf92c9",
   "metadata": {},
   "outputs": [
    {
     "data": {
      "application/vnd.plotly.v1+json": {
       "config": {
        "plotlyServerURL": "https://plot.ly"
       },
       "data": [
        {
         "alignmentgroup": "True",
         "hovertemplate": "cased=False<br>mean tokens per sample=%{x}<br>model=%{y}<extra></extra>",
         "legendgroup": "False",
         "marker": {
          "color": "#636efa",
          "pattern": {
           "shape": ""
          }
         },
         "name": "False",
         "offsetgroup": "False",
         "orientation": "h",
         "showlegend": true,
         "textposition": "auto",
         "type": "bar",
         "x": [
          472.875,
          472.875,
          472.875,
          473.4483,
          482.1416,
          518.846,
          518.846,
          518.846,
          518.846,
          518.846,
          543.9135
         ],
         "xaxis": "x",
         "y": [
          "BioLinkBERT-base",
          "BioLinkBERT-large",
          "BiomedNLP-PubMedBERT-base-uncased-abstract",
          "BiomedNLP-PubMedBERT-base-uncased-abstract-fulltext",
          "scibert_scivocab_uncased",
          "bert-base-uncased",
          "bluebert_pubmed_uncased_L-24_H-1024_A-16",
          "bluebert_pubmed_mimic_uncased_L-24_H-1024_A-16",
          "bluebert_pubmed_uncased_L-12_H-768_A-12",
          "bluebert_pubmed_mimic_uncased_L-12_H-768_A-12",
          "Bio_ClinicalBERT"
         ],
         "yaxis": "y"
        },
        {
         "alignmentgroup": "True",
         "hovertemplate": "cased=True<br>mean tokens per sample=%{x}<br>model=%{y}<extra></extra>",
         "legendgroup": "True",
         "marker": {
          "color": "#EF553B",
          "pattern": {
           "shape": ""
          }
         },
         "name": "True",
         "offsetgroup": "True",
         "orientation": "h",
         "showlegend": true,
         "textposition": "auto",
         "type": "bar",
         "x": [
          526.8637,
          588.059,
          588.059,
          652.2282,
          652.2282
         ],
         "xaxis": "x",
         "y": [
          "scibert_scivocab_cased",
          "bert-base-cased",
          "biobert-base-cased-v1.2",
          "roberta-base",
          "roberta-large"
         ],
         "yaxis": "y"
        }
       ],
       "layout": {
        "barmode": "relative",
        "height": 500,
        "legend": {
         "title": {
          "text": "cased"
         },
         "tracegroupgap": 0
        },
        "margin": {
         "t": 60
        },
        "template": {
         "data": {
          "bar": [
           {
            "error_x": {
             "color": "#2a3f5f"
            },
            "error_y": {
             "color": "#2a3f5f"
            },
            "marker": {
             "line": {
              "color": "#E5ECF6",
              "width": 0.5
             },
             "pattern": {
              "fillmode": "overlay",
              "size": 10,
              "solidity": 0.2
             }
            },
            "type": "bar"
           }
          ],
          "barpolar": [
           {
            "marker": {
             "line": {
              "color": "#E5ECF6",
              "width": 0.5
             },
             "pattern": {
              "fillmode": "overlay",
              "size": 10,
              "solidity": 0.2
             }
            },
            "type": "barpolar"
           }
          ],
          "carpet": [
           {
            "aaxis": {
             "endlinecolor": "#2a3f5f",
             "gridcolor": "white",
             "linecolor": "white",
             "minorgridcolor": "white",
             "startlinecolor": "#2a3f5f"
            },
            "baxis": {
             "endlinecolor": "#2a3f5f",
             "gridcolor": "white",
             "linecolor": "white",
             "minorgridcolor": "white",
             "startlinecolor": "#2a3f5f"
            },
            "type": "carpet"
           }
          ],
          "choropleth": [
           {
            "colorbar": {
             "outlinewidth": 0,
             "ticks": ""
            },
            "type": "choropleth"
           }
          ],
          "contour": [
           {
            "colorbar": {
             "outlinewidth": 0,
             "ticks": ""
            },
            "colorscale": [
             [
              0,
              "#0d0887"
             ],
             [
              0.1111111111111111,
              "#46039f"
             ],
             [
              0.2222222222222222,
              "#7201a8"
             ],
             [
              0.3333333333333333,
              "#9c179e"
             ],
             [
              0.4444444444444444,
              "#bd3786"
             ],
             [
              0.5555555555555556,
              "#d8576b"
             ],
             [
              0.6666666666666666,
              "#ed7953"
             ],
             [
              0.7777777777777778,
              "#fb9f3a"
             ],
             [
              0.8888888888888888,
              "#fdca26"
             ],
             [
              1,
              "#f0f921"
             ]
            ],
            "type": "contour"
           }
          ],
          "contourcarpet": [
           {
            "colorbar": {
             "outlinewidth": 0,
             "ticks": ""
            },
            "type": "contourcarpet"
           }
          ],
          "heatmap": [
           {
            "colorbar": {
             "outlinewidth": 0,
             "ticks": ""
            },
            "colorscale": [
             [
              0,
              "#0d0887"
             ],
             [
              0.1111111111111111,
              "#46039f"
             ],
             [
              0.2222222222222222,
              "#7201a8"
             ],
             [
              0.3333333333333333,
              "#9c179e"
             ],
             [
              0.4444444444444444,
              "#bd3786"
             ],
             [
              0.5555555555555556,
              "#d8576b"
             ],
             [
              0.6666666666666666,
              "#ed7953"
             ],
             [
              0.7777777777777778,
              "#fb9f3a"
             ],
             [
              0.8888888888888888,
              "#fdca26"
             ],
             [
              1,
              "#f0f921"
             ]
            ],
            "type": "heatmap"
           }
          ],
          "heatmapgl": [
           {
            "colorbar": {
             "outlinewidth": 0,
             "ticks": ""
            },
            "colorscale": [
             [
              0,
              "#0d0887"
             ],
             [
              0.1111111111111111,
              "#46039f"
             ],
             [
              0.2222222222222222,
              "#7201a8"
             ],
             [
              0.3333333333333333,
              "#9c179e"
             ],
             [
              0.4444444444444444,
              "#bd3786"
             ],
             [
              0.5555555555555556,
              "#d8576b"
             ],
             [
              0.6666666666666666,
              "#ed7953"
             ],
             [
              0.7777777777777778,
              "#fb9f3a"
             ],
             [
              0.8888888888888888,
              "#fdca26"
             ],
             [
              1,
              "#f0f921"
             ]
            ],
            "type": "heatmapgl"
           }
          ],
          "histogram": [
           {
            "marker": {
             "pattern": {
              "fillmode": "overlay",
              "size": 10,
              "solidity": 0.2
             }
            },
            "type": "histogram"
           }
          ],
          "histogram2d": [
           {
            "colorbar": {
             "outlinewidth": 0,
             "ticks": ""
            },
            "colorscale": [
             [
              0,
              "#0d0887"
             ],
             [
              0.1111111111111111,
              "#46039f"
             ],
             [
              0.2222222222222222,
              "#7201a8"
             ],
             [
              0.3333333333333333,
              "#9c179e"
             ],
             [
              0.4444444444444444,
              "#bd3786"
             ],
             [
              0.5555555555555556,
              "#d8576b"
             ],
             [
              0.6666666666666666,
              "#ed7953"
             ],
             [
              0.7777777777777778,
              "#fb9f3a"
             ],
             [
              0.8888888888888888,
              "#fdca26"
             ],
             [
              1,
              "#f0f921"
             ]
            ],
            "type": "histogram2d"
           }
          ],
          "histogram2dcontour": [
           {
            "colorbar": {
             "outlinewidth": 0,
             "ticks": ""
            },
            "colorscale": [
             [
              0,
              "#0d0887"
             ],
             [
              0.1111111111111111,
              "#46039f"
             ],
             [
              0.2222222222222222,
              "#7201a8"
             ],
             [
              0.3333333333333333,
              "#9c179e"
             ],
             [
              0.4444444444444444,
              "#bd3786"
             ],
             [
              0.5555555555555556,
              "#d8576b"
             ],
             [
              0.6666666666666666,
              "#ed7953"
             ],
             [
              0.7777777777777778,
              "#fb9f3a"
             ],
             [
              0.8888888888888888,
              "#fdca26"
             ],
             [
              1,
              "#f0f921"
             ]
            ],
            "type": "histogram2dcontour"
           }
          ],
          "mesh3d": [
           {
            "colorbar": {
             "outlinewidth": 0,
             "ticks": ""
            },
            "type": "mesh3d"
           }
          ],
          "parcoords": [
           {
            "line": {
             "colorbar": {
              "outlinewidth": 0,
              "ticks": ""
             }
            },
            "type": "parcoords"
           }
          ],
          "pie": [
           {
            "automargin": true,
            "type": "pie"
           }
          ],
          "scatter": [
           {
            "marker": {
             "colorbar": {
              "outlinewidth": 0,
              "ticks": ""
             }
            },
            "type": "scatter"
           }
          ],
          "scatter3d": [
           {
            "line": {
             "colorbar": {
              "outlinewidth": 0,
              "ticks": ""
             }
            },
            "marker": {
             "colorbar": {
              "outlinewidth": 0,
              "ticks": ""
             }
            },
            "type": "scatter3d"
           }
          ],
          "scattercarpet": [
           {
            "marker": {
             "colorbar": {
              "outlinewidth": 0,
              "ticks": ""
             }
            },
            "type": "scattercarpet"
           }
          ],
          "scattergeo": [
           {
            "marker": {
             "colorbar": {
              "outlinewidth": 0,
              "ticks": ""
             }
            },
            "type": "scattergeo"
           }
          ],
          "scattergl": [
           {
            "marker": {
             "colorbar": {
              "outlinewidth": 0,
              "ticks": ""
             }
            },
            "type": "scattergl"
           }
          ],
          "scattermapbox": [
           {
            "marker": {
             "colorbar": {
              "outlinewidth": 0,
              "ticks": ""
             }
            },
            "type": "scattermapbox"
           }
          ],
          "scatterpolar": [
           {
            "marker": {
             "colorbar": {
              "outlinewidth": 0,
              "ticks": ""
             }
            },
            "type": "scatterpolar"
           }
          ],
          "scatterpolargl": [
           {
            "marker": {
             "colorbar": {
              "outlinewidth": 0,
              "ticks": ""
             }
            },
            "type": "scatterpolargl"
           }
          ],
          "scatterternary": [
           {
            "marker": {
             "colorbar": {
              "outlinewidth": 0,
              "ticks": ""
             }
            },
            "type": "scatterternary"
           }
          ],
          "surface": [
           {
            "colorbar": {
             "outlinewidth": 0,
             "ticks": ""
            },
            "colorscale": [
             [
              0,
              "#0d0887"
             ],
             [
              0.1111111111111111,
              "#46039f"
             ],
             [
              0.2222222222222222,
              "#7201a8"
             ],
             [
              0.3333333333333333,
              "#9c179e"
             ],
             [
              0.4444444444444444,
              "#bd3786"
             ],
             [
              0.5555555555555556,
              "#d8576b"
             ],
             [
              0.6666666666666666,
              "#ed7953"
             ],
             [
              0.7777777777777778,
              "#fb9f3a"
             ],
             [
              0.8888888888888888,
              "#fdca26"
             ],
             [
              1,
              "#f0f921"
             ]
            ],
            "type": "surface"
           }
          ],
          "table": [
           {
            "cells": {
             "fill": {
              "color": "#EBF0F8"
             },
             "line": {
              "color": "white"
             }
            },
            "header": {
             "fill": {
              "color": "#C8D4E3"
             },
             "line": {
              "color": "white"
             }
            },
            "type": "table"
           }
          ]
         },
         "layout": {
          "annotationdefaults": {
           "arrowcolor": "#2a3f5f",
           "arrowhead": 0,
           "arrowwidth": 1
          },
          "autotypenumbers": "strict",
          "coloraxis": {
           "colorbar": {
            "outlinewidth": 0,
            "ticks": ""
           }
          },
          "colorscale": {
           "diverging": [
            [
             0,
             "#8e0152"
            ],
            [
             0.1,
             "#c51b7d"
            ],
            [
             0.2,
             "#de77ae"
            ],
            [
             0.3,
             "#f1b6da"
            ],
            [
             0.4,
             "#fde0ef"
            ],
            [
             0.5,
             "#f7f7f7"
            ],
            [
             0.6,
             "#e6f5d0"
            ],
            [
             0.7,
             "#b8e186"
            ],
            [
             0.8,
             "#7fbc41"
            ],
            [
             0.9,
             "#4d9221"
            ],
            [
             1,
             "#276419"
            ]
           ],
           "sequential": [
            [
             0,
             "#0d0887"
            ],
            [
             0.1111111111111111,
             "#46039f"
            ],
            [
             0.2222222222222222,
             "#7201a8"
            ],
            [
             0.3333333333333333,
             "#9c179e"
            ],
            [
             0.4444444444444444,
             "#bd3786"
            ],
            [
             0.5555555555555556,
             "#d8576b"
            ],
            [
             0.6666666666666666,
             "#ed7953"
            ],
            [
             0.7777777777777778,
             "#fb9f3a"
            ],
            [
             0.8888888888888888,
             "#fdca26"
            ],
            [
             1,
             "#f0f921"
            ]
           ],
           "sequentialminus": [
            [
             0,
             "#0d0887"
            ],
            [
             0.1111111111111111,
             "#46039f"
            ],
            [
             0.2222222222222222,
             "#7201a8"
            ],
            [
             0.3333333333333333,
             "#9c179e"
            ],
            [
             0.4444444444444444,
             "#bd3786"
            ],
            [
             0.5555555555555556,
             "#d8576b"
            ],
            [
             0.6666666666666666,
             "#ed7953"
            ],
            [
             0.7777777777777778,
             "#fb9f3a"
            ],
            [
             0.8888888888888888,
             "#fdca26"
            ],
            [
             1,
             "#f0f921"
            ]
           ]
          },
          "colorway": [
           "#636efa",
           "#EF553B",
           "#00cc96",
           "#ab63fa",
           "#FFA15A",
           "#19d3f3",
           "#FF6692",
           "#B6E880",
           "#FF97FF",
           "#FECB52"
          ],
          "font": {
           "color": "#2a3f5f"
          },
          "geo": {
           "bgcolor": "white",
           "lakecolor": "white",
           "landcolor": "#E5ECF6",
           "showlakes": true,
           "showland": true,
           "subunitcolor": "white"
          },
          "hoverlabel": {
           "align": "left"
          },
          "hovermode": "closest",
          "mapbox": {
           "style": "light"
          },
          "paper_bgcolor": "white",
          "plot_bgcolor": "#E5ECF6",
          "polar": {
           "angularaxis": {
            "gridcolor": "white",
            "linecolor": "white",
            "ticks": ""
           },
           "bgcolor": "#E5ECF6",
           "radialaxis": {
            "gridcolor": "white",
            "linecolor": "white",
            "ticks": ""
           }
          },
          "scene": {
           "xaxis": {
            "backgroundcolor": "#E5ECF6",
            "gridcolor": "white",
            "gridwidth": 2,
            "linecolor": "white",
            "showbackground": true,
            "ticks": "",
            "zerolinecolor": "white"
           },
           "yaxis": {
            "backgroundcolor": "#E5ECF6",
            "gridcolor": "white",
            "gridwidth": 2,
            "linecolor": "white",
            "showbackground": true,
            "ticks": "",
            "zerolinecolor": "white"
           },
           "zaxis": {
            "backgroundcolor": "#E5ECF6",
            "gridcolor": "white",
            "gridwidth": 2,
            "linecolor": "white",
            "showbackground": true,
            "ticks": "",
            "zerolinecolor": "white"
           }
          },
          "shapedefaults": {
           "line": {
            "color": "#2a3f5f"
           }
          },
          "ternary": {
           "aaxis": {
            "gridcolor": "white",
            "linecolor": "white",
            "ticks": ""
           },
           "baxis": {
            "gridcolor": "white",
            "linecolor": "white",
            "ticks": ""
           },
           "bgcolor": "#E5ECF6",
           "caxis": {
            "gridcolor": "white",
            "linecolor": "white",
            "ticks": ""
           }
          },
          "title": {
           "x": 0.05
          },
          "xaxis": {
           "automargin": true,
           "gridcolor": "white",
           "linecolor": "white",
           "ticks": "",
           "title": {
            "standoff": 15
           },
           "zerolinecolor": "white",
           "zerolinewidth": 2
          },
          "yaxis": {
           "automargin": true,
           "gridcolor": "white",
           "linecolor": "white",
           "ticks": "",
           "title": {
            "standoff": 15
           },
           "zerolinecolor": "white",
           "zerolinewidth": 2
          }
         }
        },
        "xaxis": {
         "anchor": "y",
         "domain": [
          0,
          1
         ],
         "title": {
          "text": "mean tokens per sample"
         }
        },
        "yaxis": {
         "anchor": "x",
         "domain": [
          0,
          1
         ],
         "title": {
          "text": "model"
         }
        }
       }
      },
      "text/html": [
       "<div>                            <div id=\"da88f9e6-04d7-409e-8243-0ad32976829b\" class=\"plotly-graph-div\" style=\"height:500px; width:100%;\"></div>            <script type=\"text/javascript\">                require([\"plotly\"], function(Plotly) {                    window.PLOTLYENV=window.PLOTLYENV || {};                                    if (document.getElementById(\"da88f9e6-04d7-409e-8243-0ad32976829b\")) {                    Plotly.newPlot(                        \"da88f9e6-04d7-409e-8243-0ad32976829b\",                        [{\"alignmentgroup\":\"True\",\"hovertemplate\":\"cased=False<br>mean tokens per sample=%{x}<br>model=%{y}<extra></extra>\",\"legendgroup\":\"False\",\"marker\":{\"color\":\"#636efa\",\"pattern\":{\"shape\":\"\"}},\"name\":\"False\",\"offsetgroup\":\"False\",\"orientation\":\"h\",\"showlegend\":true,\"textposition\":\"auto\",\"x\":[472.875,472.875,472.875,473.4483,482.1416,518.846,518.846,518.846,518.846,518.846,543.9135],\"xaxis\":\"x\",\"y\":[\"BioLinkBERT-base\",\"BioLinkBERT-large\",\"BiomedNLP-PubMedBERT-base-uncased-abstract\",\"BiomedNLP-PubMedBERT-base-uncased-abstract-fulltext\",\"scibert_scivocab_uncased\",\"bert-base-uncased\",\"bluebert_pubmed_uncased_L-24_H-1024_A-16\",\"bluebert_pubmed_mimic_uncased_L-24_H-1024_A-16\",\"bluebert_pubmed_uncased_L-12_H-768_A-12\",\"bluebert_pubmed_mimic_uncased_L-12_H-768_A-12\",\"Bio_ClinicalBERT\"],\"yaxis\":\"y\",\"type\":\"bar\"},{\"alignmentgroup\":\"True\",\"hovertemplate\":\"cased=True<br>mean tokens per sample=%{x}<br>model=%{y}<extra></extra>\",\"legendgroup\":\"True\",\"marker\":{\"color\":\"#EF553B\",\"pattern\":{\"shape\":\"\"}},\"name\":\"True\",\"offsetgroup\":\"True\",\"orientation\":\"h\",\"showlegend\":true,\"textposition\":\"auto\",\"x\":[526.8637,588.059,588.059,652.2282,652.2282],\"xaxis\":\"x\",\"y\":[\"scibert_scivocab_cased\",\"bert-base-cased\",\"biobert-base-cased-v1.2\",\"roberta-base\",\"roberta-large\"],\"yaxis\":\"y\",\"type\":\"bar\"}],                        {\"template\":{\"data\":{\"bar\":[{\"error_x\":{\"color\":\"#2a3f5f\"},\"error_y\":{\"color\":\"#2a3f5f\"},\"marker\":{\"line\":{\"color\":\"#E5ECF6\",\"width\":0.5},\"pattern\":{\"fillmode\":\"overlay\",\"size\":10,\"solidity\":0.2}},\"type\":\"bar\"}],\"barpolar\":[{\"marker\":{\"line\":{\"color\":\"#E5ECF6\",\"width\":0.5},\"pattern\":{\"fillmode\":\"overlay\",\"size\":10,\"solidity\":0.2}},\"type\":\"barpolar\"}],\"carpet\":[{\"aaxis\":{\"endlinecolor\":\"#2a3f5f\",\"gridcolor\":\"white\",\"linecolor\":\"white\",\"minorgridcolor\":\"white\",\"startlinecolor\":\"#2a3f5f\"},\"baxis\":{\"endlinecolor\":\"#2a3f5f\",\"gridcolor\":\"white\",\"linecolor\":\"white\",\"minorgridcolor\":\"white\",\"startlinecolor\":\"#2a3f5f\"},\"type\":\"carpet\"}],\"choropleth\":[{\"colorbar\":{\"outlinewidth\":0,\"ticks\":\"\"},\"type\":\"choropleth\"}],\"contour\":[{\"colorbar\":{\"outlinewidth\":0,\"ticks\":\"\"},\"colorscale\":[[0.0,\"#0d0887\"],[0.1111111111111111,\"#46039f\"],[0.2222222222222222,\"#7201a8\"],[0.3333333333333333,\"#9c179e\"],[0.4444444444444444,\"#bd3786\"],[0.5555555555555556,\"#d8576b\"],[0.6666666666666666,\"#ed7953\"],[0.7777777777777778,\"#fb9f3a\"],[0.8888888888888888,\"#fdca26\"],[1.0,\"#f0f921\"]],\"type\":\"contour\"}],\"contourcarpet\":[{\"colorbar\":{\"outlinewidth\":0,\"ticks\":\"\"},\"type\":\"contourcarpet\"}],\"heatmap\":[{\"colorbar\":{\"outlinewidth\":0,\"ticks\":\"\"},\"colorscale\":[[0.0,\"#0d0887\"],[0.1111111111111111,\"#46039f\"],[0.2222222222222222,\"#7201a8\"],[0.3333333333333333,\"#9c179e\"],[0.4444444444444444,\"#bd3786\"],[0.5555555555555556,\"#d8576b\"],[0.6666666666666666,\"#ed7953\"],[0.7777777777777778,\"#fb9f3a\"],[0.8888888888888888,\"#fdca26\"],[1.0,\"#f0f921\"]],\"type\":\"heatmap\"}],\"heatmapgl\":[{\"colorbar\":{\"outlinewidth\":0,\"ticks\":\"\"},\"colorscale\":[[0.0,\"#0d0887\"],[0.1111111111111111,\"#46039f\"],[0.2222222222222222,\"#7201a8\"],[0.3333333333333333,\"#9c179e\"],[0.4444444444444444,\"#bd3786\"],[0.5555555555555556,\"#d8576b\"],[0.6666666666666666,\"#ed7953\"],[0.7777777777777778,\"#fb9f3a\"],[0.8888888888888888,\"#fdca26\"],[1.0,\"#f0f921\"]],\"type\":\"heatmapgl\"}],\"histogram\":[{\"marker\":{\"pattern\":{\"fillmode\":\"overlay\",\"size\":10,\"solidity\":0.2}},\"type\":\"histogram\"}],\"histogram2d\":[{\"colorbar\":{\"outlinewidth\":0,\"ticks\":\"\"},\"colorscale\":[[0.0,\"#0d0887\"],[0.1111111111111111,\"#46039f\"],[0.2222222222222222,\"#7201a8\"],[0.3333333333333333,\"#9c179e\"],[0.4444444444444444,\"#bd3786\"],[0.5555555555555556,\"#d8576b\"],[0.6666666666666666,\"#ed7953\"],[0.7777777777777778,\"#fb9f3a\"],[0.8888888888888888,\"#fdca26\"],[1.0,\"#f0f921\"]],\"type\":\"histogram2d\"}],\"histogram2dcontour\":[{\"colorbar\":{\"outlinewidth\":0,\"ticks\":\"\"},\"colorscale\":[[0.0,\"#0d0887\"],[0.1111111111111111,\"#46039f\"],[0.2222222222222222,\"#7201a8\"],[0.3333333333333333,\"#9c179e\"],[0.4444444444444444,\"#bd3786\"],[0.5555555555555556,\"#d8576b\"],[0.6666666666666666,\"#ed7953\"],[0.7777777777777778,\"#fb9f3a\"],[0.8888888888888888,\"#fdca26\"],[1.0,\"#f0f921\"]],\"type\":\"histogram2dcontour\"}],\"mesh3d\":[{\"colorbar\":{\"outlinewidth\":0,\"ticks\":\"\"},\"type\":\"mesh3d\"}],\"parcoords\":[{\"line\":{\"colorbar\":{\"outlinewidth\":0,\"ticks\":\"\"}},\"type\":\"parcoords\"}],\"pie\":[{\"automargin\":true,\"type\":\"pie\"}],\"scatter\":[{\"marker\":{\"colorbar\":{\"outlinewidth\":0,\"ticks\":\"\"}},\"type\":\"scatter\"}],\"scatter3d\":[{\"line\":{\"colorbar\":{\"outlinewidth\":0,\"ticks\":\"\"}},\"marker\":{\"colorbar\":{\"outlinewidth\":0,\"ticks\":\"\"}},\"type\":\"scatter3d\"}],\"scattercarpet\":[{\"marker\":{\"colorbar\":{\"outlinewidth\":0,\"ticks\":\"\"}},\"type\":\"scattercarpet\"}],\"scattergeo\":[{\"marker\":{\"colorbar\":{\"outlinewidth\":0,\"ticks\":\"\"}},\"type\":\"scattergeo\"}],\"scattergl\":[{\"marker\":{\"colorbar\":{\"outlinewidth\":0,\"ticks\":\"\"}},\"type\":\"scattergl\"}],\"scattermapbox\":[{\"marker\":{\"colorbar\":{\"outlinewidth\":0,\"ticks\":\"\"}},\"type\":\"scattermapbox\"}],\"scatterpolar\":[{\"marker\":{\"colorbar\":{\"outlinewidth\":0,\"ticks\":\"\"}},\"type\":\"scatterpolar\"}],\"scatterpolargl\":[{\"marker\":{\"colorbar\":{\"outlinewidth\":0,\"ticks\":\"\"}},\"type\":\"scatterpolargl\"}],\"scatterternary\":[{\"marker\":{\"colorbar\":{\"outlinewidth\":0,\"ticks\":\"\"}},\"type\":\"scatterternary\"}],\"surface\":[{\"colorbar\":{\"outlinewidth\":0,\"ticks\":\"\"},\"colorscale\":[[0.0,\"#0d0887\"],[0.1111111111111111,\"#46039f\"],[0.2222222222222222,\"#7201a8\"],[0.3333333333333333,\"#9c179e\"],[0.4444444444444444,\"#bd3786\"],[0.5555555555555556,\"#d8576b\"],[0.6666666666666666,\"#ed7953\"],[0.7777777777777778,\"#fb9f3a\"],[0.8888888888888888,\"#fdca26\"],[1.0,\"#f0f921\"]],\"type\":\"surface\"}],\"table\":[{\"cells\":{\"fill\":{\"color\":\"#EBF0F8\"},\"line\":{\"color\":\"white\"}},\"header\":{\"fill\":{\"color\":\"#C8D4E3\"},\"line\":{\"color\":\"white\"}},\"type\":\"table\"}]},\"layout\":{\"annotationdefaults\":{\"arrowcolor\":\"#2a3f5f\",\"arrowhead\":0,\"arrowwidth\":1},\"autotypenumbers\":\"strict\",\"coloraxis\":{\"colorbar\":{\"outlinewidth\":0,\"ticks\":\"\"}},\"colorscale\":{\"diverging\":[[0,\"#8e0152\"],[0.1,\"#c51b7d\"],[0.2,\"#de77ae\"],[0.3,\"#f1b6da\"],[0.4,\"#fde0ef\"],[0.5,\"#f7f7f7\"],[0.6,\"#e6f5d0\"],[0.7,\"#b8e186\"],[0.8,\"#7fbc41\"],[0.9,\"#4d9221\"],[1,\"#276419\"]],\"sequential\":[[0.0,\"#0d0887\"],[0.1111111111111111,\"#46039f\"],[0.2222222222222222,\"#7201a8\"],[0.3333333333333333,\"#9c179e\"],[0.4444444444444444,\"#bd3786\"],[0.5555555555555556,\"#d8576b\"],[0.6666666666666666,\"#ed7953\"],[0.7777777777777778,\"#fb9f3a\"],[0.8888888888888888,\"#fdca26\"],[1.0,\"#f0f921\"]],\"sequentialminus\":[[0.0,\"#0d0887\"],[0.1111111111111111,\"#46039f\"],[0.2222222222222222,\"#7201a8\"],[0.3333333333333333,\"#9c179e\"],[0.4444444444444444,\"#bd3786\"],[0.5555555555555556,\"#d8576b\"],[0.6666666666666666,\"#ed7953\"],[0.7777777777777778,\"#fb9f3a\"],[0.8888888888888888,\"#fdca26\"],[1.0,\"#f0f921\"]]},\"colorway\":[\"#636efa\",\"#EF553B\",\"#00cc96\",\"#ab63fa\",\"#FFA15A\",\"#19d3f3\",\"#FF6692\",\"#B6E880\",\"#FF97FF\",\"#FECB52\"],\"font\":{\"color\":\"#2a3f5f\"},\"geo\":{\"bgcolor\":\"white\",\"lakecolor\":\"white\",\"landcolor\":\"#E5ECF6\",\"showlakes\":true,\"showland\":true,\"subunitcolor\":\"white\"},\"hoverlabel\":{\"align\":\"left\"},\"hovermode\":\"closest\",\"mapbox\":{\"style\":\"light\"},\"paper_bgcolor\":\"white\",\"plot_bgcolor\":\"#E5ECF6\",\"polar\":{\"angularaxis\":{\"gridcolor\":\"white\",\"linecolor\":\"white\",\"ticks\":\"\"},\"bgcolor\":\"#E5ECF6\",\"radialaxis\":{\"gridcolor\":\"white\",\"linecolor\":\"white\",\"ticks\":\"\"}},\"scene\":{\"xaxis\":{\"backgroundcolor\":\"#E5ECF6\",\"gridcolor\":\"white\",\"gridwidth\":2,\"linecolor\":\"white\",\"showbackground\":true,\"ticks\":\"\",\"zerolinecolor\":\"white\"},\"yaxis\":{\"backgroundcolor\":\"#E5ECF6\",\"gridcolor\":\"white\",\"gridwidth\":2,\"linecolor\":\"white\",\"showbackground\":true,\"ticks\":\"\",\"zerolinecolor\":\"white\"},\"zaxis\":{\"backgroundcolor\":\"#E5ECF6\",\"gridcolor\":\"white\",\"gridwidth\":2,\"linecolor\":\"white\",\"showbackground\":true,\"ticks\":\"\",\"zerolinecolor\":\"white\"}},\"shapedefaults\":{\"line\":{\"color\":\"#2a3f5f\"}},\"ternary\":{\"aaxis\":{\"gridcolor\":\"white\",\"linecolor\":\"white\",\"ticks\":\"\"},\"baxis\":{\"gridcolor\":\"white\",\"linecolor\":\"white\",\"ticks\":\"\"},\"bgcolor\":\"#E5ECF6\",\"caxis\":{\"gridcolor\":\"white\",\"linecolor\":\"white\",\"ticks\":\"\"}},\"title\":{\"x\":0.05},\"xaxis\":{\"automargin\":true,\"gridcolor\":\"white\",\"linecolor\":\"white\",\"ticks\":\"\",\"title\":{\"standoff\":15},\"zerolinecolor\":\"white\",\"zerolinewidth\":2},\"yaxis\":{\"automargin\":true,\"gridcolor\":\"white\",\"linecolor\":\"white\",\"ticks\":\"\",\"title\":{\"standoff\":15},\"zerolinecolor\":\"white\",\"zerolinewidth\":2}}},\"xaxis\":{\"anchor\":\"y\",\"domain\":[0.0,1.0],\"title\":{\"text\":\"mean tokens per sample\"}},\"yaxis\":{\"anchor\":\"x\",\"domain\":[0.0,1.0],\"title\":{\"text\":\"model\"}},\"legend\":{\"title\":{\"text\":\"cased\"},\"tracegroupgap\":0},\"margin\":{\"t\":60},\"barmode\":\"relative\",\"height\":500},                        {\"responsive\": true}                    ).then(function(){\n",
       "                            \n",
       "var gd = document.getElementById('da88f9e6-04d7-409e-8243-0ad32976829b');\n",
       "var x = new MutationObserver(function (mutations, observer) {{\n",
       "        var display = window.getComputedStyle(gd).display;\n",
       "        if (!display || display === 'none') {{\n",
       "            console.log([gd, 'removed!']);\n",
       "            Plotly.purge(gd);\n",
       "            observer.disconnect();\n",
       "        }}\n",
       "}});\n",
       "\n",
       "// Listen for the removal of the full notebook cells\n",
       "var notebookContainer = gd.closest('#notebook-container');\n",
       "if (notebookContainer) {{\n",
       "    x.observe(notebookContainer, {childList: true});\n",
       "}}\n",
       "\n",
       "// Listen for the clearing of the current output cell\n",
       "var outputEl = gd.closest('.output');\n",
       "if (outputEl) {{\n",
       "    x.observe(outputEl, {childList: true});\n",
       "}}\n",
       "\n",
       "                        })                };                });            </script>        </div>"
      ]
     },
     "metadata": {},
     "output_type": "display_data"
    }
   ],
   "source": [
    "fig = px.bar(df_plt, x='mean tokens per sample', y='model', color=\"cased\", height=500)\n",
    "fig.show()"
   ]
  },
  {
   "cell_type": "markdown",
   "id": "23133772",
   "metadata": {},
   "source": [
    "# Show Masked Language Modeling Measures"
   ]
  },
  {
   "cell_type": "code",
   "execution_count": 31,
   "id": "7e1b50c3",
   "metadata": {},
   "outputs": [
    {
     "name": "stdout",
     "output_type": "stream",
     "text": [
      "mimic-corpus-mlm-num-samples-10000.csv\r\n"
     ]
    }
   ],
   "source": [
    "!ls ../eval_bio_lms/mlm_output/"
   ]
  },
  {
   "cell_type": "code",
   "execution_count": 32,
   "id": "d836006c",
   "metadata": {},
   "outputs": [],
   "source": [
    "df_mlm = pd.read_csv('../eval_bio_lms/mlm_output/mimic-corpus-mlm-num-samples-10000.csv')"
   ]
  },
  {
   "cell_type": "code",
   "execution_count": 33,
   "id": "e3cd25f3",
   "metadata": {},
   "outputs": [
    {
     "data": {
      "text/html": [
       "<div>\n",
       "<style scoped>\n",
       "    .dataframe tbody tr th:only-of-type {\n",
       "        vertical-align: middle;\n",
       "    }\n",
       "\n",
       "    .dataframe tbody tr th {\n",
       "        vertical-align: top;\n",
       "    }\n",
       "\n",
       "    .dataframe thead th {\n",
       "        text-align: right;\n",
       "    }\n",
       "</style>\n",
       "<table border=\"1\" class=\"dataframe\">\n",
       "  <thead>\n",
       "    <tr style=\"text-align: right;\">\n",
       "      <th></th>\n",
       "      <th>eval_loss</th>\n",
       "      <th>eval_accuracy</th>\n",
       "      <th>eval_runtime</th>\n",
       "      <th>eval_samples_per_second</th>\n",
       "      <th>eval_steps_per_second</th>\n",
       "      <th>model_name</th>\n",
       "      <th>num_seq</th>\n",
       "      <th>perplexity</th>\n",
       "    </tr>\n",
       "  </thead>\n",
       "  <tbody>\n",
       "    <tr>\n",
       "      <th>0</th>\n",
       "      <td>12.562969</td>\n",
       "      <td>0.000009</td>\n",
       "      <td>57.3360</td>\n",
       "      <td>644.133</td>\n",
       "      <td>2.529</td>\n",
       "      <td>BioLinkBERT-base</td>\n",
       "      <td>36932</td>\n",
       "      <td>285777.612244</td>\n",
       "    </tr>\n",
       "    <tr>\n",
       "      <th>1</th>\n",
       "      <td>2.813987</td>\n",
       "      <td>0.547744</td>\n",
       "      <td>140.9433</td>\n",
       "      <td>262.035</td>\n",
       "      <td>1.029</td>\n",
       "      <td>BioLinkBERT-large</td>\n",
       "      <td>36932</td>\n",
       "      <td>16.676270</td>\n",
       "    </tr>\n",
       "    <tr>\n",
       "      <th>2</th>\n",
       "      <td>3.855733</td>\n",
       "      <td>0.423751</td>\n",
       "      <td>64.0789</td>\n",
       "      <td>632.392</td>\n",
       "      <td>2.481</td>\n",
       "      <td>bert-base-uncased</td>\n",
       "      <td>40523</td>\n",
       "      <td>47.263256</td>\n",
       "    </tr>\n",
       "    <tr>\n",
       "      <th>3</th>\n",
       "      <td>3.338733</td>\n",
       "      <td>0.460666</td>\n",
       "      <td>71.4966</td>\n",
       "      <td>642.422</td>\n",
       "      <td>2.518</td>\n",
       "      <td>bert-base-cased</td>\n",
       "      <td>45931</td>\n",
       "      <td>28.183401</td>\n",
       "    </tr>\n",
       "    <tr>\n",
       "      <th>4</th>\n",
       "      <td>3.807420</td>\n",
       "      <td>0.552228</td>\n",
       "      <td>88.6963</td>\n",
       "      <td>574.364</td>\n",
       "      <td>2.244</td>\n",
       "      <td>roberta-base</td>\n",
       "      <td>50944</td>\n",
       "      <td>45.034123</td>\n",
       "    </tr>\n",
       "    <tr>\n",
       "      <th>5</th>\n",
       "      <td>5.972937</td>\n",
       "      <td>0.578766</td>\n",
       "      <td>210.3097</td>\n",
       "      <td>242.233</td>\n",
       "      <td>0.946</td>\n",
       "      <td>roberta-large</td>\n",
       "      <td>50944</td>\n",
       "      <td>392.657068</td>\n",
       "    </tr>\n",
       "    <tr>\n",
       "      <th>6</th>\n",
       "      <td>2.797929</td>\n",
       "      <td>0.511646</td>\n",
       "      <td>72.2515</td>\n",
       "      <td>635.710</td>\n",
       "      <td>2.491</td>\n",
       "      <td>biobert-base-cased-v1.2</td>\n",
       "      <td>45931</td>\n",
       "      <td>16.410630</td>\n",
       "    </tr>\n",
       "    <tr>\n",
       "      <th>7</th>\n",
       "      <td>2.662429</td>\n",
       "      <td>0.561726</td>\n",
       "      <td>59.6941</td>\n",
       "      <td>630.816</td>\n",
       "      <td>2.479</td>\n",
       "      <td>scibert_scivocab_uncased</td>\n",
       "      <td>37656</td>\n",
       "      <td>14.331052</td>\n",
       "    </tr>\n",
       "    <tr>\n",
       "      <th>8</th>\n",
       "      <td>2.526538</td>\n",
       "      <td>0.578574</td>\n",
       "      <td>65.6153</td>\n",
       "      <td>627.171</td>\n",
       "      <td>2.454</td>\n",
       "      <td>scibert_scivocab_cased</td>\n",
       "      <td>41152</td>\n",
       "      <td>12.510123</td>\n",
       "    </tr>\n",
       "    <tr>\n",
       "      <th>9</th>\n",
       "      <td>3.287645</td>\n",
       "      <td>0.496420</td>\n",
       "      <td>57.6582</td>\n",
       "      <td>640.533</td>\n",
       "      <td>2.515</td>\n",
       "      <td>BiomedNLP-PubMedBERT-base-uncased-abstract</td>\n",
       "      <td>36932</td>\n",
       "      <td>26.779719</td>\n",
       "    </tr>\n",
       "    <tr>\n",
       "      <th>10</th>\n",
       "      <td>2.836150</td>\n",
       "      <td>0.547395</td>\n",
       "      <td>58.1997</td>\n",
       "      <td>635.347</td>\n",
       "      <td>2.491</td>\n",
       "      <td>BiomedNLP-PubMedBERT-base-uncased-abstract-ful...</td>\n",
       "      <td>36977</td>\n",
       "      <td>17.049995</td>\n",
       "    </tr>\n",
       "    <tr>\n",
       "      <th>11</th>\n",
       "      <td>2.075504</td>\n",
       "      <td>0.602646</td>\n",
       "      <td>65.3862</td>\n",
       "      <td>649.694</td>\n",
       "      <td>2.539</td>\n",
       "      <td>Bio_ClinicalBERT</td>\n",
       "      <td>42481</td>\n",
       "      <td>7.968562</td>\n",
       "    </tr>\n",
       "    <tr>\n",
       "      <th>12</th>\n",
       "      <td>3.979763</td>\n",
       "      <td>0.411428</td>\n",
       "      <td>156.1347</td>\n",
       "      <td>259.539</td>\n",
       "      <td>1.018</td>\n",
       "      <td>bluebert_pubmed_uncased_L-24_H-1024_A-16</td>\n",
       "      <td>40523</td>\n",
       "      <td>53.504354</td>\n",
       "    </tr>\n",
       "    <tr>\n",
       "      <th>13</th>\n",
       "      <td>3.330667</td>\n",
       "      <td>0.507287</td>\n",
       "      <td>156.3339</td>\n",
       "      <td>259.208</td>\n",
       "      <td>1.017</td>\n",
       "      <td>bluebert_pubmed_mimic_uncased_L-24_H-1024_A-16</td>\n",
       "      <td>40523</td>\n",
       "      <td>27.956990</td>\n",
       "    </tr>\n",
       "    <tr>\n",
       "      <th>14</th>\n",
       "      <td>3.682498</td>\n",
       "      <td>0.429799</td>\n",
       "      <td>63.7121</td>\n",
       "      <td>636.033</td>\n",
       "      <td>2.496</td>\n",
       "      <td>bluebert_pubmed_uncased_L-12_H-768_A-12</td>\n",
       "      <td>40523</td>\n",
       "      <td>39.745535</td>\n",
       "    </tr>\n",
       "    <tr>\n",
       "      <th>15</th>\n",
       "      <td>2.401485</td>\n",
       "      <td>0.666323</td>\n",
       "      <td>63.2744</td>\n",
       "      <td>640.433</td>\n",
       "      <td>2.513</td>\n",
       "      <td>bluebert_pubmed_mimic_uncased_L-12_H-768_A-12</td>\n",
       "      <td>40523</td>\n",
       "      <td>11.039555</td>\n",
       "    </tr>\n",
       "  </tbody>\n",
       "</table>\n",
       "</div>"
      ],
      "text/plain": [
       "    eval_loss  eval_accuracy  eval_runtime  eval_samples_per_second  \\\n",
       "0   12.562969       0.000009       57.3360                  644.133   \n",
       "1    2.813987       0.547744      140.9433                  262.035   \n",
       "2    3.855733       0.423751       64.0789                  632.392   \n",
       "3    3.338733       0.460666       71.4966                  642.422   \n",
       "4    3.807420       0.552228       88.6963                  574.364   \n",
       "5    5.972937       0.578766      210.3097                  242.233   \n",
       "6    2.797929       0.511646       72.2515                  635.710   \n",
       "7    2.662429       0.561726       59.6941                  630.816   \n",
       "8    2.526538       0.578574       65.6153                  627.171   \n",
       "9    3.287645       0.496420       57.6582                  640.533   \n",
       "10   2.836150       0.547395       58.1997                  635.347   \n",
       "11   2.075504       0.602646       65.3862                  649.694   \n",
       "12   3.979763       0.411428      156.1347                  259.539   \n",
       "13   3.330667       0.507287      156.3339                  259.208   \n",
       "14   3.682498       0.429799       63.7121                  636.033   \n",
       "15   2.401485       0.666323       63.2744                  640.433   \n",
       "\n",
       "    eval_steps_per_second                                         model_name  \\\n",
       "0                   2.529                                   BioLinkBERT-base   \n",
       "1                   1.029                                  BioLinkBERT-large   \n",
       "2                   2.481                                  bert-base-uncased   \n",
       "3                   2.518                                    bert-base-cased   \n",
       "4                   2.244                                       roberta-base   \n",
       "5                   0.946                                      roberta-large   \n",
       "6                   2.491                            biobert-base-cased-v1.2   \n",
       "7                   2.479                           scibert_scivocab_uncased   \n",
       "8                   2.454                             scibert_scivocab_cased   \n",
       "9                   2.515         BiomedNLP-PubMedBERT-base-uncased-abstract   \n",
       "10                  2.491  BiomedNLP-PubMedBERT-base-uncased-abstract-ful...   \n",
       "11                  2.539                                   Bio_ClinicalBERT   \n",
       "12                  1.018           bluebert_pubmed_uncased_L-24_H-1024_A-16   \n",
       "13                  1.017     bluebert_pubmed_mimic_uncased_L-24_H-1024_A-16   \n",
       "14                  2.496            bluebert_pubmed_uncased_L-12_H-768_A-12   \n",
       "15                  2.513      bluebert_pubmed_mimic_uncased_L-12_H-768_A-12   \n",
       "\n",
       "    num_seq     perplexity  \n",
       "0     36932  285777.612244  \n",
       "1     36932      16.676270  \n",
       "2     40523      47.263256  \n",
       "3     45931      28.183401  \n",
       "4     50944      45.034123  \n",
       "5     50944     392.657068  \n",
       "6     45931      16.410630  \n",
       "7     37656      14.331052  \n",
       "8     41152      12.510123  \n",
       "9     36932      26.779719  \n",
       "10    36977      17.049995  \n",
       "11    42481       7.968562  \n",
       "12    40523      53.504354  \n",
       "13    40523      27.956990  \n",
       "14    40523      39.745535  \n",
       "15    40523      11.039555  "
      ]
     },
     "execution_count": 33,
     "metadata": {},
     "output_type": "execute_result"
    }
   ],
   "source": [
    "df_mlm"
   ]
  },
  {
   "cell_type": "code",
   "execution_count": 34,
   "id": "b695ece1",
   "metadata": {},
   "outputs": [],
   "source": [
    "#df_mlm['perplexity'] = df_mlm['perplexity'].clip(0,100)"
   ]
  },
  {
   "cell_type": "code",
   "execution_count": 37,
   "id": "2ecbb8c6",
   "metadata": {},
   "outputs": [
    {
     "data": {
      "text/html": [
       "<div>\n",
       "<style scoped>\n",
       "    .dataframe tbody tr th:only-of-type {\n",
       "        vertical-align: middle;\n",
       "    }\n",
       "\n",
       "    .dataframe tbody tr th {\n",
       "        vertical-align: top;\n",
       "    }\n",
       "\n",
       "    .dataframe thead th {\n",
       "        text-align: right;\n",
       "    }\n",
       "</style>\n",
       "<table border=\"1\" class=\"dataframe\">\n",
       "  <thead>\n",
       "    <tr style=\"text-align: right;\">\n",
       "      <th></th>\n",
       "      <th>model_name</th>\n",
       "      <th>variable</th>\n",
       "      <th>value</th>\n",
       "      <th>cased</th>\n",
       "    </tr>\n",
       "  </thead>\n",
       "  <tbody>\n",
       "    <tr>\n",
       "      <th>11</th>\n",
       "      <td>Bio_ClinicalBERT</td>\n",
       "      <td>eval_loss</td>\n",
       "      <td>2.075504</td>\n",
       "      <td>False</td>\n",
       "    </tr>\n",
       "    <tr>\n",
       "      <th>15</th>\n",
       "      <td>bluebert_pubmed_mimic_uncased_L-12_H-768_A-12</td>\n",
       "      <td>eval_loss</td>\n",
       "      <td>2.401485</td>\n",
       "      <td>False</td>\n",
       "    </tr>\n",
       "    <tr>\n",
       "      <th>8</th>\n",
       "      <td>scibert_scivocab_cased</td>\n",
       "      <td>eval_loss</td>\n",
       "      <td>2.526538</td>\n",
       "      <td>True</td>\n",
       "    </tr>\n",
       "    <tr>\n",
       "      <th>7</th>\n",
       "      <td>scibert_scivocab_uncased</td>\n",
       "      <td>eval_loss</td>\n",
       "      <td>2.662429</td>\n",
       "      <td>False</td>\n",
       "    </tr>\n",
       "    <tr>\n",
       "      <th>6</th>\n",
       "      <td>biobert-base-cased-v1.2</td>\n",
       "      <td>eval_loss</td>\n",
       "      <td>2.797929</td>\n",
       "      <td>True</td>\n",
       "    </tr>\n",
       "    <tr>\n",
       "      <th>1</th>\n",
       "      <td>BioLinkBERT-large</td>\n",
       "      <td>eval_loss</td>\n",
       "      <td>2.813987</td>\n",
       "      <td>False</td>\n",
       "    </tr>\n",
       "    <tr>\n",
       "      <th>10</th>\n",
       "      <td>BiomedNLP-PubMedBERT-base-uncased-abstract-ful...</td>\n",
       "      <td>eval_loss</td>\n",
       "      <td>2.836150</td>\n",
       "      <td>False</td>\n",
       "    </tr>\n",
       "    <tr>\n",
       "      <th>9</th>\n",
       "      <td>BiomedNLP-PubMedBERT-base-uncased-abstract</td>\n",
       "      <td>eval_loss</td>\n",
       "      <td>3.287645</td>\n",
       "      <td>False</td>\n",
       "    </tr>\n",
       "    <tr>\n",
       "      <th>13</th>\n",
       "      <td>bluebert_pubmed_mimic_uncased_L-24_H-1024_A-16</td>\n",
       "      <td>eval_loss</td>\n",
       "      <td>3.330667</td>\n",
       "      <td>False</td>\n",
       "    </tr>\n",
       "    <tr>\n",
       "      <th>3</th>\n",
       "      <td>bert-base-cased</td>\n",
       "      <td>eval_loss</td>\n",
       "      <td>3.338733</td>\n",
       "      <td>True</td>\n",
       "    </tr>\n",
       "    <tr>\n",
       "      <th>14</th>\n",
       "      <td>bluebert_pubmed_uncased_L-12_H-768_A-12</td>\n",
       "      <td>eval_loss</td>\n",
       "      <td>3.682498</td>\n",
       "      <td>False</td>\n",
       "    </tr>\n",
       "    <tr>\n",
       "      <th>4</th>\n",
       "      <td>roberta-base</td>\n",
       "      <td>eval_loss</td>\n",
       "      <td>3.807420</td>\n",
       "      <td>True</td>\n",
       "    </tr>\n",
       "    <tr>\n",
       "      <th>2</th>\n",
       "      <td>bert-base-uncased</td>\n",
       "      <td>eval_loss</td>\n",
       "      <td>3.855733</td>\n",
       "      <td>False</td>\n",
       "    </tr>\n",
       "    <tr>\n",
       "      <th>12</th>\n",
       "      <td>bluebert_pubmed_uncased_L-24_H-1024_A-16</td>\n",
       "      <td>eval_loss</td>\n",
       "      <td>3.979763</td>\n",
       "      <td>False</td>\n",
       "    </tr>\n",
       "    <tr>\n",
       "      <th>5</th>\n",
       "      <td>roberta-large</td>\n",
       "      <td>eval_loss</td>\n",
       "      <td>5.972937</td>\n",
       "      <td>True</td>\n",
       "    </tr>\n",
       "    <tr>\n",
       "      <th>0</th>\n",
       "      <td>BioLinkBERT-base</td>\n",
       "      <td>eval_loss</td>\n",
       "      <td>12.562969</td>\n",
       "      <td>False</td>\n",
       "    </tr>\n",
       "    <tr>\n",
       "      <th>16</th>\n",
       "      <td>BioLinkBERT-base</td>\n",
       "      <td>eval_accuracy</td>\n",
       "      <td>0.000009</td>\n",
       "      <td>False</td>\n",
       "    </tr>\n",
       "    <tr>\n",
       "      <th>28</th>\n",
       "      <td>bluebert_pubmed_uncased_L-24_H-1024_A-16</td>\n",
       "      <td>eval_accuracy</td>\n",
       "      <td>0.411428</td>\n",
       "      <td>False</td>\n",
       "    </tr>\n",
       "    <tr>\n",
       "      <th>18</th>\n",
       "      <td>bert-base-uncased</td>\n",
       "      <td>eval_accuracy</td>\n",
       "      <td>0.423751</td>\n",
       "      <td>False</td>\n",
       "    </tr>\n",
       "    <tr>\n",
       "      <th>30</th>\n",
       "      <td>bluebert_pubmed_uncased_L-12_H-768_A-12</td>\n",
       "      <td>eval_accuracy</td>\n",
       "      <td>0.429799</td>\n",
       "      <td>False</td>\n",
       "    </tr>\n",
       "    <tr>\n",
       "      <th>19</th>\n",
       "      <td>bert-base-cased</td>\n",
       "      <td>eval_accuracy</td>\n",
       "      <td>0.460666</td>\n",
       "      <td>True</td>\n",
       "    </tr>\n",
       "    <tr>\n",
       "      <th>25</th>\n",
       "      <td>BiomedNLP-PubMedBERT-base-uncased-abstract</td>\n",
       "      <td>eval_accuracy</td>\n",
       "      <td>0.496420</td>\n",
       "      <td>False</td>\n",
       "    </tr>\n",
       "    <tr>\n",
       "      <th>29</th>\n",
       "      <td>bluebert_pubmed_mimic_uncased_L-24_H-1024_A-16</td>\n",
       "      <td>eval_accuracy</td>\n",
       "      <td>0.507287</td>\n",
       "      <td>False</td>\n",
       "    </tr>\n",
       "    <tr>\n",
       "      <th>22</th>\n",
       "      <td>biobert-base-cased-v1.2</td>\n",
       "      <td>eval_accuracy</td>\n",
       "      <td>0.511646</td>\n",
       "      <td>True</td>\n",
       "    </tr>\n",
       "    <tr>\n",
       "      <th>26</th>\n",
       "      <td>BiomedNLP-PubMedBERT-base-uncased-abstract-ful...</td>\n",
       "      <td>eval_accuracy</td>\n",
       "      <td>0.547395</td>\n",
       "      <td>False</td>\n",
       "    </tr>\n",
       "    <tr>\n",
       "      <th>17</th>\n",
       "      <td>BioLinkBERT-large</td>\n",
       "      <td>eval_accuracy</td>\n",
       "      <td>0.547744</td>\n",
       "      <td>False</td>\n",
       "    </tr>\n",
       "    <tr>\n",
       "      <th>20</th>\n",
       "      <td>roberta-base</td>\n",
       "      <td>eval_accuracy</td>\n",
       "      <td>0.552228</td>\n",
       "      <td>True</td>\n",
       "    </tr>\n",
       "    <tr>\n",
       "      <th>23</th>\n",
       "      <td>scibert_scivocab_uncased</td>\n",
       "      <td>eval_accuracy</td>\n",
       "      <td>0.561726</td>\n",
       "      <td>False</td>\n",
       "    </tr>\n",
       "    <tr>\n",
       "      <th>24</th>\n",
       "      <td>scibert_scivocab_cased</td>\n",
       "      <td>eval_accuracy</td>\n",
       "      <td>0.578574</td>\n",
       "      <td>True</td>\n",
       "    </tr>\n",
       "    <tr>\n",
       "      <th>21</th>\n",
       "      <td>roberta-large</td>\n",
       "      <td>eval_accuracy</td>\n",
       "      <td>0.578766</td>\n",
       "      <td>True</td>\n",
       "    </tr>\n",
       "    <tr>\n",
       "      <th>27</th>\n",
       "      <td>Bio_ClinicalBERT</td>\n",
       "      <td>eval_accuracy</td>\n",
       "      <td>0.602646</td>\n",
       "      <td>False</td>\n",
       "    </tr>\n",
       "    <tr>\n",
       "      <th>31</th>\n",
       "      <td>bluebert_pubmed_mimic_uncased_L-12_H-768_A-12</td>\n",
       "      <td>eval_accuracy</td>\n",
       "      <td>0.666323</td>\n",
       "      <td>False</td>\n",
       "    </tr>\n",
       "    <tr>\n",
       "      <th>43</th>\n",
       "      <td>Bio_ClinicalBERT</td>\n",
       "      <td>perplexity</td>\n",
       "      <td>7.968562</td>\n",
       "      <td>False</td>\n",
       "    </tr>\n",
       "    <tr>\n",
       "      <th>47</th>\n",
       "      <td>bluebert_pubmed_mimic_uncased_L-12_H-768_A-12</td>\n",
       "      <td>perplexity</td>\n",
       "      <td>11.039555</td>\n",
       "      <td>False</td>\n",
       "    </tr>\n",
       "    <tr>\n",
       "      <th>40</th>\n",
       "      <td>scibert_scivocab_cased</td>\n",
       "      <td>perplexity</td>\n",
       "      <td>12.510123</td>\n",
       "      <td>True</td>\n",
       "    </tr>\n",
       "    <tr>\n",
       "      <th>39</th>\n",
       "      <td>scibert_scivocab_uncased</td>\n",
       "      <td>perplexity</td>\n",
       "      <td>14.331052</td>\n",
       "      <td>False</td>\n",
       "    </tr>\n",
       "    <tr>\n",
       "      <th>38</th>\n",
       "      <td>biobert-base-cased-v1.2</td>\n",
       "      <td>perplexity</td>\n",
       "      <td>16.410630</td>\n",
       "      <td>True</td>\n",
       "    </tr>\n",
       "    <tr>\n",
       "      <th>33</th>\n",
       "      <td>BioLinkBERT-large</td>\n",
       "      <td>perplexity</td>\n",
       "      <td>16.676270</td>\n",
       "      <td>False</td>\n",
       "    </tr>\n",
       "    <tr>\n",
       "      <th>42</th>\n",
       "      <td>BiomedNLP-PubMedBERT-base-uncased-abstract-ful...</td>\n",
       "      <td>perplexity</td>\n",
       "      <td>17.049995</td>\n",
       "      <td>False</td>\n",
       "    </tr>\n",
       "    <tr>\n",
       "      <th>41</th>\n",
       "      <td>BiomedNLP-PubMedBERT-base-uncased-abstract</td>\n",
       "      <td>perplexity</td>\n",
       "      <td>26.779719</td>\n",
       "      <td>False</td>\n",
       "    </tr>\n",
       "    <tr>\n",
       "      <th>45</th>\n",
       "      <td>bluebert_pubmed_mimic_uncased_L-24_H-1024_A-16</td>\n",
       "      <td>perplexity</td>\n",
       "      <td>27.956990</td>\n",
       "      <td>False</td>\n",
       "    </tr>\n",
       "    <tr>\n",
       "      <th>35</th>\n",
       "      <td>bert-base-cased</td>\n",
       "      <td>perplexity</td>\n",
       "      <td>28.183401</td>\n",
       "      <td>True</td>\n",
       "    </tr>\n",
       "    <tr>\n",
       "      <th>46</th>\n",
       "      <td>bluebert_pubmed_uncased_L-12_H-768_A-12</td>\n",
       "      <td>perplexity</td>\n",
       "      <td>39.745535</td>\n",
       "      <td>False</td>\n",
       "    </tr>\n",
       "    <tr>\n",
       "      <th>36</th>\n",
       "      <td>roberta-base</td>\n",
       "      <td>perplexity</td>\n",
       "      <td>45.034123</td>\n",
       "      <td>True</td>\n",
       "    </tr>\n",
       "    <tr>\n",
       "      <th>34</th>\n",
       "      <td>bert-base-uncased</td>\n",
       "      <td>perplexity</td>\n",
       "      <td>47.263256</td>\n",
       "      <td>False</td>\n",
       "    </tr>\n",
       "    <tr>\n",
       "      <th>44</th>\n",
       "      <td>bluebert_pubmed_uncased_L-24_H-1024_A-16</td>\n",
       "      <td>perplexity</td>\n",
       "      <td>53.504354</td>\n",
       "      <td>False</td>\n",
       "    </tr>\n",
       "    <tr>\n",
       "      <th>37</th>\n",
       "      <td>roberta-large</td>\n",
       "      <td>perplexity</td>\n",
       "      <td>392.657068</td>\n",
       "      <td>True</td>\n",
       "    </tr>\n",
       "    <tr>\n",
       "      <th>32</th>\n",
       "      <td>BioLinkBERT-base</td>\n",
       "      <td>perplexity</td>\n",
       "      <td>285777.612244</td>\n",
       "      <td>False</td>\n",
       "    </tr>\n",
       "  </tbody>\n",
       "</table>\n",
       "</div>"
      ],
      "text/plain": [
       "                                           model_name       variable  \\\n",
       "11                                   Bio_ClinicalBERT      eval_loss   \n",
       "15      bluebert_pubmed_mimic_uncased_L-12_H-768_A-12      eval_loss   \n",
       "8                              scibert_scivocab_cased      eval_loss   \n",
       "7                            scibert_scivocab_uncased      eval_loss   \n",
       "6                             biobert-base-cased-v1.2      eval_loss   \n",
       "1                                   BioLinkBERT-large      eval_loss   \n",
       "10  BiomedNLP-PubMedBERT-base-uncased-abstract-ful...      eval_loss   \n",
       "9          BiomedNLP-PubMedBERT-base-uncased-abstract      eval_loss   \n",
       "13     bluebert_pubmed_mimic_uncased_L-24_H-1024_A-16      eval_loss   \n",
       "3                                     bert-base-cased      eval_loss   \n",
       "14            bluebert_pubmed_uncased_L-12_H-768_A-12      eval_loss   \n",
       "4                                        roberta-base      eval_loss   \n",
       "2                                   bert-base-uncased      eval_loss   \n",
       "12           bluebert_pubmed_uncased_L-24_H-1024_A-16      eval_loss   \n",
       "5                                       roberta-large      eval_loss   \n",
       "0                                    BioLinkBERT-base      eval_loss   \n",
       "16                                   BioLinkBERT-base  eval_accuracy   \n",
       "28           bluebert_pubmed_uncased_L-24_H-1024_A-16  eval_accuracy   \n",
       "18                                  bert-base-uncased  eval_accuracy   \n",
       "30            bluebert_pubmed_uncased_L-12_H-768_A-12  eval_accuracy   \n",
       "19                                    bert-base-cased  eval_accuracy   \n",
       "25         BiomedNLP-PubMedBERT-base-uncased-abstract  eval_accuracy   \n",
       "29     bluebert_pubmed_mimic_uncased_L-24_H-1024_A-16  eval_accuracy   \n",
       "22                            biobert-base-cased-v1.2  eval_accuracy   \n",
       "26  BiomedNLP-PubMedBERT-base-uncased-abstract-ful...  eval_accuracy   \n",
       "17                                  BioLinkBERT-large  eval_accuracy   \n",
       "20                                       roberta-base  eval_accuracy   \n",
       "23                           scibert_scivocab_uncased  eval_accuracy   \n",
       "24                             scibert_scivocab_cased  eval_accuracy   \n",
       "21                                      roberta-large  eval_accuracy   \n",
       "27                                   Bio_ClinicalBERT  eval_accuracy   \n",
       "31      bluebert_pubmed_mimic_uncased_L-12_H-768_A-12  eval_accuracy   \n",
       "43                                   Bio_ClinicalBERT     perplexity   \n",
       "47      bluebert_pubmed_mimic_uncased_L-12_H-768_A-12     perplexity   \n",
       "40                             scibert_scivocab_cased     perplexity   \n",
       "39                           scibert_scivocab_uncased     perplexity   \n",
       "38                            biobert-base-cased-v1.2     perplexity   \n",
       "33                                  BioLinkBERT-large     perplexity   \n",
       "42  BiomedNLP-PubMedBERT-base-uncased-abstract-ful...     perplexity   \n",
       "41         BiomedNLP-PubMedBERT-base-uncased-abstract     perplexity   \n",
       "45     bluebert_pubmed_mimic_uncased_L-24_H-1024_A-16     perplexity   \n",
       "35                                    bert-base-cased     perplexity   \n",
       "46            bluebert_pubmed_uncased_L-12_H-768_A-12     perplexity   \n",
       "36                                       roberta-base     perplexity   \n",
       "34                                  bert-base-uncased     perplexity   \n",
       "44           bluebert_pubmed_uncased_L-24_H-1024_A-16     perplexity   \n",
       "37                                      roberta-large     perplexity   \n",
       "32                                   BioLinkBERT-base     perplexity   \n",
       "\n",
       "            value  cased  \n",
       "11       2.075504  False  \n",
       "15       2.401485  False  \n",
       "8        2.526538   True  \n",
       "7        2.662429  False  \n",
       "6        2.797929   True  \n",
       "1        2.813987  False  \n",
       "10       2.836150  False  \n",
       "9        3.287645  False  \n",
       "13       3.330667  False  \n",
       "3        3.338733   True  \n",
       "14       3.682498  False  \n",
       "4        3.807420   True  \n",
       "2        3.855733  False  \n",
       "12       3.979763  False  \n",
       "5        5.972937   True  \n",
       "0       12.562969  False  \n",
       "16       0.000009  False  \n",
       "28       0.411428  False  \n",
       "18       0.423751  False  \n",
       "30       0.429799  False  \n",
       "19       0.460666   True  \n",
       "25       0.496420  False  \n",
       "29       0.507287  False  \n",
       "22       0.511646   True  \n",
       "26       0.547395  False  \n",
       "17       0.547744  False  \n",
       "20       0.552228   True  \n",
       "23       0.561726  False  \n",
       "24       0.578574   True  \n",
       "21       0.578766   True  \n",
       "27       0.602646  False  \n",
       "31       0.666323  False  \n",
       "43       7.968562  False  \n",
       "47      11.039555  False  \n",
       "40      12.510123   True  \n",
       "39      14.331052  False  \n",
       "38      16.410630   True  \n",
       "33      16.676270  False  \n",
       "42      17.049995  False  \n",
       "41      26.779719  False  \n",
       "45      27.956990  False  \n",
       "35      28.183401   True  \n",
       "46      39.745535  False  \n",
       "36      45.034123   True  \n",
       "34      47.263256  False  \n",
       "44      53.504354  False  \n",
       "37     392.657068   True  \n",
       "32  285777.612244  False  "
      ]
     },
     "execution_count": 37,
     "metadata": {},
     "output_type": "execute_result"
    }
   ],
   "source": [
    "df_plt = df_mlm[['eval_loss', 'eval_accuracy', 'perplexity', 'model_name']].melt(id_vars=['model_name'])\n",
    "df_plt = df_plt.sort_values(['variable', 'value'])\n",
    "var_groups = {var: df for var, df in df_plt.groupby(\"variable\")}\n",
    "df_plt = pd.concat([var_groups['eval_loss'], var_groups['eval_accuracy'], var_groups['perplexity']])\n",
    "df_plt[\"cased\"] = df_plt[\"model_name\"].apply(lambda x: MODEL_NAME_TO_DEF[x].cased)\n",
    "df_plt"
   ]
  },
  {
   "cell_type": "code",
   "execution_count": 38,
   "id": "02e371a9",
   "metadata": {},
   "outputs": [
    {
     "data": {
      "application/vnd.plotly.v1+json": {
       "config": {
        "plotlyServerURL": "https://plot.ly"
       },
       "data": [
        {
         "alignmentgroup": "True",
         "hovertemplate": "cased=False<br>variable=eval_loss<br>value=%{x}<br>model_name=%{y}<extra></extra>",
         "legendgroup": "False",
         "marker": {
          "color": "#636efa",
          "pattern": {
           "shape": ""
          }
         },
         "name": "False",
         "offsetgroup": "False",
         "orientation": "h",
         "showlegend": true,
         "textposition": "auto",
         "type": "bar",
         "x": [
          2.0755040645599365,
          2.401484727859497,
          2.662428617477417,
          2.8139867782592773,
          2.8361499309539795,
          3.287644863128662,
          3.33066725730896,
          3.682497501373291,
          3.855733156204224,
          3.9797630310058594,
          12.562969207763672
         ],
         "xaxis": "x3",
         "y": [
          "Bio_ClinicalBERT",
          "bluebert_pubmed_mimic_uncased_L-12_H-768_A-12",
          "scibert_scivocab_uncased",
          "BioLinkBERT-large",
          "BiomedNLP-PubMedBERT-base-uncased-abstract-fulltext",
          "BiomedNLP-PubMedBERT-base-uncased-abstract",
          "bluebert_pubmed_mimic_uncased_L-24_H-1024_A-16",
          "bluebert_pubmed_uncased_L-12_H-768_A-12",
          "bert-base-uncased",
          "bluebert_pubmed_uncased_L-24_H-1024_A-16",
          "BioLinkBERT-base"
         ],
         "yaxis": "y3"
        },
        {
         "alignmentgroup": "True",
         "hovertemplate": "cased=False<br>variable=eval_accuracy<br>value=%{x}<br>model_name=%{y}<extra></extra>",
         "legendgroup": "False",
         "marker": {
          "color": "#636efa",
          "pattern": {
           "shape": ""
          }
         },
         "name": "False",
         "offsetgroup": "False",
         "orientation": "h",
         "showlegend": false,
         "textposition": "auto",
         "type": "bar",
         "x": [
          8.51298087700729e-06,
          0.4114279139875019,
          0.4237514252251274,
          0.4297987750173871,
          0.4964202915412184,
          0.507287069426885,
          0.5473948791625755,
          0.5477436344185492,
          0.5617260328491176,
          0.6026456193714651,
          0.6663228028264057
         ],
         "xaxis": "x2",
         "y": [
          "BioLinkBERT-base",
          "bluebert_pubmed_uncased_L-24_H-1024_A-16",
          "bert-base-uncased",
          "bluebert_pubmed_uncased_L-12_H-768_A-12",
          "BiomedNLP-PubMedBERT-base-uncased-abstract",
          "bluebert_pubmed_mimic_uncased_L-24_H-1024_A-16",
          "BiomedNLP-PubMedBERT-base-uncased-abstract-fulltext",
          "BioLinkBERT-large",
          "scibert_scivocab_uncased",
          "Bio_ClinicalBERT",
          "bluebert_pubmed_mimic_uncased_L-12_H-768_A-12"
         ],
         "yaxis": "y2"
        },
        {
         "alignmentgroup": "True",
         "hovertemplate": "cased=False<br>variable=perplexity<br>value=%{x}<br>model_name=%{y}<extra></extra>",
         "legendgroup": "False",
         "marker": {
          "color": "#636efa",
          "pattern": {
           "shape": ""
          }
         },
         "name": "False",
         "offsetgroup": "False",
         "orientation": "h",
         "showlegend": false,
         "textposition": "auto",
         "type": "bar",
         "x": [
          7.968562116631054,
          11.039554953567084,
          14.331051511460222,
          16.67627045757553,
          17.04999534917757,
          26.779719423811542,
          27.95698998684808,
          39.74553474666713,
          47.26325559102103,
          53.50435385220811,
          285777.6122439755
         ],
         "xaxis": "x",
         "y": [
          "Bio_ClinicalBERT",
          "bluebert_pubmed_mimic_uncased_L-12_H-768_A-12",
          "scibert_scivocab_uncased",
          "BioLinkBERT-large",
          "BiomedNLP-PubMedBERT-base-uncased-abstract-fulltext",
          "BiomedNLP-PubMedBERT-base-uncased-abstract",
          "bluebert_pubmed_mimic_uncased_L-24_H-1024_A-16",
          "bluebert_pubmed_uncased_L-12_H-768_A-12",
          "bert-base-uncased",
          "bluebert_pubmed_uncased_L-24_H-1024_A-16",
          "BioLinkBERT-base"
         ],
         "yaxis": "y"
        },
        {
         "alignmentgroup": "True",
         "hovertemplate": "cased=True<br>variable=eval_loss<br>value=%{x}<br>model_name=%{y}<extra></extra>",
         "legendgroup": "True",
         "marker": {
          "color": "#EF553B",
          "pattern": {
           "shape": ""
          }
         },
         "name": "True",
         "offsetgroup": "True",
         "orientation": "h",
         "showlegend": true,
         "textposition": "auto",
         "type": "bar",
         "x": [
          2.526538133621216,
          2.797929286956787,
          3.338733196258545,
          3.807420492172241,
          5.972936630249023
         ],
         "xaxis": "x3",
         "y": [
          "scibert_scivocab_cased",
          "biobert-base-cased-v1.2",
          "bert-base-cased",
          "roberta-base",
          "roberta-large"
         ],
         "yaxis": "y3"
        },
        {
         "alignmentgroup": "True",
         "hovertemplate": "cased=True<br>variable=eval_accuracy<br>value=%{x}<br>model_name=%{y}<extra></extra>",
         "legendgroup": "True",
         "marker": {
          "color": "#EF553B",
          "pattern": {
           "shape": ""
          }
         },
         "name": "True",
         "offsetgroup": "True",
         "orientation": "h",
         "showlegend": false,
         "textposition": "auto",
         "type": "bar",
         "x": [
          0.4606659598964924,
          0.5116457485494113,
          0.5522283800650255,
          0.5785740739090982,
          0.5787655437021362
         ],
         "xaxis": "x2",
         "y": [
          "bert-base-cased",
          "biobert-base-cased-v1.2",
          "roberta-base",
          "scibert_scivocab_cased",
          "roberta-large"
         ],
         "yaxis": "y2"
        },
        {
         "alignmentgroup": "True",
         "hovertemplate": "cased=True<br>variable=perplexity<br>value=%{x}<br>model_name=%{y}<extra></extra>",
         "legendgroup": "True",
         "marker": {
          "color": "#EF553B",
          "pattern": {
           "shape": ""
          }
         },
         "name": "True",
         "offsetgroup": "True",
         "orientation": "h",
         "showlegend": false,
         "textposition": "auto",
         "type": "bar",
         "x": [
          12.510122712973228,
          16.41062985832455,
          28.18340124346969,
          45.03412303912544,
          392.6570679317218
         ],
         "xaxis": "x",
         "y": [
          "scibert_scivocab_cased",
          "biobert-base-cased-v1.2",
          "bert-base-cased",
          "roberta-base",
          "roberta-large"
         ],
         "yaxis": "y"
        }
       ],
       "layout": {
        "annotations": [
         {
          "font": {},
          "showarrow": false,
          "text": "variable=perplexity",
          "textangle": 90,
          "x": 0.98,
          "xanchor": "left",
          "xref": "paper",
          "y": 0.15666666666666665,
          "yanchor": "middle",
          "yref": "paper"
         },
         {
          "font": {},
          "showarrow": false,
          "text": "variable=eval_accuracy",
          "textangle": 90,
          "x": 0.98,
          "xanchor": "left",
          "xref": "paper",
          "y": 0.4999999999999999,
          "yanchor": "middle",
          "yref": "paper"
         },
         {
          "font": {},
          "showarrow": false,
          "text": "variable=eval_loss",
          "textangle": 90,
          "x": 0.98,
          "xanchor": "left",
          "xref": "paper",
          "y": 0.8433333333333332,
          "yanchor": "middle",
          "yref": "paper"
         }
        ],
        "barmode": "relative",
        "height": 1200,
        "legend": {
         "title": {
          "text": "cased"
         },
         "tracegroupgap": 0
        },
        "margin": {
         "t": 60
        },
        "template": {
         "data": {
          "bar": [
           {
            "error_x": {
             "color": "#2a3f5f"
            },
            "error_y": {
             "color": "#2a3f5f"
            },
            "marker": {
             "line": {
              "color": "#E5ECF6",
              "width": 0.5
             },
             "pattern": {
              "fillmode": "overlay",
              "size": 10,
              "solidity": 0.2
             }
            },
            "type": "bar"
           }
          ],
          "barpolar": [
           {
            "marker": {
             "line": {
              "color": "#E5ECF6",
              "width": 0.5
             },
             "pattern": {
              "fillmode": "overlay",
              "size": 10,
              "solidity": 0.2
             }
            },
            "type": "barpolar"
           }
          ],
          "carpet": [
           {
            "aaxis": {
             "endlinecolor": "#2a3f5f",
             "gridcolor": "white",
             "linecolor": "white",
             "minorgridcolor": "white",
             "startlinecolor": "#2a3f5f"
            },
            "baxis": {
             "endlinecolor": "#2a3f5f",
             "gridcolor": "white",
             "linecolor": "white",
             "minorgridcolor": "white",
             "startlinecolor": "#2a3f5f"
            },
            "type": "carpet"
           }
          ],
          "choropleth": [
           {
            "colorbar": {
             "outlinewidth": 0,
             "ticks": ""
            },
            "type": "choropleth"
           }
          ],
          "contour": [
           {
            "colorbar": {
             "outlinewidth": 0,
             "ticks": ""
            },
            "colorscale": [
             [
              0,
              "#0d0887"
             ],
             [
              0.1111111111111111,
              "#46039f"
             ],
             [
              0.2222222222222222,
              "#7201a8"
             ],
             [
              0.3333333333333333,
              "#9c179e"
             ],
             [
              0.4444444444444444,
              "#bd3786"
             ],
             [
              0.5555555555555556,
              "#d8576b"
             ],
             [
              0.6666666666666666,
              "#ed7953"
             ],
             [
              0.7777777777777778,
              "#fb9f3a"
             ],
             [
              0.8888888888888888,
              "#fdca26"
             ],
             [
              1,
              "#f0f921"
             ]
            ],
            "type": "contour"
           }
          ],
          "contourcarpet": [
           {
            "colorbar": {
             "outlinewidth": 0,
             "ticks": ""
            },
            "type": "contourcarpet"
           }
          ],
          "heatmap": [
           {
            "colorbar": {
             "outlinewidth": 0,
             "ticks": ""
            },
            "colorscale": [
             [
              0,
              "#0d0887"
             ],
             [
              0.1111111111111111,
              "#46039f"
             ],
             [
              0.2222222222222222,
              "#7201a8"
             ],
             [
              0.3333333333333333,
              "#9c179e"
             ],
             [
              0.4444444444444444,
              "#bd3786"
             ],
             [
              0.5555555555555556,
              "#d8576b"
             ],
             [
              0.6666666666666666,
              "#ed7953"
             ],
             [
              0.7777777777777778,
              "#fb9f3a"
             ],
             [
              0.8888888888888888,
              "#fdca26"
             ],
             [
              1,
              "#f0f921"
             ]
            ],
            "type": "heatmap"
           }
          ],
          "heatmapgl": [
           {
            "colorbar": {
             "outlinewidth": 0,
             "ticks": ""
            },
            "colorscale": [
             [
              0,
              "#0d0887"
             ],
             [
              0.1111111111111111,
              "#46039f"
             ],
             [
              0.2222222222222222,
              "#7201a8"
             ],
             [
              0.3333333333333333,
              "#9c179e"
             ],
             [
              0.4444444444444444,
              "#bd3786"
             ],
             [
              0.5555555555555556,
              "#d8576b"
             ],
             [
              0.6666666666666666,
              "#ed7953"
             ],
             [
              0.7777777777777778,
              "#fb9f3a"
             ],
             [
              0.8888888888888888,
              "#fdca26"
             ],
             [
              1,
              "#f0f921"
             ]
            ],
            "type": "heatmapgl"
           }
          ],
          "histogram": [
           {
            "marker": {
             "pattern": {
              "fillmode": "overlay",
              "size": 10,
              "solidity": 0.2
             }
            },
            "type": "histogram"
           }
          ],
          "histogram2d": [
           {
            "colorbar": {
             "outlinewidth": 0,
             "ticks": ""
            },
            "colorscale": [
             [
              0,
              "#0d0887"
             ],
             [
              0.1111111111111111,
              "#46039f"
             ],
             [
              0.2222222222222222,
              "#7201a8"
             ],
             [
              0.3333333333333333,
              "#9c179e"
             ],
             [
              0.4444444444444444,
              "#bd3786"
             ],
             [
              0.5555555555555556,
              "#d8576b"
             ],
             [
              0.6666666666666666,
              "#ed7953"
             ],
             [
              0.7777777777777778,
              "#fb9f3a"
             ],
             [
              0.8888888888888888,
              "#fdca26"
             ],
             [
              1,
              "#f0f921"
             ]
            ],
            "type": "histogram2d"
           }
          ],
          "histogram2dcontour": [
           {
            "colorbar": {
             "outlinewidth": 0,
             "ticks": ""
            },
            "colorscale": [
             [
              0,
              "#0d0887"
             ],
             [
              0.1111111111111111,
              "#46039f"
             ],
             [
              0.2222222222222222,
              "#7201a8"
             ],
             [
              0.3333333333333333,
              "#9c179e"
             ],
             [
              0.4444444444444444,
              "#bd3786"
             ],
             [
              0.5555555555555556,
              "#d8576b"
             ],
             [
              0.6666666666666666,
              "#ed7953"
             ],
             [
              0.7777777777777778,
              "#fb9f3a"
             ],
             [
              0.8888888888888888,
              "#fdca26"
             ],
             [
              1,
              "#f0f921"
             ]
            ],
            "type": "histogram2dcontour"
           }
          ],
          "mesh3d": [
           {
            "colorbar": {
             "outlinewidth": 0,
             "ticks": ""
            },
            "type": "mesh3d"
           }
          ],
          "parcoords": [
           {
            "line": {
             "colorbar": {
              "outlinewidth": 0,
              "ticks": ""
             }
            },
            "type": "parcoords"
           }
          ],
          "pie": [
           {
            "automargin": true,
            "type": "pie"
           }
          ],
          "scatter": [
           {
            "marker": {
             "colorbar": {
              "outlinewidth": 0,
              "ticks": ""
             }
            },
            "type": "scatter"
           }
          ],
          "scatter3d": [
           {
            "line": {
             "colorbar": {
              "outlinewidth": 0,
              "ticks": ""
             }
            },
            "marker": {
             "colorbar": {
              "outlinewidth": 0,
              "ticks": ""
             }
            },
            "type": "scatter3d"
           }
          ],
          "scattercarpet": [
           {
            "marker": {
             "colorbar": {
              "outlinewidth": 0,
              "ticks": ""
             }
            },
            "type": "scattercarpet"
           }
          ],
          "scattergeo": [
           {
            "marker": {
             "colorbar": {
              "outlinewidth": 0,
              "ticks": ""
             }
            },
            "type": "scattergeo"
           }
          ],
          "scattergl": [
           {
            "marker": {
             "colorbar": {
              "outlinewidth": 0,
              "ticks": ""
             }
            },
            "type": "scattergl"
           }
          ],
          "scattermapbox": [
           {
            "marker": {
             "colorbar": {
              "outlinewidth": 0,
              "ticks": ""
             }
            },
            "type": "scattermapbox"
           }
          ],
          "scatterpolar": [
           {
            "marker": {
             "colorbar": {
              "outlinewidth": 0,
              "ticks": ""
             }
            },
            "type": "scatterpolar"
           }
          ],
          "scatterpolargl": [
           {
            "marker": {
             "colorbar": {
              "outlinewidth": 0,
              "ticks": ""
             }
            },
            "type": "scatterpolargl"
           }
          ],
          "scatterternary": [
           {
            "marker": {
             "colorbar": {
              "outlinewidth": 0,
              "ticks": ""
             }
            },
            "type": "scatterternary"
           }
          ],
          "surface": [
           {
            "colorbar": {
             "outlinewidth": 0,
             "ticks": ""
            },
            "colorscale": [
             [
              0,
              "#0d0887"
             ],
             [
              0.1111111111111111,
              "#46039f"
             ],
             [
              0.2222222222222222,
              "#7201a8"
             ],
             [
              0.3333333333333333,
              "#9c179e"
             ],
             [
              0.4444444444444444,
              "#bd3786"
             ],
             [
              0.5555555555555556,
              "#d8576b"
             ],
             [
              0.6666666666666666,
              "#ed7953"
             ],
             [
              0.7777777777777778,
              "#fb9f3a"
             ],
             [
              0.8888888888888888,
              "#fdca26"
             ],
             [
              1,
              "#f0f921"
             ]
            ],
            "type": "surface"
           }
          ],
          "table": [
           {
            "cells": {
             "fill": {
              "color": "#EBF0F8"
             },
             "line": {
              "color": "white"
             }
            },
            "header": {
             "fill": {
              "color": "#C8D4E3"
             },
             "line": {
              "color": "white"
             }
            },
            "type": "table"
           }
          ]
         },
         "layout": {
          "annotationdefaults": {
           "arrowcolor": "#2a3f5f",
           "arrowhead": 0,
           "arrowwidth": 1
          },
          "autotypenumbers": "strict",
          "coloraxis": {
           "colorbar": {
            "outlinewidth": 0,
            "ticks": ""
           }
          },
          "colorscale": {
           "diverging": [
            [
             0,
             "#8e0152"
            ],
            [
             0.1,
             "#c51b7d"
            ],
            [
             0.2,
             "#de77ae"
            ],
            [
             0.3,
             "#f1b6da"
            ],
            [
             0.4,
             "#fde0ef"
            ],
            [
             0.5,
             "#f7f7f7"
            ],
            [
             0.6,
             "#e6f5d0"
            ],
            [
             0.7,
             "#b8e186"
            ],
            [
             0.8,
             "#7fbc41"
            ],
            [
             0.9,
             "#4d9221"
            ],
            [
             1,
             "#276419"
            ]
           ],
           "sequential": [
            [
             0,
             "#0d0887"
            ],
            [
             0.1111111111111111,
             "#46039f"
            ],
            [
             0.2222222222222222,
             "#7201a8"
            ],
            [
             0.3333333333333333,
             "#9c179e"
            ],
            [
             0.4444444444444444,
             "#bd3786"
            ],
            [
             0.5555555555555556,
             "#d8576b"
            ],
            [
             0.6666666666666666,
             "#ed7953"
            ],
            [
             0.7777777777777778,
             "#fb9f3a"
            ],
            [
             0.8888888888888888,
             "#fdca26"
            ],
            [
             1,
             "#f0f921"
            ]
           ],
           "sequentialminus": [
            [
             0,
             "#0d0887"
            ],
            [
             0.1111111111111111,
             "#46039f"
            ],
            [
             0.2222222222222222,
             "#7201a8"
            ],
            [
             0.3333333333333333,
             "#9c179e"
            ],
            [
             0.4444444444444444,
             "#bd3786"
            ],
            [
             0.5555555555555556,
             "#d8576b"
            ],
            [
             0.6666666666666666,
             "#ed7953"
            ],
            [
             0.7777777777777778,
             "#fb9f3a"
            ],
            [
             0.8888888888888888,
             "#fdca26"
            ],
            [
             1,
             "#f0f921"
            ]
           ]
          },
          "colorway": [
           "#636efa",
           "#EF553B",
           "#00cc96",
           "#ab63fa",
           "#FFA15A",
           "#19d3f3",
           "#FF6692",
           "#B6E880",
           "#FF97FF",
           "#FECB52"
          ],
          "font": {
           "color": "#2a3f5f"
          },
          "geo": {
           "bgcolor": "white",
           "lakecolor": "white",
           "landcolor": "#E5ECF6",
           "showlakes": true,
           "showland": true,
           "subunitcolor": "white"
          },
          "hoverlabel": {
           "align": "left"
          },
          "hovermode": "closest",
          "mapbox": {
           "style": "light"
          },
          "paper_bgcolor": "white",
          "plot_bgcolor": "#E5ECF6",
          "polar": {
           "angularaxis": {
            "gridcolor": "white",
            "linecolor": "white",
            "ticks": ""
           },
           "bgcolor": "#E5ECF6",
           "radialaxis": {
            "gridcolor": "white",
            "linecolor": "white",
            "ticks": ""
           }
          },
          "scene": {
           "xaxis": {
            "backgroundcolor": "#E5ECF6",
            "gridcolor": "white",
            "gridwidth": 2,
            "linecolor": "white",
            "showbackground": true,
            "ticks": "",
            "zerolinecolor": "white"
           },
           "yaxis": {
            "backgroundcolor": "#E5ECF6",
            "gridcolor": "white",
            "gridwidth": 2,
            "linecolor": "white",
            "showbackground": true,
            "ticks": "",
            "zerolinecolor": "white"
           },
           "zaxis": {
            "backgroundcolor": "#E5ECF6",
            "gridcolor": "white",
            "gridwidth": 2,
            "linecolor": "white",
            "showbackground": true,
            "ticks": "",
            "zerolinecolor": "white"
           }
          },
          "shapedefaults": {
           "line": {
            "color": "#2a3f5f"
           }
          },
          "ternary": {
           "aaxis": {
            "gridcolor": "white",
            "linecolor": "white",
            "ticks": ""
           },
           "baxis": {
            "gridcolor": "white",
            "linecolor": "white",
            "ticks": ""
           },
           "bgcolor": "#E5ECF6",
           "caxis": {
            "gridcolor": "white",
            "linecolor": "white",
            "ticks": ""
           }
          },
          "title": {
           "x": 0.05
          },
          "xaxis": {
           "automargin": true,
           "gridcolor": "white",
           "linecolor": "white",
           "ticks": "",
           "title": {
            "standoff": 15
           },
           "zerolinecolor": "white",
           "zerolinewidth": 2
          },
          "yaxis": {
           "automargin": true,
           "gridcolor": "white",
           "linecolor": "white",
           "ticks": "",
           "title": {
            "standoff": 15
           },
           "zerolinecolor": "white",
           "zerolinewidth": 2
          }
         }
        },
        "xaxis": {
         "anchor": "y",
         "domain": [
          0,
          0.98
         ],
         "title": {
          "text": "value"
         }
        },
        "xaxis2": {
         "anchor": "y2",
         "domain": [
          0,
          0.98
         ],
         "showticklabels": false
        },
        "xaxis3": {
         "anchor": "y3",
         "domain": [
          0,
          0.98
         ],
         "showticklabels": false
        },
        "yaxis": {
         "anchor": "x",
         "domain": [
          0,
          0.3133333333333333
         ],
         "title": {
          "text": "model_name"
         }
        },
        "yaxis2": {
         "anchor": "x2",
         "domain": [
          0.34333333333333327,
          0.6566666666666665
         ],
         "matches": "y",
         "title": {
          "text": "model_name"
         }
        },
        "yaxis3": {
         "anchor": "x3",
         "domain": [
          0.6866666666666665,
          0.9999999999999998
         ],
         "matches": "y",
         "title": {
          "text": "model_name"
         }
        }
       }
      },
      "text/html": [
       "<div>                            <div id=\"59d5de56-ac3d-42bf-9707-f2ec1e03a3ed\" class=\"plotly-graph-div\" style=\"height:1200px; width:100%;\"></div>            <script type=\"text/javascript\">                require([\"plotly\"], function(Plotly) {                    window.PLOTLYENV=window.PLOTLYENV || {};                                    if (document.getElementById(\"59d5de56-ac3d-42bf-9707-f2ec1e03a3ed\")) {                    Plotly.newPlot(                        \"59d5de56-ac3d-42bf-9707-f2ec1e03a3ed\",                        [{\"alignmentgroup\":\"True\",\"hovertemplate\":\"cased=False<br>variable=eval_loss<br>value=%{x}<br>model_name=%{y}<extra></extra>\",\"legendgroup\":\"False\",\"marker\":{\"color\":\"#636efa\",\"pattern\":{\"shape\":\"\"}},\"name\":\"False\",\"offsetgroup\":\"False\",\"orientation\":\"h\",\"showlegend\":true,\"textposition\":\"auto\",\"x\":[2.0755040645599365,2.401484727859497,2.662428617477417,2.8139867782592773,2.8361499309539795,3.287644863128662,3.33066725730896,3.682497501373291,3.855733156204224,3.9797630310058594,12.562969207763672],\"xaxis\":\"x3\",\"y\":[\"Bio_ClinicalBERT\",\"bluebert_pubmed_mimic_uncased_L-12_H-768_A-12\",\"scibert_scivocab_uncased\",\"BioLinkBERT-large\",\"BiomedNLP-PubMedBERT-base-uncased-abstract-fulltext\",\"BiomedNLP-PubMedBERT-base-uncased-abstract\",\"bluebert_pubmed_mimic_uncased_L-24_H-1024_A-16\",\"bluebert_pubmed_uncased_L-12_H-768_A-12\",\"bert-base-uncased\",\"bluebert_pubmed_uncased_L-24_H-1024_A-16\",\"BioLinkBERT-base\"],\"yaxis\":\"y3\",\"type\":\"bar\"},{\"alignmentgroup\":\"True\",\"hovertemplate\":\"cased=False<br>variable=eval_accuracy<br>value=%{x}<br>model_name=%{y}<extra></extra>\",\"legendgroup\":\"False\",\"marker\":{\"color\":\"#636efa\",\"pattern\":{\"shape\":\"\"}},\"name\":\"False\",\"offsetgroup\":\"False\",\"orientation\":\"h\",\"showlegend\":false,\"textposition\":\"auto\",\"x\":[8.51298087700729e-06,0.4114279139875019,0.4237514252251274,0.4297987750173871,0.4964202915412184,0.507287069426885,0.5473948791625755,0.5477436344185492,0.5617260328491176,0.6026456193714651,0.6663228028264057],\"xaxis\":\"x2\",\"y\":[\"BioLinkBERT-base\",\"bluebert_pubmed_uncased_L-24_H-1024_A-16\",\"bert-base-uncased\",\"bluebert_pubmed_uncased_L-12_H-768_A-12\",\"BiomedNLP-PubMedBERT-base-uncased-abstract\",\"bluebert_pubmed_mimic_uncased_L-24_H-1024_A-16\",\"BiomedNLP-PubMedBERT-base-uncased-abstract-fulltext\",\"BioLinkBERT-large\",\"scibert_scivocab_uncased\",\"Bio_ClinicalBERT\",\"bluebert_pubmed_mimic_uncased_L-12_H-768_A-12\"],\"yaxis\":\"y2\",\"type\":\"bar\"},{\"alignmentgroup\":\"True\",\"hovertemplate\":\"cased=False<br>variable=perplexity<br>value=%{x}<br>model_name=%{y}<extra></extra>\",\"legendgroup\":\"False\",\"marker\":{\"color\":\"#636efa\",\"pattern\":{\"shape\":\"\"}},\"name\":\"False\",\"offsetgroup\":\"False\",\"orientation\":\"h\",\"showlegend\":false,\"textposition\":\"auto\",\"x\":[7.968562116631054,11.039554953567084,14.331051511460222,16.67627045757553,17.04999534917757,26.779719423811542,27.95698998684808,39.74553474666713,47.26325559102103,53.50435385220811,285777.6122439755],\"xaxis\":\"x\",\"y\":[\"Bio_ClinicalBERT\",\"bluebert_pubmed_mimic_uncased_L-12_H-768_A-12\",\"scibert_scivocab_uncased\",\"BioLinkBERT-large\",\"BiomedNLP-PubMedBERT-base-uncased-abstract-fulltext\",\"BiomedNLP-PubMedBERT-base-uncased-abstract\",\"bluebert_pubmed_mimic_uncased_L-24_H-1024_A-16\",\"bluebert_pubmed_uncased_L-12_H-768_A-12\",\"bert-base-uncased\",\"bluebert_pubmed_uncased_L-24_H-1024_A-16\",\"BioLinkBERT-base\"],\"yaxis\":\"y\",\"type\":\"bar\"},{\"alignmentgroup\":\"True\",\"hovertemplate\":\"cased=True<br>variable=eval_loss<br>value=%{x}<br>model_name=%{y}<extra></extra>\",\"legendgroup\":\"True\",\"marker\":{\"color\":\"#EF553B\",\"pattern\":{\"shape\":\"\"}},\"name\":\"True\",\"offsetgroup\":\"True\",\"orientation\":\"h\",\"showlegend\":true,\"textposition\":\"auto\",\"x\":[2.526538133621216,2.797929286956787,3.338733196258545,3.807420492172241,5.972936630249023],\"xaxis\":\"x3\",\"y\":[\"scibert_scivocab_cased\",\"biobert-base-cased-v1.2\",\"bert-base-cased\",\"roberta-base\",\"roberta-large\"],\"yaxis\":\"y3\",\"type\":\"bar\"},{\"alignmentgroup\":\"True\",\"hovertemplate\":\"cased=True<br>variable=eval_accuracy<br>value=%{x}<br>model_name=%{y}<extra></extra>\",\"legendgroup\":\"True\",\"marker\":{\"color\":\"#EF553B\",\"pattern\":{\"shape\":\"\"}},\"name\":\"True\",\"offsetgroup\":\"True\",\"orientation\":\"h\",\"showlegend\":false,\"textposition\":\"auto\",\"x\":[0.4606659598964924,0.5116457485494113,0.5522283800650255,0.5785740739090982,0.5787655437021362],\"xaxis\":\"x2\",\"y\":[\"bert-base-cased\",\"biobert-base-cased-v1.2\",\"roberta-base\",\"scibert_scivocab_cased\",\"roberta-large\"],\"yaxis\":\"y2\",\"type\":\"bar\"},{\"alignmentgroup\":\"True\",\"hovertemplate\":\"cased=True<br>variable=perplexity<br>value=%{x}<br>model_name=%{y}<extra></extra>\",\"legendgroup\":\"True\",\"marker\":{\"color\":\"#EF553B\",\"pattern\":{\"shape\":\"\"}},\"name\":\"True\",\"offsetgroup\":\"True\",\"orientation\":\"h\",\"showlegend\":false,\"textposition\":\"auto\",\"x\":[12.510122712973228,16.41062985832455,28.18340124346969,45.03412303912544,392.6570679317218],\"xaxis\":\"x\",\"y\":[\"scibert_scivocab_cased\",\"biobert-base-cased-v1.2\",\"bert-base-cased\",\"roberta-base\",\"roberta-large\"],\"yaxis\":\"y\",\"type\":\"bar\"}],                        {\"template\":{\"data\":{\"bar\":[{\"error_x\":{\"color\":\"#2a3f5f\"},\"error_y\":{\"color\":\"#2a3f5f\"},\"marker\":{\"line\":{\"color\":\"#E5ECF6\",\"width\":0.5},\"pattern\":{\"fillmode\":\"overlay\",\"size\":10,\"solidity\":0.2}},\"type\":\"bar\"}],\"barpolar\":[{\"marker\":{\"line\":{\"color\":\"#E5ECF6\",\"width\":0.5},\"pattern\":{\"fillmode\":\"overlay\",\"size\":10,\"solidity\":0.2}},\"type\":\"barpolar\"}],\"carpet\":[{\"aaxis\":{\"endlinecolor\":\"#2a3f5f\",\"gridcolor\":\"white\",\"linecolor\":\"white\",\"minorgridcolor\":\"white\",\"startlinecolor\":\"#2a3f5f\"},\"baxis\":{\"endlinecolor\":\"#2a3f5f\",\"gridcolor\":\"white\",\"linecolor\":\"white\",\"minorgridcolor\":\"white\",\"startlinecolor\":\"#2a3f5f\"},\"type\":\"carpet\"}],\"choropleth\":[{\"colorbar\":{\"outlinewidth\":0,\"ticks\":\"\"},\"type\":\"choropleth\"}],\"contour\":[{\"colorbar\":{\"outlinewidth\":0,\"ticks\":\"\"},\"colorscale\":[[0.0,\"#0d0887\"],[0.1111111111111111,\"#46039f\"],[0.2222222222222222,\"#7201a8\"],[0.3333333333333333,\"#9c179e\"],[0.4444444444444444,\"#bd3786\"],[0.5555555555555556,\"#d8576b\"],[0.6666666666666666,\"#ed7953\"],[0.7777777777777778,\"#fb9f3a\"],[0.8888888888888888,\"#fdca26\"],[1.0,\"#f0f921\"]],\"type\":\"contour\"}],\"contourcarpet\":[{\"colorbar\":{\"outlinewidth\":0,\"ticks\":\"\"},\"type\":\"contourcarpet\"}],\"heatmap\":[{\"colorbar\":{\"outlinewidth\":0,\"ticks\":\"\"},\"colorscale\":[[0.0,\"#0d0887\"],[0.1111111111111111,\"#46039f\"],[0.2222222222222222,\"#7201a8\"],[0.3333333333333333,\"#9c179e\"],[0.4444444444444444,\"#bd3786\"],[0.5555555555555556,\"#d8576b\"],[0.6666666666666666,\"#ed7953\"],[0.7777777777777778,\"#fb9f3a\"],[0.8888888888888888,\"#fdca26\"],[1.0,\"#f0f921\"]],\"type\":\"heatmap\"}],\"heatmapgl\":[{\"colorbar\":{\"outlinewidth\":0,\"ticks\":\"\"},\"colorscale\":[[0.0,\"#0d0887\"],[0.1111111111111111,\"#46039f\"],[0.2222222222222222,\"#7201a8\"],[0.3333333333333333,\"#9c179e\"],[0.4444444444444444,\"#bd3786\"],[0.5555555555555556,\"#d8576b\"],[0.6666666666666666,\"#ed7953\"],[0.7777777777777778,\"#fb9f3a\"],[0.8888888888888888,\"#fdca26\"],[1.0,\"#f0f921\"]],\"type\":\"heatmapgl\"}],\"histogram\":[{\"marker\":{\"pattern\":{\"fillmode\":\"overlay\",\"size\":10,\"solidity\":0.2}},\"type\":\"histogram\"}],\"histogram2d\":[{\"colorbar\":{\"outlinewidth\":0,\"ticks\":\"\"},\"colorscale\":[[0.0,\"#0d0887\"],[0.1111111111111111,\"#46039f\"],[0.2222222222222222,\"#7201a8\"],[0.3333333333333333,\"#9c179e\"],[0.4444444444444444,\"#bd3786\"],[0.5555555555555556,\"#d8576b\"],[0.6666666666666666,\"#ed7953\"],[0.7777777777777778,\"#fb9f3a\"],[0.8888888888888888,\"#fdca26\"],[1.0,\"#f0f921\"]],\"type\":\"histogram2d\"}],\"histogram2dcontour\":[{\"colorbar\":{\"outlinewidth\":0,\"ticks\":\"\"},\"colorscale\":[[0.0,\"#0d0887\"],[0.1111111111111111,\"#46039f\"],[0.2222222222222222,\"#7201a8\"],[0.3333333333333333,\"#9c179e\"],[0.4444444444444444,\"#bd3786\"],[0.5555555555555556,\"#d8576b\"],[0.6666666666666666,\"#ed7953\"],[0.7777777777777778,\"#fb9f3a\"],[0.8888888888888888,\"#fdca26\"],[1.0,\"#f0f921\"]],\"type\":\"histogram2dcontour\"}],\"mesh3d\":[{\"colorbar\":{\"outlinewidth\":0,\"ticks\":\"\"},\"type\":\"mesh3d\"}],\"parcoords\":[{\"line\":{\"colorbar\":{\"outlinewidth\":0,\"ticks\":\"\"}},\"type\":\"parcoords\"}],\"pie\":[{\"automargin\":true,\"type\":\"pie\"}],\"scatter\":[{\"marker\":{\"colorbar\":{\"outlinewidth\":0,\"ticks\":\"\"}},\"type\":\"scatter\"}],\"scatter3d\":[{\"line\":{\"colorbar\":{\"outlinewidth\":0,\"ticks\":\"\"}},\"marker\":{\"colorbar\":{\"outlinewidth\":0,\"ticks\":\"\"}},\"type\":\"scatter3d\"}],\"scattercarpet\":[{\"marker\":{\"colorbar\":{\"outlinewidth\":0,\"ticks\":\"\"}},\"type\":\"scattercarpet\"}],\"scattergeo\":[{\"marker\":{\"colorbar\":{\"outlinewidth\":0,\"ticks\":\"\"}},\"type\":\"scattergeo\"}],\"scattergl\":[{\"marker\":{\"colorbar\":{\"outlinewidth\":0,\"ticks\":\"\"}},\"type\":\"scattergl\"}],\"scattermapbox\":[{\"marker\":{\"colorbar\":{\"outlinewidth\":0,\"ticks\":\"\"}},\"type\":\"scattermapbox\"}],\"scatterpolar\":[{\"marker\":{\"colorbar\":{\"outlinewidth\":0,\"ticks\":\"\"}},\"type\":\"scatterpolar\"}],\"scatterpolargl\":[{\"marker\":{\"colorbar\":{\"outlinewidth\":0,\"ticks\":\"\"}},\"type\":\"scatterpolargl\"}],\"scatterternary\":[{\"marker\":{\"colorbar\":{\"outlinewidth\":0,\"ticks\":\"\"}},\"type\":\"scatterternary\"}],\"surface\":[{\"colorbar\":{\"outlinewidth\":0,\"ticks\":\"\"},\"colorscale\":[[0.0,\"#0d0887\"],[0.1111111111111111,\"#46039f\"],[0.2222222222222222,\"#7201a8\"],[0.3333333333333333,\"#9c179e\"],[0.4444444444444444,\"#bd3786\"],[0.5555555555555556,\"#d8576b\"],[0.6666666666666666,\"#ed7953\"],[0.7777777777777778,\"#fb9f3a\"],[0.8888888888888888,\"#fdca26\"],[1.0,\"#f0f921\"]],\"type\":\"surface\"}],\"table\":[{\"cells\":{\"fill\":{\"color\":\"#EBF0F8\"},\"line\":{\"color\":\"white\"}},\"header\":{\"fill\":{\"color\":\"#C8D4E3\"},\"line\":{\"color\":\"white\"}},\"type\":\"table\"}]},\"layout\":{\"annotationdefaults\":{\"arrowcolor\":\"#2a3f5f\",\"arrowhead\":0,\"arrowwidth\":1},\"autotypenumbers\":\"strict\",\"coloraxis\":{\"colorbar\":{\"outlinewidth\":0,\"ticks\":\"\"}},\"colorscale\":{\"diverging\":[[0,\"#8e0152\"],[0.1,\"#c51b7d\"],[0.2,\"#de77ae\"],[0.3,\"#f1b6da\"],[0.4,\"#fde0ef\"],[0.5,\"#f7f7f7\"],[0.6,\"#e6f5d0\"],[0.7,\"#b8e186\"],[0.8,\"#7fbc41\"],[0.9,\"#4d9221\"],[1,\"#276419\"]],\"sequential\":[[0.0,\"#0d0887\"],[0.1111111111111111,\"#46039f\"],[0.2222222222222222,\"#7201a8\"],[0.3333333333333333,\"#9c179e\"],[0.4444444444444444,\"#bd3786\"],[0.5555555555555556,\"#d8576b\"],[0.6666666666666666,\"#ed7953\"],[0.7777777777777778,\"#fb9f3a\"],[0.8888888888888888,\"#fdca26\"],[1.0,\"#f0f921\"]],\"sequentialminus\":[[0.0,\"#0d0887\"],[0.1111111111111111,\"#46039f\"],[0.2222222222222222,\"#7201a8\"],[0.3333333333333333,\"#9c179e\"],[0.4444444444444444,\"#bd3786\"],[0.5555555555555556,\"#d8576b\"],[0.6666666666666666,\"#ed7953\"],[0.7777777777777778,\"#fb9f3a\"],[0.8888888888888888,\"#fdca26\"],[1.0,\"#f0f921\"]]},\"colorway\":[\"#636efa\",\"#EF553B\",\"#00cc96\",\"#ab63fa\",\"#FFA15A\",\"#19d3f3\",\"#FF6692\",\"#B6E880\",\"#FF97FF\",\"#FECB52\"],\"font\":{\"color\":\"#2a3f5f\"},\"geo\":{\"bgcolor\":\"white\",\"lakecolor\":\"white\",\"landcolor\":\"#E5ECF6\",\"showlakes\":true,\"showland\":true,\"subunitcolor\":\"white\"},\"hoverlabel\":{\"align\":\"left\"},\"hovermode\":\"closest\",\"mapbox\":{\"style\":\"light\"},\"paper_bgcolor\":\"white\",\"plot_bgcolor\":\"#E5ECF6\",\"polar\":{\"angularaxis\":{\"gridcolor\":\"white\",\"linecolor\":\"white\",\"ticks\":\"\"},\"bgcolor\":\"#E5ECF6\",\"radialaxis\":{\"gridcolor\":\"white\",\"linecolor\":\"white\",\"ticks\":\"\"}},\"scene\":{\"xaxis\":{\"backgroundcolor\":\"#E5ECF6\",\"gridcolor\":\"white\",\"gridwidth\":2,\"linecolor\":\"white\",\"showbackground\":true,\"ticks\":\"\",\"zerolinecolor\":\"white\"},\"yaxis\":{\"backgroundcolor\":\"#E5ECF6\",\"gridcolor\":\"white\",\"gridwidth\":2,\"linecolor\":\"white\",\"showbackground\":true,\"ticks\":\"\",\"zerolinecolor\":\"white\"},\"zaxis\":{\"backgroundcolor\":\"#E5ECF6\",\"gridcolor\":\"white\",\"gridwidth\":2,\"linecolor\":\"white\",\"showbackground\":true,\"ticks\":\"\",\"zerolinecolor\":\"white\"}},\"shapedefaults\":{\"line\":{\"color\":\"#2a3f5f\"}},\"ternary\":{\"aaxis\":{\"gridcolor\":\"white\",\"linecolor\":\"white\",\"ticks\":\"\"},\"baxis\":{\"gridcolor\":\"white\",\"linecolor\":\"white\",\"ticks\":\"\"},\"bgcolor\":\"#E5ECF6\",\"caxis\":{\"gridcolor\":\"white\",\"linecolor\":\"white\",\"ticks\":\"\"}},\"title\":{\"x\":0.05},\"xaxis\":{\"automargin\":true,\"gridcolor\":\"white\",\"linecolor\":\"white\",\"ticks\":\"\",\"title\":{\"standoff\":15},\"zerolinecolor\":\"white\",\"zerolinewidth\":2},\"yaxis\":{\"automargin\":true,\"gridcolor\":\"white\",\"linecolor\":\"white\",\"ticks\":\"\",\"title\":{\"standoff\":15},\"zerolinecolor\":\"white\",\"zerolinewidth\":2}}},\"xaxis\":{\"anchor\":\"y\",\"domain\":[0.0,0.98],\"title\":{\"text\":\"value\"}},\"yaxis\":{\"anchor\":\"x\",\"domain\":[0.0,0.3133333333333333],\"title\":{\"text\":\"model_name\"}},\"xaxis2\":{\"anchor\":\"y2\",\"domain\":[0.0,0.98],\"showticklabels\":false},\"yaxis2\":{\"anchor\":\"x2\",\"domain\":[0.34333333333333327,0.6566666666666665],\"matches\":\"y\",\"title\":{\"text\":\"model_name\"}},\"xaxis3\":{\"anchor\":\"y3\",\"domain\":[0.0,0.98],\"showticklabels\":false},\"yaxis3\":{\"anchor\":\"x3\",\"domain\":[0.6866666666666665,0.9999999999999998],\"matches\":\"y\",\"title\":{\"text\":\"model_name\"}},\"annotations\":[{\"font\":{},\"showarrow\":false,\"text\":\"variable=perplexity\",\"textangle\":90,\"x\":0.98,\"xanchor\":\"left\",\"xref\":\"paper\",\"y\":0.15666666666666665,\"yanchor\":\"middle\",\"yref\":\"paper\"},{\"font\":{},\"showarrow\":false,\"text\":\"variable=eval_accuracy\",\"textangle\":90,\"x\":0.98,\"xanchor\":\"left\",\"xref\":\"paper\",\"y\":0.4999999999999999,\"yanchor\":\"middle\",\"yref\":\"paper\"},{\"font\":{},\"showarrow\":false,\"text\":\"variable=eval_loss\",\"textangle\":90,\"x\":0.98,\"xanchor\":\"left\",\"xref\":\"paper\",\"y\":0.8433333333333332,\"yanchor\":\"middle\",\"yref\":\"paper\"}],\"legend\":{\"title\":{\"text\":\"cased\"},\"tracegroupgap\":0},\"margin\":{\"t\":60},\"barmode\":\"relative\",\"height\":1200},                        {\"responsive\": true}                    ).then(function(){\n",
       "                            \n",
       "var gd = document.getElementById('59d5de56-ac3d-42bf-9707-f2ec1e03a3ed');\n",
       "var x = new MutationObserver(function (mutations, observer) {{\n",
       "        var display = window.getComputedStyle(gd).display;\n",
       "        if (!display || display === 'none') {{\n",
       "            console.log([gd, 'removed!']);\n",
       "            Plotly.purge(gd);\n",
       "            observer.disconnect();\n",
       "        }}\n",
       "}});\n",
       "\n",
       "// Listen for the removal of the full notebook cells\n",
       "var notebookContainer = gd.closest('#notebook-container');\n",
       "if (notebookContainer) {{\n",
       "    x.observe(notebookContainer, {childList: true});\n",
       "}}\n",
       "\n",
       "// Listen for the clearing of the current output cell\n",
       "var outputEl = gd.closest('.output');\n",
       "if (outputEl) {{\n",
       "    x.observe(outputEl, {childList: true});\n",
       "}}\n",
       "\n",
       "                        })                };                });            </script>        </div>"
      ]
     },
     "metadata": {},
     "output_type": "display_data"
    }
   ],
   "source": [
    "fig = px.bar(df_plt, x='value', y='model_name', facet_row='variable', color='cased', height=1200)\n",
    "fig.update_xaxes(matches=None)"
   ]
  },
  {
   "cell_type": "code",
   "execution_count": 51,
   "id": "f155d2da",
   "metadata": {},
   "outputs": [
    {
     "name": "stdout",
     "output_type": "stream",
     "text": [
      "crichton-2017-ner.json\r\n"
     ]
    }
   ],
   "source": [
    "!ls ../eval_bio_lms/ner_output"
   ]
  },
  {
   "cell_type": "code",
   "execution_count": 52,
   "id": "91a0ea83",
   "metadata": {},
   "outputs": [],
   "source": [
    "with open(\"../eval_bio_lms/ner_output/crichton-2017-ner.json\", \"r\") as fp:\n",
    "    ner_blobs = json.load(fp)"
   ]
  },
  {
   "cell_type": "code",
   "execution_count": 53,
   "id": "fbd207d0",
   "metadata": {},
   "outputs": [
    {
     "data": {
      "text/plain": [
       "{'BioLinkBERT-base-BC2GM-IOB': {'GENE': {'precision': 0.8403908794788274,\n",
       "   'recall': 0.868047523919672,\n",
       "   'f1': 0.8539953452288596,\n",
       "   'number': 9511},\n",
       "  'overall_precision': 0.8403908794788274,\n",
       "  'overall_recall': 0.868047523919672,\n",
       "  'overall_f1': 0.8539953452288596,\n",
       "  'overall_accuracy': 0.9766408629687834,\n",
       "  'model_def_name': 'BioLinkBERT-base',\n",
       "  'subset_name': 'BC2GM-IOB'},\n",
       " 'BioLinkBERT-large-BC2GM-IOB': {'GENE': {'precision': 0.8521480570081,\n",
       "   'recall': 0.8738303017558616,\n",
       "   'f1': 0.8628529900332225,\n",
       "   'number': 9511},\n",
       "  'overall_precision': 0.8521480570081,\n",
       "  'overall_recall': 0.8738303017558616,\n",
       "  'overall_f1': 0.8628529900332225,\n",
       "  'overall_accuracy': 0.9780636232530767,\n",
       "  'model_def_name': 'BioLinkBERT-large',\n",
       "  'subset_name': 'BC2GM-IOB'},\n",
       " 'bert-base-uncased-BC2GM-IOB': {'GENE': {'precision': 0.8189215280650944,\n",
       "   'recall': 0.8423292432087383,\n",
       "   'f1': 0.8304604734100206,\n",
       "   'number': 14099},\n",
       "  'overall_precision': 0.8189215280650944,\n",
       "  'overall_recall': 0.8423292432087383,\n",
       "  'overall_f1': 0.8304604734100206,\n",
       "  'overall_accuracy': 0.9657974848198329,\n",
       "  'model_def_name': 'bert-base-uncased',\n",
       "  'subset_name': 'BC2GM-IOB'},\n",
       " 'bert-base-cased-BC2GM-IOB': {'GENE': {'precision': 0.8217862371888727,\n",
       "   'recall': 0.8589618021547503,\n",
       "   'f1': 0.8399628864745144,\n",
       "   'number': 16336},\n",
       "  'overall_precision': 0.8217862371888727,\n",
       "  'overall_recall': 0.8589618021547503,\n",
       "  'overall_f1': 0.8399628864745144,\n",
       "  'overall_accuracy': 0.9648945554507037,\n",
       "  'model_def_name': 'bert-base-cased',\n",
       "  'subset_name': 'BC2GM-IOB'},\n",
       " 'roberta-base-BC2GM-IOB': {'GENE': {'precision': 0.8261117445838084,\n",
       "   'recall': 0.8476162620649312,\n",
       "   'f1': 0.8367258553486357,\n",
       "   'number': 13676},\n",
       "  'overall_precision': 0.8261117445838084,\n",
       "  'overall_recall': 0.8476162620649312,\n",
       "  'overall_f1': 0.8367258553486357,\n",
       "  'overall_accuracy': 0.9656281034860038,\n",
       "  'model_def_name': 'roberta-base',\n",
       "  'subset_name': 'BC2GM-IOB'},\n",
       " 'roberta-large-BC2GM-IOB': {'GENE': {'precision': 0.8573605165783936,\n",
       "   'recall': 0.8640684410646388,\n",
       "   'f1': 0.8607014093739758,\n",
       "   'number': 13676},\n",
       "  'overall_precision': 0.8573605165783936,\n",
       "  'overall_recall': 0.8640684410646388,\n",
       "  'overall_f1': 0.8607014093739758,\n",
       "  'overall_accuracy': 0.97084616808901,\n",
       "  'model_def_name': 'roberta-large',\n",
       "  'subset_name': 'BC2GM-IOB'},\n",
       " 'biobert-base-cased-v1.2-BC2GM-IOB': {'GENE': {'precision': 0.8645079594790159,\n",
       "   'recall': 0.87763222331048,\n",
       "   'f1': 0.8710206561360875,\n",
       "   'number': 16336},\n",
       "  'overall_precision': 0.8645079594790159,\n",
       "  'overall_recall': 0.87763222331048,\n",
       "  'overall_f1': 0.8710206561360875,\n",
       "  'overall_accuracy': 0.9721207893981044,\n",
       "  'model_def_name': 'biobert-base-cased-v1.2',\n",
       "  'subset_name': 'BC2GM-IOB'},\n",
       " 'scibert_scivocab_uncased-BC2GM-IOB': {'GENE': {'precision': 0.8437047756874095,\n",
       "   'recall': 0.8622665927158439,\n",
       "   'f1': 0.8528847033007222,\n",
       "   'number': 10818},\n",
       "  'overall_precision': 0.8437047756874095,\n",
       "  'overall_recall': 0.8622665927158439,\n",
       "  'overall_f1': 0.8528847033007222,\n",
       "  'overall_accuracy': 0.9751160110872341,\n",
       "  'model_def_name': 'scibert_scivocab_uncased',\n",
       "  'subset_name': 'BC2GM-IOB'},\n",
       " 'scibert_scivocab_cased-BC2GM-IOB': {'GENE': {'precision': 0.8479869865799106,\n",
       "   'recall': 0.8721037222919281,\n",
       "   'f1': 0.8598762886597939,\n",
       "   'number': 11955},\n",
       "  'overall_precision': 0.8479869865799106,\n",
       "  'overall_recall': 0.8721037222919281,\n",
       "  'overall_f1': 0.8598762886597939,\n",
       "  'overall_accuracy': 0.9743530695109387,\n",
       "  'model_def_name': 'scibert_scivocab_cased',\n",
       "  'subset_name': 'BC2GM-IOB'},\n",
       " 'BiomedNLP-PubMedBERT-base-uncased-abstract-BC2GM-IOB': {'GENE': {'precision': 0.8428892062844318,\n",
       "   'recall': 0.8686783724108926,\n",
       "   'f1': 0.8555894993009889,\n",
       "   'number': 9511},\n",
       "  'overall_precision': 0.8428892062844318,\n",
       "  'overall_recall': 0.8686783724108926,\n",
       "  'overall_f1': 0.8555894993009889,\n",
       "  'overall_accuracy': 0.9778825446714394,\n",
       "  'model_def_name': 'BiomedNLP-PubMedBERT-base-uncased-abstract',\n",
       "  'subset_name': 'BC2GM-IOB'},\n",
       " 'BiomedNLP-PubMedBERT-base-uncased-abstract-fulltext-BC2GM-IOB': {'GENE': {'precision': 0.8418259023354565,\n",
       "   'recall': 0.8688506628684124,\n",
       "   'f1': 0.8551248180298701,\n",
       "   'number': 9127},\n",
       "  'overall_precision': 0.8418259023354565,\n",
       "  'overall_recall': 0.8688506628684124,\n",
       "  'overall_f1': 0.8551248180298701,\n",
       "  'overall_accuracy': 0.9781762202300099,\n",
       "  'model_def_name': 'BiomedNLP-PubMedBERT-base-uncased-abstract-fulltext',\n",
       "  'subset_name': 'BC2GM-IOB'},\n",
       " 'Bio_ClinicalBERT-BC2GM-IOB': {'GENE': {'precision': 0.8373552123552124,\n",
       "   'recall': 0.858114374034003,\n",
       "   'f1': 0.8476077066349118,\n",
       "   'number': 16175},\n",
       "  'overall_precision': 0.8373552123552124,\n",
       "  'overall_recall': 0.858114374034003,\n",
       "  'overall_f1': 0.8476077066349118,\n",
       "  'overall_accuracy': 0.9667848614226789,\n",
       "  'model_def_name': 'Bio_ClinicalBERT',\n",
       "  'subset_name': 'BC2GM-IOB'},\n",
       " 'bluebert_pubmed_uncased_L-24_H-1024_A-16-BC2GM-IOB': {'GENE': {'precision': 0.8472047957618849,\n",
       "   'recall': 0.8620469536846584,\n",
       "   'f1': 0.8545614343469854,\n",
       "   'number': 14099},\n",
       "  'overall_precision': 0.8472047957618849,\n",
       "  'overall_recall': 0.8620469536846584,\n",
       "  'overall_f1': 0.8545614343469854,\n",
       "  'overall_accuracy': 0.9712246336811153,\n",
       "  'model_def_name': 'bluebert_pubmed_uncased_L-24_H-1024_A-16',\n",
       "  'subset_name': 'BC2GM-IOB'},\n",
       " 'bluebert_pubmed_mimic_uncased_L-24_H-1024_A-16-BC2GM-IOB': {'GENE': {'precision': 0.8166183174471612,\n",
       "   'recall': 0.8385701113554153,\n",
       "   'f1': 0.8274486475137348,\n",
       "   'number': 14099},\n",
       "  'overall_precision': 0.8166183174471612,\n",
       "  'overall_recall': 0.8385701113554153,\n",
       "  'overall_f1': 0.8274486475137348,\n",
       "  'overall_accuracy': 0.9656389880252939,\n",
       "  'model_def_name': 'bluebert_pubmed_mimic_uncased_L-24_H-1024_A-16',\n",
       "  'subset_name': 'BC2GM-IOB'},\n",
       " 'bluebert_pubmed_uncased_L-12_H-768_A-12-BC2GM-IOB': {'GENE': {'precision': 0.8537210107303566,\n",
       "   'recall': 0.8746719625505355,\n",
       "   'f1': 0.8640695067264574,\n",
       "   'number': 14099},\n",
       "  'overall_precision': 0.8537210107303566,\n",
       "  'overall_recall': 0.8746719625505355,\n",
       "  'overall_f1': 0.8640695067264574,\n",
       "  'overall_accuracy': 0.9730992681820417,\n",
       "  'model_def_name': 'bluebert_pubmed_uncased_L-12_H-768_A-12',\n",
       "  'subset_name': 'BC2GM-IOB'},\n",
       " 'bluebert_pubmed_mimic_uncased_L-12_H-768_A-12-BC2GM-IOB': {'GENE': {'precision': 0.8274444212140218,\n",
       "   'recall': 0.8421164621604369,\n",
       "   'f1': 0.8347159730033746,\n",
       "   'number': 14099},\n",
       "  'overall_precision': 0.8274444212140218,\n",
       "  'overall_recall': 0.8421164621604369,\n",
       "  'overall_f1': 0.8347159730033746,\n",
       "  'overall_accuracy': 0.9671255786499352,\n",
       "  'model_def_name': 'bluebert_pubmed_mimic_uncased_L-12_H-768_A-12',\n",
       "  'subset_name': 'BC2GM-IOB'},\n",
       " 'BioLinkBERT-base-BioNLP13CG-IOB': {'Amino_acid': {'precision': 0.0,\n",
       "   'recall': 0.0,\n",
       "   'f1': 0.0,\n",
       "   'number': 157},\n",
       "  'Anatomical_system': {'precision': 0.0,\n",
       "   'recall': 0.0,\n",
       "   'f1': 0.0,\n",
       "   'number': 18},\n",
       "  'Cancer': {'precision': 0.778169014084507,\n",
       "   'recall': 0.8911290322580645,\n",
       "   'f1': 0.8308270676691729,\n",
       "   'number': 992},\n",
       "  'Cell': {'precision': 0.8197767145135566,\n",
       "   'recall': 0.8719253604749788,\n",
       "   'f1': 0.8450472667488698,\n",
       "   'number': 1179},\n",
       "  'Cellular_component': {'precision': 0.5260416666666666,\n",
       "   'recall': 0.5372340425531915,\n",
       "   'f1': 0.531578947368421,\n",
       "   'number': 188},\n",
       "  'Developing_anatomical_structure': {'precision': 0.0,\n",
       "   'recall': 0.0,\n",
       "   'f1': 0.0,\n",
       "   'number': 21},\n",
       "  'Gene_or_gene_product': {'precision': 0.8970879276222787,\n",
       "   'recall': 0.9335098558399529,\n",
       "   'f1': 0.9149365628604383,\n",
       "   'number': 3399},\n",
       "  'Immaterial_anatomical_entity': {'precision': 0.0,\n",
       "   'recall': 0.0,\n",
       "   'f1': 0.0,\n",
       "   'number': 43},\n",
       "  'Multi-tissue_structure': {'precision': 0.3148831488314883,\n",
       "   'recall': 0.7596439169139466,\n",
       "   'f1': 0.44521739130434784,\n",
       "   'number': 337},\n",
       "  'Organ': {'precision': 1.0,\n",
       "   'recall': 0.011235955056179775,\n",
       "   'f1': 0.02222222222222222,\n",
       "   'number': 178},\n",
       "  'Organism': {'precision': 0.7173252279635258,\n",
       "   'recall': 0.8458781362007168,\n",
       "   'f1': 0.7763157894736842,\n",
       "   'number': 558},\n",
       "  'Organism_subdivision': {'precision': 0.0,\n",
       "   'recall': 0.0,\n",
       "   'f1': 0.0,\n",
       "   'number': 47},\n",
       "  'Organism_substance': {'precision': 1.0,\n",
       "   'recall': 0.01904761904761905,\n",
       "   'f1': 0.03738317757009346,\n",
       "   'number': 105},\n",
       "  'Pathological_formation': {'precision': 0.0,\n",
       "   'recall': 0.0,\n",
       "   'f1': 0.0,\n",
       "   'number': 101},\n",
       "  'Simple_chemical': {'precision': 0.8100664767331434,\n",
       "   'recall': 0.8616161616161616,\n",
       "   'f1': 0.835046500244738,\n",
       "   'number': 990},\n",
       "  'Tissue': {'precision': 0.3644859813084112,\n",
       "   'recall': 0.19796954314720813,\n",
       "   'f1': 0.2565789473684211,\n",
       "   'number': 197},\n",
       "  'overall_precision': 0.7779300891021247,\n",
       "  'overall_recall': 0.800235017626322,\n",
       "  'overall_f1': 0.7889249304911955,\n",
       "  'overall_accuracy': 0.9472849782005549,\n",
       "  'model_def_name': 'BioLinkBERT-base',\n",
       "  'subset_name': 'BioNLP13CG-IOB'},\n",
       " 'BioLinkBERT-large-BioNLP13CG-IOB': {'Amino_acid': {'precision': 0.375,\n",
       "   'recall': 0.01910828025477707,\n",
       "   'f1': 0.03636363636363636,\n",
       "   'number': 157},\n",
       "  'Anatomical_system': {'precision': 0.0,\n",
       "   'recall': 0.0,\n",
       "   'f1': 0.0,\n",
       "   'number': 18},\n",
       "  'Cancer': {'precision': 0.7943009795191451,\n",
       "   'recall': 0.8991935483870968,\n",
       "   'f1': 0.843498817966903,\n",
       "   'number': 992},\n",
       "  'Cell': {'precision': 0.8258064516129032,\n",
       "   'recall': 0.8685326547921968,\n",
       "   'f1': 0.8466308391897478,\n",
       "   'number': 1179},\n",
       "  'Cellular_component': {'precision': 0.5189393939393939,\n",
       "   'recall': 0.7287234042553191,\n",
       "   'f1': 0.6061946902654868,\n",
       "   'number': 188},\n",
       "  'Developing_anatomical_structure': {'precision': 0.0,\n",
       "   'recall': 0.0,\n",
       "   'f1': 0.0,\n",
       "   'number': 21},\n",
       "  'Gene_or_gene_product': {'precision': 0.9174575783721599,\n",
       "   'recall': 0.9385113268608414,\n",
       "   'f1': 0.9278650378126817,\n",
       "   'number': 3399},\n",
       "  'Immaterial_anatomical_entity': {'precision': 0.0,\n",
       "   'recall': 0.0,\n",
       "   'f1': 0.0,\n",
       "   'number': 43},\n",
       "  'Multi-tissue_structure': {'precision': 0.48451327433628316,\n",
       "   'recall': 0.6498516320474778,\n",
       "   'f1': 0.5551330798479088,\n",
       "   'number': 337},\n",
       "  'Organ': {'precision': 0.5649717514124294,\n",
       "   'recall': 0.5617977528089888,\n",
       "   'f1': 0.5633802816901409,\n",
       "   'number': 178},\n",
       "  'Organism': {'precision': 0.8591549295774648,\n",
       "   'recall': 0.8745519713261649,\n",
       "   'f1': 0.866785079928952,\n",
       "   'number': 558},\n",
       "  'Organism_subdivision': {'precision': 0.0,\n",
       "   'recall': 0.0,\n",
       "   'f1': 0.0,\n",
       "   'number': 47},\n",
       "  'Organism_substance': {'precision': 0.6753246753246753,\n",
       "   'recall': 0.49523809523809526,\n",
       "   'f1': 0.5714285714285714,\n",
       "   'number': 105},\n",
       "  'Pathological_formation': {'precision': 0.6136363636363636,\n",
       "   'recall': 0.26732673267326734,\n",
       "   'f1': 0.37241379310344824,\n",
       "   'number': 101},\n",
       "  'Simple_chemical': {'precision': 0.8435700575815739,\n",
       "   'recall': 0.8878787878787879,\n",
       "   'f1': 0.8651574803149606,\n",
       "   'number': 990},\n",
       "  'Tissue': {'precision': 0.38095238095238093,\n",
       "   'recall': 0.5279187817258884,\n",
       "   'f1': 0.4425531914893617,\n",
       "   'number': 197},\n",
       "  'overall_precision': 0.8136077758719268,\n",
       "  'overall_recall': 0.836075205640423,\n",
       "  'overall_f1': 0.8246884960880904,\n",
       "  'overall_accuracy': 0.9537707635210608,\n",
       "  'model_def_name': 'BioLinkBERT-large',\n",
       "  'subset_name': 'BioNLP13CG-IOB'},\n",
       " 'bert-base-uncased-BioNLP13CG-IOB': {'Amino_acid': {'precision': 0.0,\n",
       "   'recall': 0.0,\n",
       "   'f1': 0.0,\n",
       "   'number': 215},\n",
       "  'Anatomical_system': {'precision': 0.0,\n",
       "   'recall': 0.0,\n",
       "   'f1': 0.0,\n",
       "   'number': 33},\n",
       "  'Cancer': {'precision': 0.7421568627450981,\n",
       "   'recall': 0.8401775804661488,\n",
       "   'f1': 0.7881311816762104,\n",
       "   'number': 1802},\n",
       "  'Cell': {'precision': 0.7214403973509934,\n",
       "   'recall': 0.8477626459143969,\n",
       "   'f1': 0.7795169946332736,\n",
       "   'number': 2056},\n",
       "  'Cellular_component': {'precision': 0.5665236051502146,\n",
       "   'recall': 0.4258064516129032,\n",
       "   'f1': 0.4861878453038674,\n",
       "   'number': 310},\n",
       "  'Developing_anatomical_structure': {'precision': 0.0,\n",
       "   'recall': 0.0,\n",
       "   'f1': 0.0,\n",
       "   'number': 28},\n",
       "  'Gene_or_gene_product': {'precision': 0.7923113734247886,\n",
       "   'recall': 0.8825515280739161,\n",
       "   'f1': 0.8350004202740188,\n",
       "   'number': 5628},\n",
       "  'Immaterial_anatomical_entity': {'precision': 0.0,\n",
       "   'recall': 0.0,\n",
       "   'f1': 0.0,\n",
       "   'number': 78},\n",
       "  'Multi-tissue_structure': {'precision': 0.524822695035461,\n",
       "   'recall': 0.7014218009478673,\n",
       "   'f1': 0.6004056795131846,\n",
       "   'number': 633},\n",
       "  'Organ': {'precision': 0.5454545454545454,\n",
       "   'recall': 0.16733067729083664,\n",
       "   'f1': 0.25609756097560976,\n",
       "   'number': 251},\n",
       "  'Organism': {'precision': 0.6372688477951636,\n",
       "   'recall': 0.6656760772659732,\n",
       "   'f1': 0.6511627906976745,\n",
       "   'number': 673},\n",
       "  'Organism_subdivision': {'precision': 0.0,\n",
       "   'recall': 0.0,\n",
       "   'f1': 0.0,\n",
       "   'number': 55},\n",
       "  'Organism_substance': {'precision': 1.0,\n",
       "   'recall': 0.03870967741935484,\n",
       "   'f1': 0.07453416149068323,\n",
       "   'number': 155},\n",
       "  'Pathological_formation': {'precision': 0.0,\n",
       "   'recall': 0.0,\n",
       "   'f1': 0.0,\n",
       "   'number': 170},\n",
       "  'Simple_chemical': {'precision': 0.7802395209580838,\n",
       "   'recall': 0.7183020948180816,\n",
       "   'f1': 0.7479908151549942,\n",
       "   'number': 1814},\n",
       "  'Tissue': {'precision': 0.36278195488721804,\n",
       "   'recall': 0.5744047619047619,\n",
       "   'f1': 0.4447004608294931,\n",
       "   'number': 336},\n",
       "  'overall_precision': 0.7295835586803677,\n",
       "  'overall_recall': 0.7580248647889303,\n",
       "  'overall_f1': 0.7435323297392262,\n",
       "  'overall_accuracy': 0.9143699507175581,\n",
       "  'model_def_name': 'bert-base-uncased',\n",
       "  'subset_name': 'BioNLP13CG-IOB'},\n",
       " 'bert-base-cased-BioNLP13CG-IOB': {'Amino_acid': {'precision': 0.0,\n",
       "   'recall': 0.0,\n",
       "   'f1': 0.0,\n",
       "   'number': 232},\n",
       "  'Anatomical_system': {'precision': 0.0,\n",
       "   'recall': 0.0,\n",
       "   'f1': 0.0,\n",
       "   'number': 36},\n",
       "  'Cancer': {'precision': 0.7450529222273354,\n",
       "   'recall': 0.8251783893985729,\n",
       "   'f1': 0.7830713422007255,\n",
       "   'number': 1962},\n",
       "  'Cell': {'precision': 0.7817736003269309,\n",
       "   'recall': 0.8353711790393014,\n",
       "   'f1': 0.8076841883048342,\n",
       "   'number': 2290},\n",
       "  'Cellular_component': {'precision': 0.5148247978436657,\n",
       "   'recall': 0.5823170731707317,\n",
       "   'f1': 0.5464949928469242,\n",
       "   'number': 328},\n",
       "  'Developing_anatomical_structure': {'precision': 0.0,\n",
       "   'recall': 0.0,\n",
       "   'f1': 0.0,\n",
       "   'number': 50},\n",
       "  'Gene_or_gene_product': {'precision': 0.8113626892623975,\n",
       "   'recall': 0.8965464313123561,\n",
       "   'f1': 0.851830246463468,\n",
       "   'number': 6515},\n",
       "  'Immaterial_anatomical_entity': {'precision': 0.9,\n",
       "   'recall': 0.09473684210526316,\n",
       "   'f1': 0.17142857142857143,\n",
       "   'number': 95},\n",
       "  'Multi-tissue_structure': {'precision': 0.46503884572697,\n",
       "   'recall': 0.6310240963855421,\n",
       "   'f1': 0.5354632587859425,\n",
       "   'number': 664},\n",
       "  'Organ': {'precision': 0.6170212765957447,\n",
       "   'recall': 0.21014492753623187,\n",
       "   'f1': 0.31351351351351353,\n",
       "   'number': 276},\n",
       "  'Organism': {'precision': 0.6646115906288532,\n",
       "   'recall': 0.7293640054127198,\n",
       "   'f1': 0.6954838709677418,\n",
       "   'number': 739},\n",
       "  'Organism_subdivision': {'precision': 0.0,\n",
       "   'recall': 0.0,\n",
       "   'f1': 0.0,\n",
       "   'number': 55},\n",
       "  'Organism_substance': {'precision': 0.85,\n",
       "   'recall': 0.20481927710843373,\n",
       "   'f1': 0.33009708737864074,\n",
       "   'number': 166},\n",
       "  'Pathological_formation': {'precision': 0.0,\n",
       "   'recall': 0.0,\n",
       "   'f1': 0.0,\n",
       "   'number': 177},\n",
       "  'Simple_chemical': {'precision': 0.7752577319587629,\n",
       "   'recall': 0.7237728585178056,\n",
       "   'f1': 0.7486311597809856,\n",
       "   'number': 2078},\n",
       "  'Tissue': {'precision': 0.3486394557823129,\n",
       "   'recall': 0.5601092896174863,\n",
       "   'f1': 0.429769392033543,\n",
       "   'number': 366},\n",
       "  'overall_precision': 0.744056956679136,\n",
       "  'overall_recall': 0.7693555430781708,\n",
       "  'overall_f1': 0.756494801091924,\n",
       "  'overall_accuracy': 0.9141212326447681,\n",
       "  'model_def_name': 'bert-base-cased',\n",
       "  'subset_name': 'BioNLP13CG-IOB'},\n",
       " 'roberta-base-BioNLP13CG-IOB': {'Amino_acid': {'precision': 0.0,\n",
       "   'recall': 0.0,\n",
       "   'f1': 0.0,\n",
       "   'number': 169},\n",
       "  'Anatomical_system': {'precision': 0.0,\n",
       "   'recall': 0.0,\n",
       "   'f1': 0.0,\n",
       "   'number': 28},\n",
       "  'Cancer': {'precision': 0.7798569069895432,\n",
       "   'recall': 0.8640243902439024,\n",
       "   'f1': 0.8197859415678334,\n",
       "   'number': 1640},\n",
       "  'Cell': {'precision': 0.7809722948248824,\n",
       "   'recall': 0.8313856427378965,\n",
       "   'f1': 0.8053908355795149,\n",
       "   'number': 1797},\n",
       "  'Cellular_component': {'precision': 0.506896551724138,\n",
       "   'recall': 0.4916387959866221,\n",
       "   'f1': 0.4991511035653651,\n",
       "   'number': 299},\n",
       "  'Developing_anatomical_structure': {'precision': 0.0,\n",
       "   'recall': 0.0,\n",
       "   'f1': 0.0,\n",
       "   'number': 20},\n",
       "  'Gene_or_gene_product': {'precision': 0.8156952132855747,\n",
       "   'recall': 0.8906666666666667,\n",
       "   'f1': 0.8515339508795785,\n",
       "   'number': 5625},\n",
       "  'Immaterial_anatomical_entity': {'precision': 0.0,\n",
       "   'recall': 0.0,\n",
       "   'f1': 0.0,\n",
       "   'number': 89},\n",
       "  'Multi-tissue_structure': {'precision': 0.36704545454545456,\n",
       "   'recall': 0.6659793814432989,\n",
       "   'f1': 0.47326007326007324,\n",
       "   'number': 485},\n",
       "  'Organ': {'precision': 1.0,\n",
       "   'recall': 0.03571428571428571,\n",
       "   'f1': 0.0689655172413793,\n",
       "   'number': 224},\n",
       "  'Organism': {'precision': 0.6431424766977364,\n",
       "   'recall': 0.7241379310344828,\n",
       "   'f1': 0.6812411847672779,\n",
       "   'number': 667},\n",
       "  'Organism_subdivision': {'precision': 0.0,\n",
       "   'recall': 0.0,\n",
       "   'f1': 0.0,\n",
       "   'number': 56},\n",
       "  'Organism_substance': {'precision': 0.8857142857142857,\n",
       "   'recall': 0.1962025316455696,\n",
       "   'f1': 0.3212435233160622,\n",
       "   'number': 158},\n",
       "  'Pathological_formation': {'precision': 0.0,\n",
       "   'recall': 0.0,\n",
       "   'f1': 0.0,\n",
       "   'number': 156},\n",
       "  'Simple_chemical': {'precision': 0.7559779276517474,\n",
       "   'recall': 0.7282929710572947,\n",
       "   'f1': 0.7418772563176895,\n",
       "   'number': 1693},\n",
       "  'Tissue': {'precision': 0.37945492662473795,\n",
       "   'recall': 0.5746031746031746,\n",
       "   'f1': 0.45707070707070707,\n",
       "   'number': 315},\n",
       "  'overall_precision': 0.7406052782558806,\n",
       "  'overall_recall': 0.7694657626108338,\n",
       "  'overall_f1': 0.7547597295815822,\n",
       "  'overall_accuracy': 0.9177246720309175,\n",
       "  'model_def_name': 'roberta-base',\n",
       "  'subset_name': 'BioNLP13CG-IOB'},\n",
       " 'roberta-large-BioNLP13CG-IOB': {'Amino_acid': {'precision': 0.625,\n",
       "   'recall': 0.029585798816568046,\n",
       "   'f1': 0.056497175141242924,\n",
       "   'number': 169},\n",
       "  'Anatomical_system': {'precision': 0.0,\n",
       "   'recall': 0.0,\n",
       "   'f1': 0.0,\n",
       "   'number': 28},\n",
       "  'Cancer': {'precision': 0.8626634958382877,\n",
       "   'recall': 0.8847560975609756,\n",
       "   'f1': 0.8735701384708008,\n",
       "   'number': 1640},\n",
       "  'Cell': {'precision': 0.8357105124141574,\n",
       "   'recall': 0.8803561491374513,\n",
       "   'f1': 0.8574525745257453,\n",
       "   'number': 1797},\n",
       "  'Cellular_component': {'precision': 0.696319018404908,\n",
       "   'recall': 0.7591973244147158,\n",
       "   'f1': 0.7264,\n",
       "   'number': 299},\n",
       "  'Developing_anatomical_structure': {'precision': 0.0,\n",
       "   'recall': 0.0,\n",
       "   'f1': 0.0,\n",
       "   'number': 20},\n",
       "  'Gene_or_gene_product': {'precision': 0.8622644655661164,\n",
       "   'recall': 0.9192888888888889,\n",
       "   'f1': 0.8898640509378765,\n",
       "   'number': 5625},\n",
       "  'Immaterial_anatomical_entity': {'precision': 0.44274809160305345,\n",
       "   'recall': 0.651685393258427,\n",
       "   'f1': 0.5272727272727272,\n",
       "   'number': 89},\n",
       "  'Multi-tissue_structure': {'precision': 0.5842490842490843,\n",
       "   'recall': 0.6577319587628866,\n",
       "   'f1': 0.6188166828322018,\n",
       "   'number': 485},\n",
       "  'Organ': {'precision': 0.5663716814159292,\n",
       "   'recall': 0.5714285714285714,\n",
       "   'f1': 0.5688888888888889,\n",
       "   'number': 224},\n",
       "  'Organism': {'precision': 0.8064046579330422,\n",
       "   'recall': 0.8305847076461769,\n",
       "   'f1': 0.8183161004431313,\n",
       "   'number': 667},\n",
       "  'Organism_subdivision': {'precision': 0.0,\n",
       "   'recall': 0.0,\n",
       "   'f1': 0.0,\n",
       "   'number': 56},\n",
       "  'Organism_substance': {'precision': 0.7981651376146789,\n",
       "   'recall': 0.5506329113924051,\n",
       "   'f1': 0.651685393258427,\n",
       "   'number': 158},\n",
       "  'Pathological_formation': {'precision': 0.5066666666666667,\n",
       "   'recall': 0.24358974358974358,\n",
       "   'f1': 0.329004329004329,\n",
       "   'number': 156},\n",
       "  'Simple_chemical': {'precision': 0.8469640644361834,\n",
       "   'recall': 0.8074424099232133,\n",
       "   'f1': 0.8267311762927125,\n",
       "   'number': 1693},\n",
       "  'Tissue': {'precision': 0.4686192468619247,\n",
       "   'recall': 0.7111111111111111,\n",
       "   'f1': 0.5649432534678437,\n",
       "   'number': 315},\n",
       "  'overall_precision': 0.8140429857682254,\n",
       "  'overall_recall': 0.835332687579167,\n",
       "  'overall_f1': 0.8245504357739123,\n",
       "  'overall_accuracy': 0.9390407753506137,\n",
       "  'model_def_name': 'roberta-large',\n",
       "  'subset_name': 'BioNLP13CG-IOB'},\n",
       " 'biobert-base-cased-v1.2-BioNLP13CG-IOB': {'Amino_acid': {'precision': 0.7727272727272727,\n",
       "   'recall': 0.07327586206896551,\n",
       "   'f1': 0.13385826771653542,\n",
       "   'number': 232},\n",
       "  'Anatomical_system': {'precision': 0.0,\n",
       "   'recall': 0.0,\n",
       "   'f1': 0.0,\n",
       "   'number': 36},\n",
       "  'Cancer': {'precision': 0.8372881355932204,\n",
       "   'recall': 0.8812436289500509,\n",
       "   'f1': 0.8587037496895952,\n",
       "   'number': 1962},\n",
       "  'Cell': {'precision': 0.8667820069204152,\n",
       "   'recall': 0.8751091703056768,\n",
       "   'f1': 0.8709256844850065,\n",
       "   'number': 2290},\n",
       "  'Cellular_component': {'precision': 0.5926892950391645,\n",
       "   'recall': 0.6920731707317073,\n",
       "   'f1': 0.6385372714486637,\n",
       "   'number': 328},\n",
       "  'Developing_anatomical_structure': {'precision': 0.9090909090909091,\n",
       "   'recall': 0.2,\n",
       "   'f1': 0.32786885245901637,\n",
       "   'number': 50},\n",
       "  'Gene_or_gene_product': {'precision': 0.8906592603420552,\n",
       "   'recall': 0.9352264006139678,\n",
       "   'f1': 0.9123989218328841,\n",
       "   'number': 6515},\n",
       "  'Immaterial_anatomical_entity': {'precision': 0.717391304347826,\n",
       "   'recall': 0.3473684210526316,\n",
       "   'f1': 0.46808510638297873,\n",
       "   'number': 95},\n",
       "  'Multi-tissue_structure': {'precision': 0.5775656324582339,\n",
       "   'recall': 0.7289156626506024,\n",
       "   'f1': 0.644474034620506,\n",
       "   'number': 664},\n",
       "  'Organ': {'precision': 0.6751269035532995,\n",
       "   'recall': 0.48188405797101447,\n",
       "   'f1': 0.562367864693446,\n",
       "   'number': 276},\n",
       "  'Organism': {'precision': 0.7672301690507152,\n",
       "   'recall': 0.7983761840324763,\n",
       "   'f1': 0.7824933687002653,\n",
       "   'number': 739},\n",
       "  'Organism_subdivision': {'precision': 0.0,\n",
       "   'recall': 0.0,\n",
       "   'f1': 0.0,\n",
       "   'number': 55},\n",
       "  'Organism_substance': {'precision': 0.7864077669902912,\n",
       "   'recall': 0.4879518072289157,\n",
       "   'f1': 0.6022304832713755,\n",
       "   'number': 166},\n",
       "  'Pathological_formation': {'precision': 0.75,\n",
       "   'recall': 0.1016949152542373,\n",
       "   'f1': 0.17910447761194032,\n",
       "   'number': 177},\n",
       "  'Simple_chemical': {'precision': 0.8732673267326733,\n",
       "   'recall': 0.848893166506256,\n",
       "   'f1': 0.8609077598828696,\n",
       "   'number': 2078},\n",
       "  'Tissue': {'precision': 0.45387453874538747,\n",
       "   'recall': 0.6721311475409836,\n",
       "   'f1': 0.5418502202643172,\n",
       "   'number': 366},\n",
       "  'overall_precision': 0.8303345081308353,\n",
       "  'overall_recall': 0.83779399837794,\n",
       "  'overall_f1': 0.8340475746848022,\n",
       "  'overall_accuracy': 0.9397358618354216,\n",
       "  'model_def_name': 'biobert-base-cased-v1.2',\n",
       "  'subset_name': 'BioNLP13CG-IOB'},\n",
       " 'scibert_scivocab_uncased-BioNLP13CG-IOB': {'Amino_acid': {'precision': 0.0,\n",
       "   'recall': 0.0,\n",
       "   'f1': 0.0,\n",
       "   'number': 159},\n",
       "  'Anatomical_system': {'precision': 0.0,\n",
       "   'recall': 0.0,\n",
       "   'f1': 0.0,\n",
       "   'number': 19},\n",
       "  'Cancer': {'precision': 0.8160621761658031,\n",
       "   'recall': 0.8982889733840305,\n",
       "   'f1': 0.8552036199095023,\n",
       "   'number': 1052},\n",
       "  'Cell': {'precision': 0.8427051671732523,\n",
       "   'recall': 0.858359133126935,\n",
       "   'f1': 0.8504601226993864,\n",
       "   'number': 1292},\n",
       "  'Cellular_component': {'precision': 0.6666666666666666,\n",
       "   'recall': 0.7448979591836735,\n",
       "   'f1': 0.7036144578313253,\n",
       "   'number': 196},\n",
       "  'Developing_anatomical_structure': {'precision': 0.0,\n",
       "   'recall': 0.0,\n",
       "   'f1': 0.0,\n",
       "   'number': 20},\n",
       "  'Gene_or_gene_product': {'precision': 0.8808350926577527,\n",
       "   'recall': 0.9271604938271605,\n",
       "   'f1': 0.9034043065078793,\n",
       "   'number': 4050},\n",
       "  'Immaterial_anatomical_entity': {'precision': 0.0,\n",
       "   'recall': 0.0,\n",
       "   'f1': 0.0,\n",
       "   'number': 50},\n",
       "  'Multi-tissue_structure': {'precision': 0.5741626794258373,\n",
       "   'recall': 0.6469002695417789,\n",
       "   'f1': 0.6083650190114067,\n",
       "   'number': 371},\n",
       "  'Organ': {'precision': 0.5764705882352941,\n",
       "   'recall': 0.532608695652174,\n",
       "   'f1': 0.5536723163841807,\n",
       "   'number': 184},\n",
       "  'Organism': {'precision': 0.7873754152823921,\n",
       "   'recall': 0.8272251308900523,\n",
       "   'f1': 0.8068085106382978,\n",
       "   'number': 573},\n",
       "  'Organism_subdivision': {'precision': 0.0,\n",
       "   'recall': 0.0,\n",
       "   'f1': 0.0,\n",
       "   'number': 50},\n",
       "  'Organism_substance': {'precision': 0.7746478873239436,\n",
       "   'recall': 0.4954954954954955,\n",
       "   'f1': 0.6043956043956045,\n",
       "   'number': 111},\n",
       "  'Pathological_formation': {'precision': 0.7058823529411765,\n",
       "   'recall': 0.22018348623853212,\n",
       "   'f1': 0.3356643356643357,\n",
       "   'number': 109},\n",
       "  'Simple_chemical': {'precision': 0.8109028960817717,\n",
       "   'recall': 0.796652719665272,\n",
       "   'f1': 0.8037146475306035,\n",
       "   'number': 1195},\n",
       "  'Tissue': {'precision': 0.3643410852713178,\n",
       "   'recall': 0.618421052631579,\n",
       "   'f1': 0.4585365853658536,\n",
       "   'number': 228},\n",
       "  'overall_precision': 0.809028839294813,\n",
       "  'overall_recall': 0.8219277357904545,\n",
       "  'overall_f1': 0.8154272801972062,\n",
       "  'overall_accuracy': 0.9487006237006237,\n",
       "  'model_def_name': 'scibert_scivocab_uncased',\n",
       "  'subset_name': 'BioNLP13CG-IOB'},\n",
       " 'scibert_scivocab_cased-BioNLP13CG-IOB': {'Amino_acid': {'precision': 0.0,\n",
       "   'recall': 0.0,\n",
       "   'f1': 0.0,\n",
       "   'number': 160},\n",
       "  'Anatomical_system': {'precision': 0.0,\n",
       "   'recall': 0.0,\n",
       "   'f1': 0.0,\n",
       "   'number': 19},\n",
       "  'Cancer': {'precision': 0.803265306122449,\n",
       "   'recall': 0.8921124206708976,\n",
       "   'f1': 0.845360824742268,\n",
       "   'number': 1103},\n",
       "  'Cell': {'precision': 0.8288808664259928,\n",
       "   'recall': 0.8579970104633782,\n",
       "   'f1': 0.8431876606683806,\n",
       "   'number': 1338},\n",
       "  'Cellular_component': {'precision': 0.6291666666666667,\n",
       "   'recall': 0.7587939698492462,\n",
       "   'f1': 0.6879271070615034,\n",
       "   'number': 199},\n",
       "  'Developing_anatomical_structure': {'precision': 0.0,\n",
       "   'recall': 0.0,\n",
       "   'f1': 0.0,\n",
       "   'number': 20},\n",
       "  'Gene_or_gene_product': {'precision': 0.8887940234791889,\n",
       "   'recall': 0.9265687583444593,\n",
       "   'f1': 0.9072883756400479,\n",
       "   'number': 4494},\n",
       "  'Immaterial_anatomical_entity': {'precision': 0.0,\n",
       "   'recall': 0.0,\n",
       "   'f1': 0.0,\n",
       "   'number': 51},\n",
       "  'Multi-tissue_structure': {'precision': 0.512720156555773,\n",
       "   'recall': 0.6822916666666666,\n",
       "   'f1': 0.5854748603351955,\n",
       "   'number': 384},\n",
       "  'Organ': {'precision': 0.52,\n",
       "   'recall': 0.4945652173913043,\n",
       "   'f1': 0.5069637883008357,\n",
       "   'number': 184},\n",
       "  'Organism': {'precision': 0.7953125,\n",
       "   'recall': 0.8627118644067797,\n",
       "   'f1': 0.8276422764227642,\n",
       "   'number': 590},\n",
       "  'Organism_subdivision': {'precision': 0.0,\n",
       "   'recall': 0.0,\n",
       "   'f1': 0.0,\n",
       "   'number': 49},\n",
       "  'Organism_substance': {'precision': 0.8360655737704918,\n",
       "   'recall': 0.425,\n",
       "   'f1': 0.56353591160221,\n",
       "   'number': 120},\n",
       "  'Pathological_formation': {'precision': 0.7142857142857143,\n",
       "   'recall': 0.21739130434782608,\n",
       "   'f1': 0.3333333333333333,\n",
       "   'number': 115},\n",
       "  'Simple_chemical': {'precision': 0.8338391502276176,\n",
       "   'recall': 0.8389312977099237,\n",
       "   'f1': 0.8363774733637749,\n",
       "   'number': 1310},\n",
       "  'Tissue': {'precision': 0.39820359281437123,\n",
       "   'recall': 0.5683760683760684,\n",
       "   'f1': 0.4683098591549295,\n",
       "   'number': 234},\n",
       "  'overall_precision': 0.8120818019036848,\n",
       "  'overall_recall': 0.8309546769527483,\n",
       "  'overall_f1': 0.8214098470044325,\n",
       "  'overall_accuracy': 0.9486819871578236,\n",
       "  'model_def_name': 'scibert_scivocab_cased',\n",
       "  'subset_name': 'BioNLP13CG-IOB'},\n",
       " 'BiomedNLP-PubMedBERT-base-uncased-abstract-BioNLP13CG-IOB': {'Amino_acid': {'precision': 0.0,\n",
       "   'recall': 0.0,\n",
       "   'f1': 0.0,\n",
       "   'number': 157},\n",
       "  'Anatomical_system': {'precision': 0.0,\n",
       "   'recall': 0.0,\n",
       "   'f1': 0.0,\n",
       "   'number': 18},\n",
       "  'Cancer': {'precision': 0.8070175438596491,\n",
       "   'recall': 0.8810483870967742,\n",
       "   'f1': 0.8424096385542168,\n",
       "   'number': 992},\n",
       "  'Cell': {'precision': 0.8499184339314845,\n",
       "   'recall': 0.8837998303647159,\n",
       "   'f1': 0.8665280665280666,\n",
       "   'number': 1179},\n",
       "  'Cellular_component': {'precision': 0.6327433628318584,\n",
       "   'recall': 0.7606382978723404,\n",
       "   'f1': 0.6908212560386473,\n",
       "   'number': 188},\n",
       "  'Developing_anatomical_structure': {'precision': 0.0,\n",
       "   'recall': 0.0,\n",
       "   'f1': 0.0,\n",
       "   'number': 21},\n",
       "  'Gene_or_gene_product': {'precision': 0.8984728506787331,\n",
       "   'recall': 0.9346866725507502,\n",
       "   'f1': 0.9162220620043259,\n",
       "   'number': 3399},\n",
       "  'Immaterial_anatomical_entity': {'precision': 0.0,\n",
       "   'recall': 0.0,\n",
       "   'f1': 0.0,\n",
       "   'number': 43},\n",
       "  'Multi-tissue_structure': {'precision': 0.532150776053215,\n",
       "   'recall': 0.712166172106825,\n",
       "   'f1': 0.6091370558375634,\n",
       "   'number': 337},\n",
       "  'Organ': {'precision': 0.5604395604395604,\n",
       "   'recall': 0.5730337078651685,\n",
       "   'f1': 0.5666666666666665,\n",
       "   'number': 178},\n",
       "  'Organism': {'precision': 0.8586387434554974,\n",
       "   'recall': 0.8817204301075269,\n",
       "   'f1': 0.8700265251989391,\n",
       "   'number': 558},\n",
       "  'Organism_subdivision': {'precision': 0.0,\n",
       "   'recall': 0.0,\n",
       "   'f1': 0.0,\n",
       "   'number': 47},\n",
       "  'Organism_substance': {'precision': 0.7903225806451613,\n",
       "   'recall': 0.4666666666666667,\n",
       "   'f1': 0.5868263473053893,\n",
       "   'number': 105},\n",
       "  'Pathological_formation': {'precision': 0.8,\n",
       "   'recall': 0.1188118811881188,\n",
       "   'f1': 0.20689655172413793,\n",
       "   'number': 101},\n",
       "  'Simple_chemical': {'precision': 0.8392116182572614,\n",
       "   'recall': 0.8171717171717172,\n",
       "   'f1': 0.8280450358239508,\n",
       "   'number': 990},\n",
       "  'Tissue': {'precision': 0.41025641025641024,\n",
       "   'recall': 0.649746192893401,\n",
       "   'f1': 0.5029469548133594,\n",
       "   'number': 197},\n",
       "  'overall_precision': 0.8190034762456547,\n",
       "  'overall_recall': 0.8305522914218566,\n",
       "  'overall_f1': 0.8247374562427071,\n",
       "  'overall_accuracy': 0.9540410045760819,\n",
       "  'model_def_name': 'BiomedNLP-PubMedBERT-base-uncased-abstract',\n",
       "  'subset_name': 'BioNLP13CG-IOB'},\n",
       " 'BiomedNLP-PubMedBERT-base-uncased-abstract-fulltext-BioNLP13CG-IOB': {'Amino_acid': {'precision': 0.0,\n",
       "   'recall': 0.0,\n",
       "   'f1': 0.0,\n",
       "   'number': 130},\n",
       "  'Anatomical_system': {'precision': 0.0,\n",
       "   'recall': 0.0,\n",
       "   'f1': 0.0,\n",
       "   'number': 18},\n",
       "  'Cancer': {'precision': 0.8050089445438283,\n",
       "   'recall': 0.9009009009009009,\n",
       "   'f1': 0.8502598016060463,\n",
       "   'number': 999},\n",
       "  'Cell': {'precision': 0.8233890214797136,\n",
       "   'recall': 0.8823529411764706,\n",
       "   'f1': 0.8518518518518517,\n",
       "   'number': 1173},\n",
       "  'Cellular_component': {'precision': 0.4838709677419355,\n",
       "   'recall': 0.5675675675675675,\n",
       "   'f1': 0.5223880597014925,\n",
       "   'number': 185},\n",
       "  'Developing_anatomical_structure': {'precision': 0.0,\n",
       "   'recall': 0.0,\n",
       "   'f1': 0.0,\n",
       "   'number': 20},\n",
       "  'Gene_or_gene_product': {'precision': 0.8955752212389381,\n",
       "   'recall': 0.9341538461538461,\n",
       "   'f1': 0.9144578313253012,\n",
       "   'number': 3250},\n",
       "  'Immaterial_anatomical_entity': {'precision': 0.0,\n",
       "   'recall': 0.0,\n",
       "   'f1': 0.0,\n",
       "   'number': 44},\n",
       "  'Multi-tissue_structure': {'precision': 0.39285714285714285,\n",
       "   'recall': 0.7419354838709677,\n",
       "   'f1': 0.5137055837563452,\n",
       "   'number': 341},\n",
       "  'Organ': {'precision': 0.803030303030303,\n",
       "   'recall': 0.29608938547486036,\n",
       "   'f1': 0.4326530612244899,\n",
       "   'number': 179},\n",
       "  'Organism': {'precision': 0.8163606010016694,\n",
       "   'recall': 0.8858695652173914,\n",
       "   'f1': 0.8496959165942658,\n",
       "   'number': 552},\n",
       "  'Organism_subdivision': {'precision': 0.0,\n",
       "   'recall': 0.0,\n",
       "   'f1': 0.0,\n",
       "   'number': 48},\n",
       "  'Organism_substance': {'precision': 0.9285714285714286,\n",
       "   'recall': 0.3644859813084112,\n",
       "   'f1': 0.5234899328859061,\n",
       "   'number': 107},\n",
       "  'Pathological_formation': {'precision': 0.0,\n",
       "   'recall': 0.0,\n",
       "   'f1': 0.0,\n",
       "   'number': 107},\n",
       "  'Simple_chemical': {'precision': 0.84,\n",
       "   'recall': 0.8367346938775511,\n",
       "   'f1': 0.8383641674780915,\n",
       "   'number': 1029},\n",
       "  'Tissue': {'precision': 0.4869109947643979,\n",
       "   'recall': 0.42857142857142855,\n",
       "   'f1': 0.45588235294117646,\n",
       "   'number': 217},\n",
       "  'overall_precision': 0.8029009240846883,\n",
       "  'overall_recall': 0.8172401476366234,\n",
       "  'overall_f1': 0.8100070804814727,\n",
       "  'overall_accuracy': 0.9513589553988494,\n",
       "  'model_def_name': 'BiomedNLP-PubMedBERT-base-uncased-abstract-fulltext',\n",
       "  'subset_name': 'BioNLP13CG-IOB'},\n",
       " 'Bio_ClinicalBERT-BioNLP13CG-IOB': {'Amino_acid': {'precision': 0.0,\n",
       "   'recall': 0.0,\n",
       "   'f1': 0.0,\n",
       "   'number': 236},\n",
       "  'Anatomical_system': {'precision': 0.0,\n",
       "   'recall': 0.0,\n",
       "   'f1': 0.0,\n",
       "   'number': 36},\n",
       "  'Cancer': {'precision': 0.7631111111111111,\n",
       "   'recall': 0.8619477911646586,\n",
       "   'f1': 0.8095238095238095,\n",
       "   'number': 1992},\n",
       "  'Cell': {'precision': 0.8008130081300813,\n",
       "   'recall': 0.8632778264680105,\n",
       "   'f1': 0.8308730493462674,\n",
       "   'number': 2282},\n",
       "  'Cellular_component': {'precision': 0.5815217391304348,\n",
       "   'recall': 0.5815217391304348,\n",
       "   'f1': 0.5815217391304348,\n",
       "   'number': 368},\n",
       "  'Developing_anatomical_structure': {'precision': 0.0,\n",
       "   'recall': 0.0,\n",
       "   'f1': 0.0,\n",
       "   'number': 50},\n",
       "  'Gene_or_gene_product': {'precision': 0.8268109908409659,\n",
       "   'recall': 0.9163334358658874,\n",
       "   'f1': 0.8692734169827838,\n",
       "   'number': 6502},\n",
       "  'Immaterial_anatomical_entity': {'precision': 0.9090909090909091,\n",
       "   'recall': 0.10526315789473684,\n",
       "   'f1': 0.18867924528301885,\n",
       "   'number': 95},\n",
       "  'Multi-tissue_structure': {'precision': 0.43952483801295894,\n",
       "   'recall': 0.6213740458015267,\n",
       "   'f1': 0.5148640101201771,\n",
       "   'number': 655},\n",
       "  'Organ': {'precision': 0.8571428571428571,\n",
       "   'recall': 0.06521739130434782,\n",
       "   'f1': 0.12121212121212122,\n",
       "   'number': 276},\n",
       "  'Organism': {'precision': 0.6593137254901961,\n",
       "   'recall': 0.7309782608695652,\n",
       "   'f1': 0.6932989690721649,\n",
       "   'number': 736},\n",
       "  'Organism_subdivision': {'precision': 0.0,\n",
       "   'recall': 0.0,\n",
       "   'f1': 0.0,\n",
       "   'number': 55},\n",
       "  'Organism_substance': {'precision': 0.8947368421052632,\n",
       "   'recall': 0.21518987341772153,\n",
       "   'f1': 0.3469387755102041,\n",
       "   'number': 158},\n",
       "  'Pathological_formation': {'precision': 0.0,\n",
       "   'recall': 0.0,\n",
       "   'f1': 0.0,\n",
       "   'number': 180},\n",
       "  'Simple_chemical': {'precision': 0.7568667344862665,\n",
       "   'recall': 0.7333661902414983,\n",
       "   'f1': 0.7449311639549436,\n",
       "   'number': 2029},\n",
       "  'Tissue': {'precision': 0.3470483005366726,\n",
       "   'recall': 0.5388888888888889,\n",
       "   'f1': 0.42219804134929273,\n",
       "   'number': 360},\n",
       "  'overall_precision': 0.7549485590518019,\n",
       "  'overall_recall': 0.7837601499063086,\n",
       "  'overall_f1': 0.7690846127915173,\n",
       "  'overall_accuracy': 0.9178911331735707,\n",
       "  'model_def_name': 'Bio_ClinicalBERT',\n",
       "  'subset_name': 'BioNLP13CG-IOB'},\n",
       " 'bluebert_pubmed_uncased_L-24_H-1024_A-16-BioNLP13CG-IOB': {'Amino_acid': {'precision': 0.6,\n",
       "   'recall': 0.12558139534883722,\n",
       "   'f1': 0.20769230769230768,\n",
       "   'number': 215},\n",
       "  'Anatomical_system': {'precision': 0.0,\n",
       "   'recall': 0.0,\n",
       "   'f1': 0.0,\n",
       "   'number': 33},\n",
       "  'Cancer': {'precision': 0.8153765690376569,\n",
       "   'recall': 0.865149833518313,\n",
       "   'f1': 0.8395261173936457,\n",
       "   'number': 1802},\n",
       "  'Cell': {'precision': 0.8534971644612477,\n",
       "   'recall': 0.8784046692607004,\n",
       "   'f1': 0.8657718120805369,\n",
       "   'number': 2056},\n",
       "  'Cellular_component': {'precision': 0.6748466257668712,\n",
       "   'recall': 0.7096774193548387,\n",
       "   'f1': 0.6918238993710693,\n",
       "   'number': 310},\n",
       "  'Developing_anatomical_structure': {'precision': 0.0,\n",
       "   'recall': 0.0,\n",
       "   'f1': 0.0,\n",
       "   'number': 28},\n",
       "  'Gene_or_gene_product': {'precision': 0.8848995018038138,\n",
       "   'recall': 0.9152452025586354,\n",
       "   'f1': 0.8998165778670627,\n",
       "   'number': 5628},\n",
       "  'Immaterial_anatomical_entity': {'precision': 0.46835443037974683,\n",
       "   'recall': 0.47435897435897434,\n",
       "   'f1': 0.4713375796178344,\n",
       "   'number': 78},\n",
       "  'Multi-tissue_structure': {'precision': 0.6517341040462428,\n",
       "   'recall': 0.7124802527646129,\n",
       "   'f1': 0.6807547169811321,\n",
       "   'number': 633},\n",
       "  'Organ': {'precision': 0.5441176470588235,\n",
       "   'recall': 0.5896414342629482,\n",
       "   'f1': 0.5659655831739963,\n",
       "   'number': 251},\n",
       "  'Organism': {'precision': 0.7646258503401361,\n",
       "   'recall': 0.8350668647845468,\n",
       "   'f1': 0.7982954545454545,\n",
       "   'number': 673},\n",
       "  'Organism_subdivision': {'precision': 0.0,\n",
       "   'recall': 0.0,\n",
       "   'f1': 0.0,\n",
       "   'number': 55},\n",
       "  'Organism_substance': {'precision': 0.7444444444444445,\n",
       "   'recall': 0.432258064516129,\n",
       "   'f1': 0.5469387755102042,\n",
       "   'number': 155},\n",
       "  'Pathological_formation': {'precision': 0.6458333333333334,\n",
       "   'recall': 0.18235294117647058,\n",
       "   'f1': 0.2844036697247706,\n",
       "   'number': 170},\n",
       "  'Simple_chemical': {'precision': 0.8151581243184297,\n",
       "   'recall': 0.8241455347298787,\n",
       "   'f1': 0.8196271929824561,\n",
       "   'number': 1814},\n",
       "  'Tissue': {'precision': 0.48490945674044267,\n",
       "   'recall': 0.7172619047619048,\n",
       "   'f1': 0.5786314525810323,\n",
       "   'number': 336},\n",
       "  'overall_precision': 0.8153037948434367,\n",
       "  'overall_recall': 0.8284751000913114,\n",
       "  'overall_f1': 0.8218366778149386,\n",
       "  'overall_accuracy': 0.9384330784905988,\n",
       "  'model_def_name': 'bluebert_pubmed_uncased_L-24_H-1024_A-16',\n",
       "  'subset_name': 'BioNLP13CG-IOB'},\n",
       " 'bluebert_pubmed_mimic_uncased_L-24_H-1024_A-16-BioNLP13CG-IOB': {'Amino_acid': {'precision': 0.0,\n",
       "   'recall': 0.0,\n",
       "   'f1': 0.0,\n",
       "   'number': 215},\n",
       "  'Anatomical_system': {'precision': 0.0,\n",
       "   'recall': 0.0,\n",
       "   'f1': 0.0,\n",
       "   'number': 33},\n",
       "  'Cancer': {'precision': 0.8034447821681864,\n",
       "   'recall': 0.8801331853496115,\n",
       "   'f1': 0.8400423728813557,\n",
       "   'number': 1802},\n",
       "  'Cell': {'precision': 0.7905156537753223,\n",
       "   'recall': 0.8351167315175098,\n",
       "   'f1': 0.8122043519394513,\n",
       "   'number': 2056},\n",
       "  'Cellular_component': {'precision': 0.45180722891566266,\n",
       "   'recall': 0.4838709677419355,\n",
       "   'f1': 0.4672897196261682,\n",
       "   'number': 310},\n",
       "  'Developing_anatomical_structure': {'precision': 0.0,\n",
       "   'recall': 0.0,\n",
       "   'f1': 0.0,\n",
       "   'number': 28},\n",
       "  'Gene_or_gene_product': {'precision': 0.8192495921696574,\n",
       "   'recall': 0.8923240938166311,\n",
       "   'f1': 0.8542269093383228,\n",
       "   'number': 5628},\n",
       "  'Immaterial_anatomical_entity': {'precision': 0.8571428571428571,\n",
       "   'recall': 0.07692307692307693,\n",
       "   'f1': 0.1411764705882353,\n",
       "   'number': 78},\n",
       "  'Multi-tissue_structure': {'precision': 0.5580182529335072,\n",
       "   'recall': 0.6761453396524486,\n",
       "   'f1': 0.6114285714285713,\n",
       "   'number': 633},\n",
       "  'Organ': {'precision': 0.5406698564593302,\n",
       "   'recall': 0.450199203187251,\n",
       "   'f1': 0.49130434782608695,\n",
       "   'number': 251},\n",
       "  'Organism': {'precision': 0.6897470039946738,\n",
       "   'recall': 0.7696879643387816,\n",
       "   'f1': 0.7275280898876405,\n",
       "   'number': 673},\n",
       "  'Organism_subdivision': {'precision': 0.0,\n",
       "   'recall': 0.0,\n",
       "   'f1': 0.0,\n",
       "   'number': 55},\n",
       "  'Organism_substance': {'precision': 0.8695652173913043,\n",
       "   'recall': 0.25806451612903225,\n",
       "   'f1': 0.3980099502487562,\n",
       "   'number': 155},\n",
       "  'Pathological_formation': {'precision': 0.8333333333333334,\n",
       "   'recall': 0.029411764705882353,\n",
       "   'f1': 0.056818181818181816,\n",
       "   'number': 170},\n",
       "  'Simple_chemical': {'precision': 0.7474460839954598,\n",
       "   'recall': 0.7260198456449835,\n",
       "   'f1': 0.7365771812080537,\n",
       "   'number': 1814},\n",
       "  'Tissue': {'precision': 0.4415322580645161,\n",
       "   'recall': 0.6517857142857143,\n",
       "   'f1': 0.5264423076923076,\n",
       "   'number': 336},\n",
       "  'overall_precision': 0.759009009009009,\n",
       "  'overall_recall': 0.7811336658003792,\n",
       "  'overall_f1': 0.7699124234137561,\n",
       "  'overall_accuracy': 0.920468833552527,\n",
       "  'model_def_name': 'bluebert_pubmed_mimic_uncased_L-24_H-1024_A-16',\n",
       "  'subset_name': 'BioNLP13CG-IOB'},\n",
       " 'bluebert_pubmed_uncased_L-12_H-768_A-12-BioNLP13CG-IOB': {'Amino_acid': {'precision': 0.0,\n",
       "   'recall': 0.0,\n",
       "   'f1': 0.0,\n",
       "   'number': 215},\n",
       "  'Anatomical_system': {'precision': 0.0,\n",
       "   'recall': 0.0,\n",
       "   'f1': 0.0,\n",
       "   'number': 33},\n",
       "  'Cancer': {'precision': 0.7973724103082365,\n",
       "   'recall': 0.8756936736958935,\n",
       "   'f1': 0.8346998148637926,\n",
       "   'number': 1802},\n",
       "  'Cell': {'precision': 0.8256532066508313,\n",
       "   'recall': 0.8453307392996109,\n",
       "   'f1': 0.8353761115116559,\n",
       "   'number': 2056},\n",
       "  'Cellular_component': {'precision': 0.5488958990536278,\n",
       "   'recall': 0.5612903225806452,\n",
       "   'f1': 0.5550239234449762,\n",
       "   'number': 310},\n",
       "  'Developing_anatomical_structure': {'precision': 0.0,\n",
       "   'recall': 0.0,\n",
       "   'f1': 0.0,\n",
       "   'number': 28},\n",
       "  'Gene_or_gene_product': {'precision': 0.893728813559322,\n",
       "   'recall': 0.9369225302061123,\n",
       "   'f1': 0.9148160999306036,\n",
       "   'number': 5628},\n",
       "  'Immaterial_anatomical_entity': {'precision': 0.0,\n",
       "   'recall': 0.0,\n",
       "   'f1': 0.0,\n",
       "   'number': 78},\n",
       "  'Multi-tissue_structure': {'precision': 0.3870646766169154,\n",
       "   'recall': 0.6145339652448657,\n",
       "   'f1': 0.474969474969475,\n",
       "   'number': 633},\n",
       "  'Organ': {'precision': 0.8333333333333334,\n",
       "   'recall': 0.05976095617529881,\n",
       "   'f1': 0.11152416356877323,\n",
       "   'number': 251},\n",
       "  'Organism': {'precision': 0.7076537013801757,\n",
       "   'recall': 0.8380386329866271,\n",
       "   'f1': 0.7673469387755103,\n",
       "   'number': 673},\n",
       "  'Organism_subdivision': {'precision': 0.0,\n",
       "   'recall': 0.0,\n",
       "   'f1': 0.0,\n",
       "   'number': 55},\n",
       "  'Organism_substance': {'precision': 0.9565217391304348,\n",
       "   'recall': 0.14193548387096774,\n",
       "   'f1': 0.2471910112359551,\n",
       "   'number': 155},\n",
       "  'Pathological_formation': {'precision': 0.0,\n",
       "   'recall': 0.0,\n",
       "   'f1': 0.0,\n",
       "   'number': 170},\n",
       "  'Simple_chemical': {'precision': 0.8268096514745308,\n",
       "   'recall': 0.8500551267916208,\n",
       "   'f1': 0.8382712693666757,\n",
       "   'number': 1814},\n",
       "  'Tissue': {'precision': 0.3098330241187384,\n",
       "   'recall': 0.49702380952380953,\n",
       "   'f1': 0.3817142857142858,\n",
       "   'number': 336},\n",
       "  'overall_precision': 0.7878746219411603,\n",
       "  'overall_recall': 0.8050853410128538,\n",
       "  'overall_f1': 0.7963870071217648,\n",
       "  'overall_accuracy': 0.9335481912910265,\n",
       "  'model_def_name': 'bluebert_pubmed_uncased_L-12_H-768_A-12',\n",
       "  'subset_name': 'BioNLP13CG-IOB'},\n",
       " 'bluebert_pubmed_mimic_uncased_L-12_H-768_A-12-BioNLP13CG-IOB': {'Amino_acid': {'precision': 0.0,\n",
       "   'recall': 0.0,\n",
       "   'f1': 0.0,\n",
       "   'number': 215},\n",
       "  'Anatomical_system': {'precision': 0.0,\n",
       "   'recall': 0.0,\n",
       "   'f1': 0.0,\n",
       "   'number': 33},\n",
       "  'Cancer': {'precision': 0.757606490872211,\n",
       "   'recall': 0.8290788013318535,\n",
       "   'f1': 0.7917329093799682,\n",
       "   'number': 1802},\n",
       "  'Cell': {'precision': 0.7432550043516101,\n",
       "   'recall': 0.830739299610895,\n",
       "   'f1': 0.7845659163987139,\n",
       "   'number': 2056},\n",
       "  'Cellular_component': {'precision': 0.6601941747572816,\n",
       "   'recall': 0.21935483870967742,\n",
       "   'f1': 0.3292978208232446,\n",
       "   'number': 310},\n",
       "  'Developing_anatomical_structure': {'precision': 0.0,\n",
       "   'recall': 0.0,\n",
       "   'f1': 0.0,\n",
       "   'number': 28},\n",
       "  'Gene_or_gene_product': {'precision': 0.8340439488356838,\n",
       "   'recall': 0.9036958066808813,\n",
       "   'f1': 0.8674739894252088,\n",
       "   'number': 5628},\n",
       "  'Immaterial_anatomical_entity': {'precision': 0.0,\n",
       "   'recall': 0.0,\n",
       "   'f1': 0.0,\n",
       "   'number': 78},\n",
       "  'Multi-tissue_structure': {'precision': 0.4459183673469388,\n",
       "   'recall': 0.6903633491311216,\n",
       "   'f1': 0.5418474891506511,\n",
       "   'number': 633},\n",
       "  'Organ': {'precision': 0.6842105263157895,\n",
       "   'recall': 0.05179282868525897,\n",
       "   'f1': 0.09629629629629631,\n",
       "   'number': 251},\n",
       "  'Organism': {'precision': 0.6294820717131474,\n",
       "   'recall': 0.7043090638930164,\n",
       "   'f1': 0.664796633941094,\n",
       "   'number': 673},\n",
       "  'Organism_subdivision': {'precision': 0.0,\n",
       "   'recall': 0.0,\n",
       "   'f1': 0.0,\n",
       "   'number': 55},\n",
       "  'Organism_substance': {'precision': 0.0,\n",
       "   'recall': 0.0,\n",
       "   'f1': 0.0,\n",
       "   'number': 155},\n",
       "  'Pathological_formation': {'precision': 0.0,\n",
       "   'recall': 0.0,\n",
       "   'f1': 0.0,\n",
       "   'number': 170},\n",
       "  'Simple_chemical': {'precision': 0.8053731343283582,\n",
       "   'recall': 0.7436604189636163,\n",
       "   'f1': 0.7732874749211809,\n",
       "   'number': 1814},\n",
       "  'Tissue': {'precision': 0.3065134099616858,\n",
       "   'recall': 0.47619047619047616,\n",
       "   'f1': 0.37296037296037293,\n",
       "   'number': 336},\n",
       "  'overall_precision': 0.7481969486823856,\n",
       "  'overall_recall': 0.7578141462386738,\n",
       "  'overall_f1': 0.7529748403531423,\n",
       "  'overall_accuracy': 0.9191247669561949,\n",
       "  'model_def_name': 'bluebert_pubmed_mimic_uncased_L-12_H-768_A-12',\n",
       "  'subset_name': 'BioNLP13CG-IOB'}}"
      ]
     },
     "execution_count": 53,
     "metadata": {},
     "output_type": "execute_result"
    }
   ],
   "source": [
    "ner_blobs"
   ]
  },
  {
   "cell_type": "code",
   "execution_count": 54,
   "id": "526d97ca",
   "metadata": {},
   "outputs": [],
   "source": [
    "rows = []\n",
    "for key, blob in ner_blobs.items():\n",
    "    row = (\n",
    "        blob['model_def_name'],\n",
    "        blob['subset_name'],\n",
    "        blob['overall_precision'],\n",
    "        blob['overall_recall'],\n",
    "        blob['overall_f1'],\n",
    "        blob['overall_accuracy'],\n",
    "    )\n",
    "    rows.append(row)\n",
    "df_plt = pd.DataFrame(\n",
    "    rows,\n",
    "    columns=['model_name', 'dataset', 'precision', 'recall', 'f1', 'accuracy']\n",
    ")\n",
    "df_plt[\"cased\"] = df_plt[\"model_name\"].apply(lambda x: MODEL_NAME_TO_DEF[x].cased)"
   ]
  },
  {
   "cell_type": "code",
   "execution_count": 55,
   "id": "1666c926",
   "metadata": {},
   "outputs": [
    {
     "data": {
      "text/html": [
       "<div>\n",
       "<style scoped>\n",
       "    .dataframe tbody tr th:only-of-type {\n",
       "        vertical-align: middle;\n",
       "    }\n",
       "\n",
       "    .dataframe tbody tr th {\n",
       "        vertical-align: top;\n",
       "    }\n",
       "\n",
       "    .dataframe thead th {\n",
       "        text-align: right;\n",
       "    }\n",
       "</style>\n",
       "<table border=\"1\" class=\"dataframe\">\n",
       "  <thead>\n",
       "    <tr style=\"text-align: right;\">\n",
       "      <th></th>\n",
       "      <th>model_name</th>\n",
       "      <th>dataset</th>\n",
       "      <th>precision</th>\n",
       "      <th>recall</th>\n",
       "      <th>f1</th>\n",
       "      <th>accuracy</th>\n",
       "      <th>cased</th>\n",
       "    </tr>\n",
       "  </thead>\n",
       "  <tbody>\n",
       "    <tr>\n",
       "      <th>13</th>\n",
       "      <td>bluebert_pubmed_mimic_uncased_L-24_H-1024_A-16</td>\n",
       "      <td>BC2GM-IOB</td>\n",
       "      <td>0.816618</td>\n",
       "      <td>0.838570</td>\n",
       "      <td>0.827449</td>\n",
       "      <td>0.965639</td>\n",
       "      <td>False</td>\n",
       "    </tr>\n",
       "    <tr>\n",
       "      <th>2</th>\n",
       "      <td>bert-base-uncased</td>\n",
       "      <td>BC2GM-IOB</td>\n",
       "      <td>0.818922</td>\n",
       "      <td>0.842329</td>\n",
       "      <td>0.830460</td>\n",
       "      <td>0.965797</td>\n",
       "      <td>False</td>\n",
       "    </tr>\n",
       "    <tr>\n",
       "      <th>15</th>\n",
       "      <td>bluebert_pubmed_mimic_uncased_L-12_H-768_A-12</td>\n",
       "      <td>BC2GM-IOB</td>\n",
       "      <td>0.827444</td>\n",
       "      <td>0.842116</td>\n",
       "      <td>0.834716</td>\n",
       "      <td>0.967126</td>\n",
       "      <td>False</td>\n",
       "    </tr>\n",
       "    <tr>\n",
       "      <th>4</th>\n",
       "      <td>roberta-base</td>\n",
       "      <td>BC2GM-IOB</td>\n",
       "      <td>0.826112</td>\n",
       "      <td>0.847616</td>\n",
       "      <td>0.836726</td>\n",
       "      <td>0.965628</td>\n",
       "      <td>True</td>\n",
       "    </tr>\n",
       "    <tr>\n",
       "      <th>3</th>\n",
       "      <td>bert-base-cased</td>\n",
       "      <td>BC2GM-IOB</td>\n",
       "      <td>0.821786</td>\n",
       "      <td>0.858962</td>\n",
       "      <td>0.839963</td>\n",
       "      <td>0.964895</td>\n",
       "      <td>True</td>\n",
       "    </tr>\n",
       "    <tr>\n",
       "      <th>11</th>\n",
       "      <td>Bio_ClinicalBERT</td>\n",
       "      <td>BC2GM-IOB</td>\n",
       "      <td>0.837355</td>\n",
       "      <td>0.858114</td>\n",
       "      <td>0.847608</td>\n",
       "      <td>0.966785</td>\n",
       "      <td>False</td>\n",
       "    </tr>\n",
       "    <tr>\n",
       "      <th>7</th>\n",
       "      <td>scibert_scivocab_uncased</td>\n",
       "      <td>BC2GM-IOB</td>\n",
       "      <td>0.843705</td>\n",
       "      <td>0.862267</td>\n",
       "      <td>0.852885</td>\n",
       "      <td>0.975116</td>\n",
       "      <td>False</td>\n",
       "    </tr>\n",
       "    <tr>\n",
       "      <th>0</th>\n",
       "      <td>BioLinkBERT-base</td>\n",
       "      <td>BC2GM-IOB</td>\n",
       "      <td>0.840391</td>\n",
       "      <td>0.868048</td>\n",
       "      <td>0.853995</td>\n",
       "      <td>0.976641</td>\n",
       "      <td>False</td>\n",
       "    </tr>\n",
       "    <tr>\n",
       "      <th>12</th>\n",
       "      <td>bluebert_pubmed_uncased_L-24_H-1024_A-16</td>\n",
       "      <td>BC2GM-IOB</td>\n",
       "      <td>0.847205</td>\n",
       "      <td>0.862047</td>\n",
       "      <td>0.854561</td>\n",
       "      <td>0.971225</td>\n",
       "      <td>False</td>\n",
       "    </tr>\n",
       "    <tr>\n",
       "      <th>10</th>\n",
       "      <td>BiomedNLP-PubMedBERT-base-uncased-abstract-ful...</td>\n",
       "      <td>BC2GM-IOB</td>\n",
       "      <td>0.841826</td>\n",
       "      <td>0.868851</td>\n",
       "      <td>0.855125</td>\n",
       "      <td>0.978176</td>\n",
       "      <td>False</td>\n",
       "    </tr>\n",
       "    <tr>\n",
       "      <th>9</th>\n",
       "      <td>BiomedNLP-PubMedBERT-base-uncased-abstract</td>\n",
       "      <td>BC2GM-IOB</td>\n",
       "      <td>0.842889</td>\n",
       "      <td>0.868678</td>\n",
       "      <td>0.855589</td>\n",
       "      <td>0.977883</td>\n",
       "      <td>False</td>\n",
       "    </tr>\n",
       "    <tr>\n",
       "      <th>8</th>\n",
       "      <td>scibert_scivocab_cased</td>\n",
       "      <td>BC2GM-IOB</td>\n",
       "      <td>0.847987</td>\n",
       "      <td>0.872104</td>\n",
       "      <td>0.859876</td>\n",
       "      <td>0.974353</td>\n",
       "      <td>True</td>\n",
       "    </tr>\n",
       "    <tr>\n",
       "      <th>5</th>\n",
       "      <td>roberta-large</td>\n",
       "      <td>BC2GM-IOB</td>\n",
       "      <td>0.857361</td>\n",
       "      <td>0.864068</td>\n",
       "      <td>0.860701</td>\n",
       "      <td>0.970846</td>\n",
       "      <td>True</td>\n",
       "    </tr>\n",
       "    <tr>\n",
       "      <th>1</th>\n",
       "      <td>BioLinkBERT-large</td>\n",
       "      <td>BC2GM-IOB</td>\n",
       "      <td>0.852148</td>\n",
       "      <td>0.873830</td>\n",
       "      <td>0.862853</td>\n",
       "      <td>0.978064</td>\n",
       "      <td>False</td>\n",
       "    </tr>\n",
       "    <tr>\n",
       "      <th>14</th>\n",
       "      <td>bluebert_pubmed_uncased_L-12_H-768_A-12</td>\n",
       "      <td>BC2GM-IOB</td>\n",
       "      <td>0.853721</td>\n",
       "      <td>0.874672</td>\n",
       "      <td>0.864070</td>\n",
       "      <td>0.973099</td>\n",
       "      <td>False</td>\n",
       "    </tr>\n",
       "    <tr>\n",
       "      <th>6</th>\n",
       "      <td>biobert-base-cased-v1.2</td>\n",
       "      <td>BC2GM-IOB</td>\n",
       "      <td>0.864508</td>\n",
       "      <td>0.877632</td>\n",
       "      <td>0.871021</td>\n",
       "      <td>0.972121</td>\n",
       "      <td>True</td>\n",
       "    </tr>\n",
       "    <tr>\n",
       "      <th>18</th>\n",
       "      <td>bert-base-uncased</td>\n",
       "      <td>BioNLP13CG-IOB</td>\n",
       "      <td>0.729584</td>\n",
       "      <td>0.758025</td>\n",
       "      <td>0.743532</td>\n",
       "      <td>0.914370</td>\n",
       "      <td>False</td>\n",
       "    </tr>\n",
       "    <tr>\n",
       "      <th>31</th>\n",
       "      <td>bluebert_pubmed_mimic_uncased_L-12_H-768_A-12</td>\n",
       "      <td>BioNLP13CG-IOB</td>\n",
       "      <td>0.748197</td>\n",
       "      <td>0.757814</td>\n",
       "      <td>0.752975</td>\n",
       "      <td>0.919125</td>\n",
       "      <td>False</td>\n",
       "    </tr>\n",
       "    <tr>\n",
       "      <th>20</th>\n",
       "      <td>roberta-base</td>\n",
       "      <td>BioNLP13CG-IOB</td>\n",
       "      <td>0.740605</td>\n",
       "      <td>0.769466</td>\n",
       "      <td>0.754760</td>\n",
       "      <td>0.917725</td>\n",
       "      <td>True</td>\n",
       "    </tr>\n",
       "    <tr>\n",
       "      <th>19</th>\n",
       "      <td>bert-base-cased</td>\n",
       "      <td>BioNLP13CG-IOB</td>\n",
       "      <td>0.744057</td>\n",
       "      <td>0.769356</td>\n",
       "      <td>0.756495</td>\n",
       "      <td>0.914121</td>\n",
       "      <td>True</td>\n",
       "    </tr>\n",
       "    <tr>\n",
       "      <th>27</th>\n",
       "      <td>Bio_ClinicalBERT</td>\n",
       "      <td>BioNLP13CG-IOB</td>\n",
       "      <td>0.754949</td>\n",
       "      <td>0.783760</td>\n",
       "      <td>0.769085</td>\n",
       "      <td>0.917891</td>\n",
       "      <td>False</td>\n",
       "    </tr>\n",
       "    <tr>\n",
       "      <th>29</th>\n",
       "      <td>bluebert_pubmed_mimic_uncased_L-24_H-1024_A-16</td>\n",
       "      <td>BioNLP13CG-IOB</td>\n",
       "      <td>0.759009</td>\n",
       "      <td>0.781134</td>\n",
       "      <td>0.769912</td>\n",
       "      <td>0.920469</td>\n",
       "      <td>False</td>\n",
       "    </tr>\n",
       "    <tr>\n",
       "      <th>16</th>\n",
       "      <td>BioLinkBERT-base</td>\n",
       "      <td>BioNLP13CG-IOB</td>\n",
       "      <td>0.777930</td>\n",
       "      <td>0.800235</td>\n",
       "      <td>0.788925</td>\n",
       "      <td>0.947285</td>\n",
       "      <td>False</td>\n",
       "    </tr>\n",
       "    <tr>\n",
       "      <th>30</th>\n",
       "      <td>bluebert_pubmed_uncased_L-12_H-768_A-12</td>\n",
       "      <td>BioNLP13CG-IOB</td>\n",
       "      <td>0.787875</td>\n",
       "      <td>0.805085</td>\n",
       "      <td>0.796387</td>\n",
       "      <td>0.933548</td>\n",
       "      <td>False</td>\n",
       "    </tr>\n",
       "    <tr>\n",
       "      <th>26</th>\n",
       "      <td>BiomedNLP-PubMedBERT-base-uncased-abstract-ful...</td>\n",
       "      <td>BioNLP13CG-IOB</td>\n",
       "      <td>0.802901</td>\n",
       "      <td>0.817240</td>\n",
       "      <td>0.810007</td>\n",
       "      <td>0.951359</td>\n",
       "      <td>False</td>\n",
       "    </tr>\n",
       "    <tr>\n",
       "      <th>23</th>\n",
       "      <td>scibert_scivocab_uncased</td>\n",
       "      <td>BioNLP13CG-IOB</td>\n",
       "      <td>0.809029</td>\n",
       "      <td>0.821928</td>\n",
       "      <td>0.815427</td>\n",
       "      <td>0.948701</td>\n",
       "      <td>False</td>\n",
       "    </tr>\n",
       "    <tr>\n",
       "      <th>24</th>\n",
       "      <td>scibert_scivocab_cased</td>\n",
       "      <td>BioNLP13CG-IOB</td>\n",
       "      <td>0.812082</td>\n",
       "      <td>0.830955</td>\n",
       "      <td>0.821410</td>\n",
       "      <td>0.948682</td>\n",
       "      <td>True</td>\n",
       "    </tr>\n",
       "    <tr>\n",
       "      <th>28</th>\n",
       "      <td>bluebert_pubmed_uncased_L-24_H-1024_A-16</td>\n",
       "      <td>BioNLP13CG-IOB</td>\n",
       "      <td>0.815304</td>\n",
       "      <td>0.828475</td>\n",
       "      <td>0.821837</td>\n",
       "      <td>0.938433</td>\n",
       "      <td>False</td>\n",
       "    </tr>\n",
       "    <tr>\n",
       "      <th>21</th>\n",
       "      <td>roberta-large</td>\n",
       "      <td>BioNLP13CG-IOB</td>\n",
       "      <td>0.814043</td>\n",
       "      <td>0.835333</td>\n",
       "      <td>0.824550</td>\n",
       "      <td>0.939041</td>\n",
       "      <td>True</td>\n",
       "    </tr>\n",
       "    <tr>\n",
       "      <th>17</th>\n",
       "      <td>BioLinkBERT-large</td>\n",
       "      <td>BioNLP13CG-IOB</td>\n",
       "      <td>0.813608</td>\n",
       "      <td>0.836075</td>\n",
       "      <td>0.824688</td>\n",
       "      <td>0.953771</td>\n",
       "      <td>False</td>\n",
       "    </tr>\n",
       "    <tr>\n",
       "      <th>25</th>\n",
       "      <td>BiomedNLP-PubMedBERT-base-uncased-abstract</td>\n",
       "      <td>BioNLP13CG-IOB</td>\n",
       "      <td>0.819003</td>\n",
       "      <td>0.830552</td>\n",
       "      <td>0.824737</td>\n",
       "      <td>0.954041</td>\n",
       "      <td>False</td>\n",
       "    </tr>\n",
       "    <tr>\n",
       "      <th>22</th>\n",
       "      <td>biobert-base-cased-v1.2</td>\n",
       "      <td>BioNLP13CG-IOB</td>\n",
       "      <td>0.830335</td>\n",
       "      <td>0.837794</td>\n",
       "      <td>0.834048</td>\n",
       "      <td>0.939736</td>\n",
       "      <td>True</td>\n",
       "    </tr>\n",
       "  </tbody>\n",
       "</table>\n",
       "</div>"
      ],
      "text/plain": [
       "                                           model_name         dataset  \\\n",
       "13     bluebert_pubmed_mimic_uncased_L-24_H-1024_A-16       BC2GM-IOB   \n",
       "2                                   bert-base-uncased       BC2GM-IOB   \n",
       "15      bluebert_pubmed_mimic_uncased_L-12_H-768_A-12       BC2GM-IOB   \n",
       "4                                        roberta-base       BC2GM-IOB   \n",
       "3                                     bert-base-cased       BC2GM-IOB   \n",
       "11                                   Bio_ClinicalBERT       BC2GM-IOB   \n",
       "7                            scibert_scivocab_uncased       BC2GM-IOB   \n",
       "0                                    BioLinkBERT-base       BC2GM-IOB   \n",
       "12           bluebert_pubmed_uncased_L-24_H-1024_A-16       BC2GM-IOB   \n",
       "10  BiomedNLP-PubMedBERT-base-uncased-abstract-ful...       BC2GM-IOB   \n",
       "9          BiomedNLP-PubMedBERT-base-uncased-abstract       BC2GM-IOB   \n",
       "8                              scibert_scivocab_cased       BC2GM-IOB   \n",
       "5                                       roberta-large       BC2GM-IOB   \n",
       "1                                   BioLinkBERT-large       BC2GM-IOB   \n",
       "14            bluebert_pubmed_uncased_L-12_H-768_A-12       BC2GM-IOB   \n",
       "6                             biobert-base-cased-v1.2       BC2GM-IOB   \n",
       "18                                  bert-base-uncased  BioNLP13CG-IOB   \n",
       "31      bluebert_pubmed_mimic_uncased_L-12_H-768_A-12  BioNLP13CG-IOB   \n",
       "20                                       roberta-base  BioNLP13CG-IOB   \n",
       "19                                    bert-base-cased  BioNLP13CG-IOB   \n",
       "27                                   Bio_ClinicalBERT  BioNLP13CG-IOB   \n",
       "29     bluebert_pubmed_mimic_uncased_L-24_H-1024_A-16  BioNLP13CG-IOB   \n",
       "16                                   BioLinkBERT-base  BioNLP13CG-IOB   \n",
       "30            bluebert_pubmed_uncased_L-12_H-768_A-12  BioNLP13CG-IOB   \n",
       "26  BiomedNLP-PubMedBERT-base-uncased-abstract-ful...  BioNLP13CG-IOB   \n",
       "23                           scibert_scivocab_uncased  BioNLP13CG-IOB   \n",
       "24                             scibert_scivocab_cased  BioNLP13CG-IOB   \n",
       "28           bluebert_pubmed_uncased_L-24_H-1024_A-16  BioNLP13CG-IOB   \n",
       "21                                      roberta-large  BioNLP13CG-IOB   \n",
       "17                                  BioLinkBERT-large  BioNLP13CG-IOB   \n",
       "25         BiomedNLP-PubMedBERT-base-uncased-abstract  BioNLP13CG-IOB   \n",
       "22                            biobert-base-cased-v1.2  BioNLP13CG-IOB   \n",
       "\n",
       "    precision    recall        f1  accuracy  cased  \n",
       "13   0.816618  0.838570  0.827449  0.965639  False  \n",
       "2    0.818922  0.842329  0.830460  0.965797  False  \n",
       "15   0.827444  0.842116  0.834716  0.967126  False  \n",
       "4    0.826112  0.847616  0.836726  0.965628   True  \n",
       "3    0.821786  0.858962  0.839963  0.964895   True  \n",
       "11   0.837355  0.858114  0.847608  0.966785  False  \n",
       "7    0.843705  0.862267  0.852885  0.975116  False  \n",
       "0    0.840391  0.868048  0.853995  0.976641  False  \n",
       "12   0.847205  0.862047  0.854561  0.971225  False  \n",
       "10   0.841826  0.868851  0.855125  0.978176  False  \n",
       "9    0.842889  0.868678  0.855589  0.977883  False  \n",
       "8    0.847987  0.872104  0.859876  0.974353   True  \n",
       "5    0.857361  0.864068  0.860701  0.970846   True  \n",
       "1    0.852148  0.873830  0.862853  0.978064  False  \n",
       "14   0.853721  0.874672  0.864070  0.973099  False  \n",
       "6    0.864508  0.877632  0.871021  0.972121   True  \n",
       "18   0.729584  0.758025  0.743532  0.914370  False  \n",
       "31   0.748197  0.757814  0.752975  0.919125  False  \n",
       "20   0.740605  0.769466  0.754760  0.917725   True  \n",
       "19   0.744057  0.769356  0.756495  0.914121   True  \n",
       "27   0.754949  0.783760  0.769085  0.917891  False  \n",
       "29   0.759009  0.781134  0.769912  0.920469  False  \n",
       "16   0.777930  0.800235  0.788925  0.947285  False  \n",
       "30   0.787875  0.805085  0.796387  0.933548  False  \n",
       "26   0.802901  0.817240  0.810007  0.951359  False  \n",
       "23   0.809029  0.821928  0.815427  0.948701  False  \n",
       "24   0.812082  0.830955  0.821410  0.948682   True  \n",
       "28   0.815304  0.828475  0.821837  0.938433  False  \n",
       "21   0.814043  0.835333  0.824550  0.939041   True  \n",
       "17   0.813608  0.836075  0.824688  0.953771  False  \n",
       "25   0.819003  0.830552  0.824737  0.954041  False  \n",
       "22   0.830335  0.837794  0.834048  0.939736   True  "
      ]
     },
     "execution_count": 55,
     "metadata": {},
     "output_type": "execute_result"
    }
   ],
   "source": [
    "df_plt = df_plt.sort_values(['dataset', 'f1'])\n",
    "df_plt"
   ]
  },
  {
   "cell_type": "code",
   "execution_count": 56,
   "id": "0e3501ba",
   "metadata": {
    "scrolled": false
   },
   "outputs": [
    {
     "data": {
      "application/vnd.plotly.v1+json": {
       "config": {
        "plotlyServerURL": "https://plot.ly"
       },
       "data": [
        {
         "alignmentgroup": "True",
         "hovertemplate": "f1=%{x}<br>model_name=%{y}<extra></extra>",
         "legendgroup": "",
         "marker": {
          "color": "#636efa",
          "pattern": {
           "shape": ""
          }
         },
         "name": "",
         "offsetgroup": "",
         "orientation": "h",
         "showlegend": false,
         "textposition": "auto",
         "type": "bar",
         "x": [
          0.8274486475137348,
          0.8304604734100206,
          0.8347159730033746,
          0.8367258553486357,
          0.8399628864745144,
          0.8476077066349118,
          0.8528847033007222,
          0.8539953452288596,
          0.8545614343469854,
          0.8551248180298701,
          0.8555894993009889,
          0.8598762886597939,
          0.8607014093739758,
          0.8628529900332225,
          0.8640695067264574,
          0.8710206561360875
         ],
         "xaxis": "x",
         "y": [
          "bluebert_pubmed_mimic_uncased_L-24_H-1024_A-16",
          "bert-base-uncased",
          "bluebert_pubmed_mimic_uncased_L-12_H-768_A-12",
          "roberta-base",
          "bert-base-cased",
          "Bio_ClinicalBERT",
          "scibert_scivocab_uncased",
          "BioLinkBERT-base",
          "bluebert_pubmed_uncased_L-24_H-1024_A-16",
          "BiomedNLP-PubMedBERT-base-uncased-abstract-fulltext",
          "BiomedNLP-PubMedBERT-base-uncased-abstract",
          "scibert_scivocab_cased",
          "roberta-large",
          "BioLinkBERT-large",
          "bluebert_pubmed_uncased_L-12_H-768_A-12",
          "biobert-base-cased-v1.2"
         ],
         "yaxis": "y"
        }
       ],
       "layout": {
        "barmode": "relative",
        "height": 500,
        "legend": {
         "tracegroupgap": 0
        },
        "margin": {
         "t": 60
        },
        "template": {
         "data": {
          "bar": [
           {
            "error_x": {
             "color": "#2a3f5f"
            },
            "error_y": {
             "color": "#2a3f5f"
            },
            "marker": {
             "line": {
              "color": "#E5ECF6",
              "width": 0.5
             },
             "pattern": {
              "fillmode": "overlay",
              "size": 10,
              "solidity": 0.2
             }
            },
            "type": "bar"
           }
          ],
          "barpolar": [
           {
            "marker": {
             "line": {
              "color": "#E5ECF6",
              "width": 0.5
             },
             "pattern": {
              "fillmode": "overlay",
              "size": 10,
              "solidity": 0.2
             }
            },
            "type": "barpolar"
           }
          ],
          "carpet": [
           {
            "aaxis": {
             "endlinecolor": "#2a3f5f",
             "gridcolor": "white",
             "linecolor": "white",
             "minorgridcolor": "white",
             "startlinecolor": "#2a3f5f"
            },
            "baxis": {
             "endlinecolor": "#2a3f5f",
             "gridcolor": "white",
             "linecolor": "white",
             "minorgridcolor": "white",
             "startlinecolor": "#2a3f5f"
            },
            "type": "carpet"
           }
          ],
          "choropleth": [
           {
            "colorbar": {
             "outlinewidth": 0,
             "ticks": ""
            },
            "type": "choropleth"
           }
          ],
          "contour": [
           {
            "colorbar": {
             "outlinewidth": 0,
             "ticks": ""
            },
            "colorscale": [
             [
              0,
              "#0d0887"
             ],
             [
              0.1111111111111111,
              "#46039f"
             ],
             [
              0.2222222222222222,
              "#7201a8"
             ],
             [
              0.3333333333333333,
              "#9c179e"
             ],
             [
              0.4444444444444444,
              "#bd3786"
             ],
             [
              0.5555555555555556,
              "#d8576b"
             ],
             [
              0.6666666666666666,
              "#ed7953"
             ],
             [
              0.7777777777777778,
              "#fb9f3a"
             ],
             [
              0.8888888888888888,
              "#fdca26"
             ],
             [
              1,
              "#f0f921"
             ]
            ],
            "type": "contour"
           }
          ],
          "contourcarpet": [
           {
            "colorbar": {
             "outlinewidth": 0,
             "ticks": ""
            },
            "type": "contourcarpet"
           }
          ],
          "heatmap": [
           {
            "colorbar": {
             "outlinewidth": 0,
             "ticks": ""
            },
            "colorscale": [
             [
              0,
              "#0d0887"
             ],
             [
              0.1111111111111111,
              "#46039f"
             ],
             [
              0.2222222222222222,
              "#7201a8"
             ],
             [
              0.3333333333333333,
              "#9c179e"
             ],
             [
              0.4444444444444444,
              "#bd3786"
             ],
             [
              0.5555555555555556,
              "#d8576b"
             ],
             [
              0.6666666666666666,
              "#ed7953"
             ],
             [
              0.7777777777777778,
              "#fb9f3a"
             ],
             [
              0.8888888888888888,
              "#fdca26"
             ],
             [
              1,
              "#f0f921"
             ]
            ],
            "type": "heatmap"
           }
          ],
          "heatmapgl": [
           {
            "colorbar": {
             "outlinewidth": 0,
             "ticks": ""
            },
            "colorscale": [
             [
              0,
              "#0d0887"
             ],
             [
              0.1111111111111111,
              "#46039f"
             ],
             [
              0.2222222222222222,
              "#7201a8"
             ],
             [
              0.3333333333333333,
              "#9c179e"
             ],
             [
              0.4444444444444444,
              "#bd3786"
             ],
             [
              0.5555555555555556,
              "#d8576b"
             ],
             [
              0.6666666666666666,
              "#ed7953"
             ],
             [
              0.7777777777777778,
              "#fb9f3a"
             ],
             [
              0.8888888888888888,
              "#fdca26"
             ],
             [
              1,
              "#f0f921"
             ]
            ],
            "type": "heatmapgl"
           }
          ],
          "histogram": [
           {
            "marker": {
             "pattern": {
              "fillmode": "overlay",
              "size": 10,
              "solidity": 0.2
             }
            },
            "type": "histogram"
           }
          ],
          "histogram2d": [
           {
            "colorbar": {
             "outlinewidth": 0,
             "ticks": ""
            },
            "colorscale": [
             [
              0,
              "#0d0887"
             ],
             [
              0.1111111111111111,
              "#46039f"
             ],
             [
              0.2222222222222222,
              "#7201a8"
             ],
             [
              0.3333333333333333,
              "#9c179e"
             ],
             [
              0.4444444444444444,
              "#bd3786"
             ],
             [
              0.5555555555555556,
              "#d8576b"
             ],
             [
              0.6666666666666666,
              "#ed7953"
             ],
             [
              0.7777777777777778,
              "#fb9f3a"
             ],
             [
              0.8888888888888888,
              "#fdca26"
             ],
             [
              1,
              "#f0f921"
             ]
            ],
            "type": "histogram2d"
           }
          ],
          "histogram2dcontour": [
           {
            "colorbar": {
             "outlinewidth": 0,
             "ticks": ""
            },
            "colorscale": [
             [
              0,
              "#0d0887"
             ],
             [
              0.1111111111111111,
              "#46039f"
             ],
             [
              0.2222222222222222,
              "#7201a8"
             ],
             [
              0.3333333333333333,
              "#9c179e"
             ],
             [
              0.4444444444444444,
              "#bd3786"
             ],
             [
              0.5555555555555556,
              "#d8576b"
             ],
             [
              0.6666666666666666,
              "#ed7953"
             ],
             [
              0.7777777777777778,
              "#fb9f3a"
             ],
             [
              0.8888888888888888,
              "#fdca26"
             ],
             [
              1,
              "#f0f921"
             ]
            ],
            "type": "histogram2dcontour"
           }
          ],
          "mesh3d": [
           {
            "colorbar": {
             "outlinewidth": 0,
             "ticks": ""
            },
            "type": "mesh3d"
           }
          ],
          "parcoords": [
           {
            "line": {
             "colorbar": {
              "outlinewidth": 0,
              "ticks": ""
             }
            },
            "type": "parcoords"
           }
          ],
          "pie": [
           {
            "automargin": true,
            "type": "pie"
           }
          ],
          "scatter": [
           {
            "marker": {
             "colorbar": {
              "outlinewidth": 0,
              "ticks": ""
             }
            },
            "type": "scatter"
           }
          ],
          "scatter3d": [
           {
            "line": {
             "colorbar": {
              "outlinewidth": 0,
              "ticks": ""
             }
            },
            "marker": {
             "colorbar": {
              "outlinewidth": 0,
              "ticks": ""
             }
            },
            "type": "scatter3d"
           }
          ],
          "scattercarpet": [
           {
            "marker": {
             "colorbar": {
              "outlinewidth": 0,
              "ticks": ""
             }
            },
            "type": "scattercarpet"
           }
          ],
          "scattergeo": [
           {
            "marker": {
             "colorbar": {
              "outlinewidth": 0,
              "ticks": ""
             }
            },
            "type": "scattergeo"
           }
          ],
          "scattergl": [
           {
            "marker": {
             "colorbar": {
              "outlinewidth": 0,
              "ticks": ""
             }
            },
            "type": "scattergl"
           }
          ],
          "scattermapbox": [
           {
            "marker": {
             "colorbar": {
              "outlinewidth": 0,
              "ticks": ""
             }
            },
            "type": "scattermapbox"
           }
          ],
          "scatterpolar": [
           {
            "marker": {
             "colorbar": {
              "outlinewidth": 0,
              "ticks": ""
             }
            },
            "type": "scatterpolar"
           }
          ],
          "scatterpolargl": [
           {
            "marker": {
             "colorbar": {
              "outlinewidth": 0,
              "ticks": ""
             }
            },
            "type": "scatterpolargl"
           }
          ],
          "scatterternary": [
           {
            "marker": {
             "colorbar": {
              "outlinewidth": 0,
              "ticks": ""
             }
            },
            "type": "scatterternary"
           }
          ],
          "surface": [
           {
            "colorbar": {
             "outlinewidth": 0,
             "ticks": ""
            },
            "colorscale": [
             [
              0,
              "#0d0887"
             ],
             [
              0.1111111111111111,
              "#46039f"
             ],
             [
              0.2222222222222222,
              "#7201a8"
             ],
             [
              0.3333333333333333,
              "#9c179e"
             ],
             [
              0.4444444444444444,
              "#bd3786"
             ],
             [
              0.5555555555555556,
              "#d8576b"
             ],
             [
              0.6666666666666666,
              "#ed7953"
             ],
             [
              0.7777777777777778,
              "#fb9f3a"
             ],
             [
              0.8888888888888888,
              "#fdca26"
             ],
             [
              1,
              "#f0f921"
             ]
            ],
            "type": "surface"
           }
          ],
          "table": [
           {
            "cells": {
             "fill": {
              "color": "#EBF0F8"
             },
             "line": {
              "color": "white"
             }
            },
            "header": {
             "fill": {
              "color": "#C8D4E3"
             },
             "line": {
              "color": "white"
             }
            },
            "type": "table"
           }
          ]
         },
         "layout": {
          "annotationdefaults": {
           "arrowcolor": "#2a3f5f",
           "arrowhead": 0,
           "arrowwidth": 1
          },
          "autotypenumbers": "strict",
          "coloraxis": {
           "colorbar": {
            "outlinewidth": 0,
            "ticks": ""
           }
          },
          "colorscale": {
           "diverging": [
            [
             0,
             "#8e0152"
            ],
            [
             0.1,
             "#c51b7d"
            ],
            [
             0.2,
             "#de77ae"
            ],
            [
             0.3,
             "#f1b6da"
            ],
            [
             0.4,
             "#fde0ef"
            ],
            [
             0.5,
             "#f7f7f7"
            ],
            [
             0.6,
             "#e6f5d0"
            ],
            [
             0.7,
             "#b8e186"
            ],
            [
             0.8,
             "#7fbc41"
            ],
            [
             0.9,
             "#4d9221"
            ],
            [
             1,
             "#276419"
            ]
           ],
           "sequential": [
            [
             0,
             "#0d0887"
            ],
            [
             0.1111111111111111,
             "#46039f"
            ],
            [
             0.2222222222222222,
             "#7201a8"
            ],
            [
             0.3333333333333333,
             "#9c179e"
            ],
            [
             0.4444444444444444,
             "#bd3786"
            ],
            [
             0.5555555555555556,
             "#d8576b"
            ],
            [
             0.6666666666666666,
             "#ed7953"
            ],
            [
             0.7777777777777778,
             "#fb9f3a"
            ],
            [
             0.8888888888888888,
             "#fdca26"
            ],
            [
             1,
             "#f0f921"
            ]
           ],
           "sequentialminus": [
            [
             0,
             "#0d0887"
            ],
            [
             0.1111111111111111,
             "#46039f"
            ],
            [
             0.2222222222222222,
             "#7201a8"
            ],
            [
             0.3333333333333333,
             "#9c179e"
            ],
            [
             0.4444444444444444,
             "#bd3786"
            ],
            [
             0.5555555555555556,
             "#d8576b"
            ],
            [
             0.6666666666666666,
             "#ed7953"
            ],
            [
             0.7777777777777778,
             "#fb9f3a"
            ],
            [
             0.8888888888888888,
             "#fdca26"
            ],
            [
             1,
             "#f0f921"
            ]
           ]
          },
          "colorway": [
           "#636efa",
           "#EF553B",
           "#00cc96",
           "#ab63fa",
           "#FFA15A",
           "#19d3f3",
           "#FF6692",
           "#B6E880",
           "#FF97FF",
           "#FECB52"
          ],
          "font": {
           "color": "#2a3f5f"
          },
          "geo": {
           "bgcolor": "white",
           "lakecolor": "white",
           "landcolor": "#E5ECF6",
           "showlakes": true,
           "showland": true,
           "subunitcolor": "white"
          },
          "hoverlabel": {
           "align": "left"
          },
          "hovermode": "closest",
          "mapbox": {
           "style": "light"
          },
          "paper_bgcolor": "white",
          "plot_bgcolor": "#E5ECF6",
          "polar": {
           "angularaxis": {
            "gridcolor": "white",
            "linecolor": "white",
            "ticks": ""
           },
           "bgcolor": "#E5ECF6",
           "radialaxis": {
            "gridcolor": "white",
            "linecolor": "white",
            "ticks": ""
           }
          },
          "scene": {
           "xaxis": {
            "backgroundcolor": "#E5ECF6",
            "gridcolor": "white",
            "gridwidth": 2,
            "linecolor": "white",
            "showbackground": true,
            "ticks": "",
            "zerolinecolor": "white"
           },
           "yaxis": {
            "backgroundcolor": "#E5ECF6",
            "gridcolor": "white",
            "gridwidth": 2,
            "linecolor": "white",
            "showbackground": true,
            "ticks": "",
            "zerolinecolor": "white"
           },
           "zaxis": {
            "backgroundcolor": "#E5ECF6",
            "gridcolor": "white",
            "gridwidth": 2,
            "linecolor": "white",
            "showbackground": true,
            "ticks": "",
            "zerolinecolor": "white"
           }
          },
          "shapedefaults": {
           "line": {
            "color": "#2a3f5f"
           }
          },
          "ternary": {
           "aaxis": {
            "gridcolor": "white",
            "linecolor": "white",
            "ticks": ""
           },
           "baxis": {
            "gridcolor": "white",
            "linecolor": "white",
            "ticks": ""
           },
           "bgcolor": "#E5ECF6",
           "caxis": {
            "gridcolor": "white",
            "linecolor": "white",
            "ticks": ""
           }
          },
          "title": {
           "x": 0.05
          },
          "xaxis": {
           "automargin": true,
           "gridcolor": "white",
           "linecolor": "white",
           "ticks": "",
           "title": {
            "standoff": 15
           },
           "zerolinecolor": "white",
           "zerolinewidth": 2
          },
          "yaxis": {
           "automargin": true,
           "gridcolor": "white",
           "linecolor": "white",
           "ticks": "",
           "title": {
            "standoff": 15
           },
           "zerolinecolor": "white",
           "zerolinewidth": 2
          }
         }
        },
        "xaxis": {
         "anchor": "y",
         "domain": [
          0,
          1
         ],
         "title": {
          "text": "f1"
         }
        },
        "yaxis": {
         "anchor": "x",
         "domain": [
          0,
          1
         ],
         "title": {
          "text": "model_name"
         }
        }
       }
      },
      "text/html": [
       "<div>                            <div id=\"5d59417b-da24-4068-b8ba-f65e711bd4ac\" class=\"plotly-graph-div\" style=\"height:500px; width:100%;\"></div>            <script type=\"text/javascript\">                require([\"plotly\"], function(Plotly) {                    window.PLOTLYENV=window.PLOTLYENV || {};                                    if (document.getElementById(\"5d59417b-da24-4068-b8ba-f65e711bd4ac\")) {                    Plotly.newPlot(                        \"5d59417b-da24-4068-b8ba-f65e711bd4ac\",                        [{\"alignmentgroup\":\"True\",\"hovertemplate\":\"f1=%{x}<br>model_name=%{y}<extra></extra>\",\"legendgroup\":\"\",\"marker\":{\"color\":\"#636efa\",\"pattern\":{\"shape\":\"\"}},\"name\":\"\",\"offsetgroup\":\"\",\"orientation\":\"h\",\"showlegend\":false,\"textposition\":\"auto\",\"x\":[0.8274486475137348,0.8304604734100206,0.8347159730033746,0.8367258553486357,0.8399628864745144,0.8476077066349118,0.8528847033007222,0.8539953452288596,0.8545614343469854,0.8551248180298701,0.8555894993009889,0.8598762886597939,0.8607014093739758,0.8628529900332225,0.8640695067264574,0.8710206561360875],\"xaxis\":\"x\",\"y\":[\"bluebert_pubmed_mimic_uncased_L-24_H-1024_A-16\",\"bert-base-uncased\",\"bluebert_pubmed_mimic_uncased_L-12_H-768_A-12\",\"roberta-base\",\"bert-base-cased\",\"Bio_ClinicalBERT\",\"scibert_scivocab_uncased\",\"BioLinkBERT-base\",\"bluebert_pubmed_uncased_L-24_H-1024_A-16\",\"BiomedNLP-PubMedBERT-base-uncased-abstract-fulltext\",\"BiomedNLP-PubMedBERT-base-uncased-abstract\",\"scibert_scivocab_cased\",\"roberta-large\",\"BioLinkBERT-large\",\"bluebert_pubmed_uncased_L-12_H-768_A-12\",\"biobert-base-cased-v1.2\"],\"yaxis\":\"y\",\"type\":\"bar\"}],                        {\"template\":{\"data\":{\"bar\":[{\"error_x\":{\"color\":\"#2a3f5f\"},\"error_y\":{\"color\":\"#2a3f5f\"},\"marker\":{\"line\":{\"color\":\"#E5ECF6\",\"width\":0.5},\"pattern\":{\"fillmode\":\"overlay\",\"size\":10,\"solidity\":0.2}},\"type\":\"bar\"}],\"barpolar\":[{\"marker\":{\"line\":{\"color\":\"#E5ECF6\",\"width\":0.5},\"pattern\":{\"fillmode\":\"overlay\",\"size\":10,\"solidity\":0.2}},\"type\":\"barpolar\"}],\"carpet\":[{\"aaxis\":{\"endlinecolor\":\"#2a3f5f\",\"gridcolor\":\"white\",\"linecolor\":\"white\",\"minorgridcolor\":\"white\",\"startlinecolor\":\"#2a3f5f\"},\"baxis\":{\"endlinecolor\":\"#2a3f5f\",\"gridcolor\":\"white\",\"linecolor\":\"white\",\"minorgridcolor\":\"white\",\"startlinecolor\":\"#2a3f5f\"},\"type\":\"carpet\"}],\"choropleth\":[{\"colorbar\":{\"outlinewidth\":0,\"ticks\":\"\"},\"type\":\"choropleth\"}],\"contour\":[{\"colorbar\":{\"outlinewidth\":0,\"ticks\":\"\"},\"colorscale\":[[0.0,\"#0d0887\"],[0.1111111111111111,\"#46039f\"],[0.2222222222222222,\"#7201a8\"],[0.3333333333333333,\"#9c179e\"],[0.4444444444444444,\"#bd3786\"],[0.5555555555555556,\"#d8576b\"],[0.6666666666666666,\"#ed7953\"],[0.7777777777777778,\"#fb9f3a\"],[0.8888888888888888,\"#fdca26\"],[1.0,\"#f0f921\"]],\"type\":\"contour\"}],\"contourcarpet\":[{\"colorbar\":{\"outlinewidth\":0,\"ticks\":\"\"},\"type\":\"contourcarpet\"}],\"heatmap\":[{\"colorbar\":{\"outlinewidth\":0,\"ticks\":\"\"},\"colorscale\":[[0.0,\"#0d0887\"],[0.1111111111111111,\"#46039f\"],[0.2222222222222222,\"#7201a8\"],[0.3333333333333333,\"#9c179e\"],[0.4444444444444444,\"#bd3786\"],[0.5555555555555556,\"#d8576b\"],[0.6666666666666666,\"#ed7953\"],[0.7777777777777778,\"#fb9f3a\"],[0.8888888888888888,\"#fdca26\"],[1.0,\"#f0f921\"]],\"type\":\"heatmap\"}],\"heatmapgl\":[{\"colorbar\":{\"outlinewidth\":0,\"ticks\":\"\"},\"colorscale\":[[0.0,\"#0d0887\"],[0.1111111111111111,\"#46039f\"],[0.2222222222222222,\"#7201a8\"],[0.3333333333333333,\"#9c179e\"],[0.4444444444444444,\"#bd3786\"],[0.5555555555555556,\"#d8576b\"],[0.6666666666666666,\"#ed7953\"],[0.7777777777777778,\"#fb9f3a\"],[0.8888888888888888,\"#fdca26\"],[1.0,\"#f0f921\"]],\"type\":\"heatmapgl\"}],\"histogram\":[{\"marker\":{\"pattern\":{\"fillmode\":\"overlay\",\"size\":10,\"solidity\":0.2}},\"type\":\"histogram\"}],\"histogram2d\":[{\"colorbar\":{\"outlinewidth\":0,\"ticks\":\"\"},\"colorscale\":[[0.0,\"#0d0887\"],[0.1111111111111111,\"#46039f\"],[0.2222222222222222,\"#7201a8\"],[0.3333333333333333,\"#9c179e\"],[0.4444444444444444,\"#bd3786\"],[0.5555555555555556,\"#d8576b\"],[0.6666666666666666,\"#ed7953\"],[0.7777777777777778,\"#fb9f3a\"],[0.8888888888888888,\"#fdca26\"],[1.0,\"#f0f921\"]],\"type\":\"histogram2d\"}],\"histogram2dcontour\":[{\"colorbar\":{\"outlinewidth\":0,\"ticks\":\"\"},\"colorscale\":[[0.0,\"#0d0887\"],[0.1111111111111111,\"#46039f\"],[0.2222222222222222,\"#7201a8\"],[0.3333333333333333,\"#9c179e\"],[0.4444444444444444,\"#bd3786\"],[0.5555555555555556,\"#d8576b\"],[0.6666666666666666,\"#ed7953\"],[0.7777777777777778,\"#fb9f3a\"],[0.8888888888888888,\"#fdca26\"],[1.0,\"#f0f921\"]],\"type\":\"histogram2dcontour\"}],\"mesh3d\":[{\"colorbar\":{\"outlinewidth\":0,\"ticks\":\"\"},\"type\":\"mesh3d\"}],\"parcoords\":[{\"line\":{\"colorbar\":{\"outlinewidth\":0,\"ticks\":\"\"}},\"type\":\"parcoords\"}],\"pie\":[{\"automargin\":true,\"type\":\"pie\"}],\"scatter\":[{\"marker\":{\"colorbar\":{\"outlinewidth\":0,\"ticks\":\"\"}},\"type\":\"scatter\"}],\"scatter3d\":[{\"line\":{\"colorbar\":{\"outlinewidth\":0,\"ticks\":\"\"}},\"marker\":{\"colorbar\":{\"outlinewidth\":0,\"ticks\":\"\"}},\"type\":\"scatter3d\"}],\"scattercarpet\":[{\"marker\":{\"colorbar\":{\"outlinewidth\":0,\"ticks\":\"\"}},\"type\":\"scattercarpet\"}],\"scattergeo\":[{\"marker\":{\"colorbar\":{\"outlinewidth\":0,\"ticks\":\"\"}},\"type\":\"scattergeo\"}],\"scattergl\":[{\"marker\":{\"colorbar\":{\"outlinewidth\":0,\"ticks\":\"\"}},\"type\":\"scattergl\"}],\"scattermapbox\":[{\"marker\":{\"colorbar\":{\"outlinewidth\":0,\"ticks\":\"\"}},\"type\":\"scattermapbox\"}],\"scatterpolar\":[{\"marker\":{\"colorbar\":{\"outlinewidth\":0,\"ticks\":\"\"}},\"type\":\"scatterpolar\"}],\"scatterpolargl\":[{\"marker\":{\"colorbar\":{\"outlinewidth\":0,\"ticks\":\"\"}},\"type\":\"scatterpolargl\"}],\"scatterternary\":[{\"marker\":{\"colorbar\":{\"outlinewidth\":0,\"ticks\":\"\"}},\"type\":\"scatterternary\"}],\"surface\":[{\"colorbar\":{\"outlinewidth\":0,\"ticks\":\"\"},\"colorscale\":[[0.0,\"#0d0887\"],[0.1111111111111111,\"#46039f\"],[0.2222222222222222,\"#7201a8\"],[0.3333333333333333,\"#9c179e\"],[0.4444444444444444,\"#bd3786\"],[0.5555555555555556,\"#d8576b\"],[0.6666666666666666,\"#ed7953\"],[0.7777777777777778,\"#fb9f3a\"],[0.8888888888888888,\"#fdca26\"],[1.0,\"#f0f921\"]],\"type\":\"surface\"}],\"table\":[{\"cells\":{\"fill\":{\"color\":\"#EBF0F8\"},\"line\":{\"color\":\"white\"}},\"header\":{\"fill\":{\"color\":\"#C8D4E3\"},\"line\":{\"color\":\"white\"}},\"type\":\"table\"}]},\"layout\":{\"annotationdefaults\":{\"arrowcolor\":\"#2a3f5f\",\"arrowhead\":0,\"arrowwidth\":1},\"autotypenumbers\":\"strict\",\"coloraxis\":{\"colorbar\":{\"outlinewidth\":0,\"ticks\":\"\"}},\"colorscale\":{\"diverging\":[[0,\"#8e0152\"],[0.1,\"#c51b7d\"],[0.2,\"#de77ae\"],[0.3,\"#f1b6da\"],[0.4,\"#fde0ef\"],[0.5,\"#f7f7f7\"],[0.6,\"#e6f5d0\"],[0.7,\"#b8e186\"],[0.8,\"#7fbc41\"],[0.9,\"#4d9221\"],[1,\"#276419\"]],\"sequential\":[[0.0,\"#0d0887\"],[0.1111111111111111,\"#46039f\"],[0.2222222222222222,\"#7201a8\"],[0.3333333333333333,\"#9c179e\"],[0.4444444444444444,\"#bd3786\"],[0.5555555555555556,\"#d8576b\"],[0.6666666666666666,\"#ed7953\"],[0.7777777777777778,\"#fb9f3a\"],[0.8888888888888888,\"#fdca26\"],[1.0,\"#f0f921\"]],\"sequentialminus\":[[0.0,\"#0d0887\"],[0.1111111111111111,\"#46039f\"],[0.2222222222222222,\"#7201a8\"],[0.3333333333333333,\"#9c179e\"],[0.4444444444444444,\"#bd3786\"],[0.5555555555555556,\"#d8576b\"],[0.6666666666666666,\"#ed7953\"],[0.7777777777777778,\"#fb9f3a\"],[0.8888888888888888,\"#fdca26\"],[1.0,\"#f0f921\"]]},\"colorway\":[\"#636efa\",\"#EF553B\",\"#00cc96\",\"#ab63fa\",\"#FFA15A\",\"#19d3f3\",\"#FF6692\",\"#B6E880\",\"#FF97FF\",\"#FECB52\"],\"font\":{\"color\":\"#2a3f5f\"},\"geo\":{\"bgcolor\":\"white\",\"lakecolor\":\"white\",\"landcolor\":\"#E5ECF6\",\"showlakes\":true,\"showland\":true,\"subunitcolor\":\"white\"},\"hoverlabel\":{\"align\":\"left\"},\"hovermode\":\"closest\",\"mapbox\":{\"style\":\"light\"},\"paper_bgcolor\":\"white\",\"plot_bgcolor\":\"#E5ECF6\",\"polar\":{\"angularaxis\":{\"gridcolor\":\"white\",\"linecolor\":\"white\",\"ticks\":\"\"},\"bgcolor\":\"#E5ECF6\",\"radialaxis\":{\"gridcolor\":\"white\",\"linecolor\":\"white\",\"ticks\":\"\"}},\"scene\":{\"xaxis\":{\"backgroundcolor\":\"#E5ECF6\",\"gridcolor\":\"white\",\"gridwidth\":2,\"linecolor\":\"white\",\"showbackground\":true,\"ticks\":\"\",\"zerolinecolor\":\"white\"},\"yaxis\":{\"backgroundcolor\":\"#E5ECF6\",\"gridcolor\":\"white\",\"gridwidth\":2,\"linecolor\":\"white\",\"showbackground\":true,\"ticks\":\"\",\"zerolinecolor\":\"white\"},\"zaxis\":{\"backgroundcolor\":\"#E5ECF6\",\"gridcolor\":\"white\",\"gridwidth\":2,\"linecolor\":\"white\",\"showbackground\":true,\"ticks\":\"\",\"zerolinecolor\":\"white\"}},\"shapedefaults\":{\"line\":{\"color\":\"#2a3f5f\"}},\"ternary\":{\"aaxis\":{\"gridcolor\":\"white\",\"linecolor\":\"white\",\"ticks\":\"\"},\"baxis\":{\"gridcolor\":\"white\",\"linecolor\":\"white\",\"ticks\":\"\"},\"bgcolor\":\"#E5ECF6\",\"caxis\":{\"gridcolor\":\"white\",\"linecolor\":\"white\",\"ticks\":\"\"}},\"title\":{\"x\":0.05},\"xaxis\":{\"automargin\":true,\"gridcolor\":\"white\",\"linecolor\":\"white\",\"ticks\":\"\",\"title\":{\"standoff\":15},\"zerolinecolor\":\"white\",\"zerolinewidth\":2},\"yaxis\":{\"automargin\":true,\"gridcolor\":\"white\",\"linecolor\":\"white\",\"ticks\":\"\",\"title\":{\"standoff\":15},\"zerolinecolor\":\"white\",\"zerolinewidth\":2}}},\"xaxis\":{\"anchor\":\"y\",\"domain\":[0.0,1.0],\"title\":{\"text\":\"f1\"}},\"yaxis\":{\"anchor\":\"x\",\"domain\":[0.0,1.0],\"title\":{\"text\":\"model_name\"}},\"legend\":{\"tracegroupgap\":0},\"margin\":{\"t\":60},\"barmode\":\"relative\",\"height\":500},                        {\"responsive\": true}                    ).then(function(){\n",
       "                            \n",
       "var gd = document.getElementById('5d59417b-da24-4068-b8ba-f65e711bd4ac');\n",
       "var x = new MutationObserver(function (mutations, observer) {{\n",
       "        var display = window.getComputedStyle(gd).display;\n",
       "        if (!display || display === 'none') {{\n",
       "            console.log([gd, 'removed!']);\n",
       "            Plotly.purge(gd);\n",
       "            observer.disconnect();\n",
       "        }}\n",
       "}});\n",
       "\n",
       "// Listen for the removal of the full notebook cells\n",
       "var notebookContainer = gd.closest('#notebook-container');\n",
       "if (notebookContainer) {{\n",
       "    x.observe(notebookContainer, {childList: true});\n",
       "}}\n",
       "\n",
       "// Listen for the clearing of the current output cell\n",
       "var outputEl = gd.closest('.output');\n",
       "if (outputEl) {{\n",
       "    x.observe(outputEl, {childList: true});\n",
       "}}\n",
       "\n",
       "                        })                };                });            </script>        </div>"
      ]
     },
     "metadata": {},
     "output_type": "display_data"
    },
    {
     "data": {
      "application/vnd.plotly.v1+json": {
       "config": {
        "plotlyServerURL": "https://plot.ly"
       },
       "data": [
        {
         "alignmentgroup": "True",
         "hovertemplate": "f1=%{x}<br>model_name=%{y}<extra></extra>",
         "legendgroup": "",
         "marker": {
          "color": "#636efa",
          "pattern": {
           "shape": ""
          }
         },
         "name": "",
         "offsetgroup": "",
         "orientation": "h",
         "showlegend": false,
         "textposition": "auto",
         "type": "bar",
         "x": [
          0.7435323297392262,
          0.7529748403531423,
          0.7547597295815822,
          0.756494801091924,
          0.7690846127915173,
          0.7699124234137561,
          0.7889249304911955,
          0.7963870071217648,
          0.8100070804814727,
          0.8154272801972062,
          0.8214098470044325,
          0.8218366778149386,
          0.8245504357739123,
          0.8246884960880904,
          0.8247374562427071,
          0.8340475746848022
         ],
         "xaxis": "x",
         "y": [
          "bert-base-uncased",
          "bluebert_pubmed_mimic_uncased_L-12_H-768_A-12",
          "roberta-base",
          "bert-base-cased",
          "Bio_ClinicalBERT",
          "bluebert_pubmed_mimic_uncased_L-24_H-1024_A-16",
          "BioLinkBERT-base",
          "bluebert_pubmed_uncased_L-12_H-768_A-12",
          "BiomedNLP-PubMedBERT-base-uncased-abstract-fulltext",
          "scibert_scivocab_uncased",
          "scibert_scivocab_cased",
          "bluebert_pubmed_uncased_L-24_H-1024_A-16",
          "roberta-large",
          "BioLinkBERT-large",
          "BiomedNLP-PubMedBERT-base-uncased-abstract",
          "biobert-base-cased-v1.2"
         ],
         "yaxis": "y"
        }
       ],
       "layout": {
        "barmode": "relative",
        "height": 500,
        "legend": {
         "tracegroupgap": 0
        },
        "margin": {
         "t": 60
        },
        "template": {
         "data": {
          "bar": [
           {
            "error_x": {
             "color": "#2a3f5f"
            },
            "error_y": {
             "color": "#2a3f5f"
            },
            "marker": {
             "line": {
              "color": "#E5ECF6",
              "width": 0.5
             },
             "pattern": {
              "fillmode": "overlay",
              "size": 10,
              "solidity": 0.2
             }
            },
            "type": "bar"
           }
          ],
          "barpolar": [
           {
            "marker": {
             "line": {
              "color": "#E5ECF6",
              "width": 0.5
             },
             "pattern": {
              "fillmode": "overlay",
              "size": 10,
              "solidity": 0.2
             }
            },
            "type": "barpolar"
           }
          ],
          "carpet": [
           {
            "aaxis": {
             "endlinecolor": "#2a3f5f",
             "gridcolor": "white",
             "linecolor": "white",
             "minorgridcolor": "white",
             "startlinecolor": "#2a3f5f"
            },
            "baxis": {
             "endlinecolor": "#2a3f5f",
             "gridcolor": "white",
             "linecolor": "white",
             "minorgridcolor": "white",
             "startlinecolor": "#2a3f5f"
            },
            "type": "carpet"
           }
          ],
          "choropleth": [
           {
            "colorbar": {
             "outlinewidth": 0,
             "ticks": ""
            },
            "type": "choropleth"
           }
          ],
          "contour": [
           {
            "colorbar": {
             "outlinewidth": 0,
             "ticks": ""
            },
            "colorscale": [
             [
              0,
              "#0d0887"
             ],
             [
              0.1111111111111111,
              "#46039f"
             ],
             [
              0.2222222222222222,
              "#7201a8"
             ],
             [
              0.3333333333333333,
              "#9c179e"
             ],
             [
              0.4444444444444444,
              "#bd3786"
             ],
             [
              0.5555555555555556,
              "#d8576b"
             ],
             [
              0.6666666666666666,
              "#ed7953"
             ],
             [
              0.7777777777777778,
              "#fb9f3a"
             ],
             [
              0.8888888888888888,
              "#fdca26"
             ],
             [
              1,
              "#f0f921"
             ]
            ],
            "type": "contour"
           }
          ],
          "contourcarpet": [
           {
            "colorbar": {
             "outlinewidth": 0,
             "ticks": ""
            },
            "type": "contourcarpet"
           }
          ],
          "heatmap": [
           {
            "colorbar": {
             "outlinewidth": 0,
             "ticks": ""
            },
            "colorscale": [
             [
              0,
              "#0d0887"
             ],
             [
              0.1111111111111111,
              "#46039f"
             ],
             [
              0.2222222222222222,
              "#7201a8"
             ],
             [
              0.3333333333333333,
              "#9c179e"
             ],
             [
              0.4444444444444444,
              "#bd3786"
             ],
             [
              0.5555555555555556,
              "#d8576b"
             ],
             [
              0.6666666666666666,
              "#ed7953"
             ],
             [
              0.7777777777777778,
              "#fb9f3a"
             ],
             [
              0.8888888888888888,
              "#fdca26"
             ],
             [
              1,
              "#f0f921"
             ]
            ],
            "type": "heatmap"
           }
          ],
          "heatmapgl": [
           {
            "colorbar": {
             "outlinewidth": 0,
             "ticks": ""
            },
            "colorscale": [
             [
              0,
              "#0d0887"
             ],
             [
              0.1111111111111111,
              "#46039f"
             ],
             [
              0.2222222222222222,
              "#7201a8"
             ],
             [
              0.3333333333333333,
              "#9c179e"
             ],
             [
              0.4444444444444444,
              "#bd3786"
             ],
             [
              0.5555555555555556,
              "#d8576b"
             ],
             [
              0.6666666666666666,
              "#ed7953"
             ],
             [
              0.7777777777777778,
              "#fb9f3a"
             ],
             [
              0.8888888888888888,
              "#fdca26"
             ],
             [
              1,
              "#f0f921"
             ]
            ],
            "type": "heatmapgl"
           }
          ],
          "histogram": [
           {
            "marker": {
             "pattern": {
              "fillmode": "overlay",
              "size": 10,
              "solidity": 0.2
             }
            },
            "type": "histogram"
           }
          ],
          "histogram2d": [
           {
            "colorbar": {
             "outlinewidth": 0,
             "ticks": ""
            },
            "colorscale": [
             [
              0,
              "#0d0887"
             ],
             [
              0.1111111111111111,
              "#46039f"
             ],
             [
              0.2222222222222222,
              "#7201a8"
             ],
             [
              0.3333333333333333,
              "#9c179e"
             ],
             [
              0.4444444444444444,
              "#bd3786"
             ],
             [
              0.5555555555555556,
              "#d8576b"
             ],
             [
              0.6666666666666666,
              "#ed7953"
             ],
             [
              0.7777777777777778,
              "#fb9f3a"
             ],
             [
              0.8888888888888888,
              "#fdca26"
             ],
             [
              1,
              "#f0f921"
             ]
            ],
            "type": "histogram2d"
           }
          ],
          "histogram2dcontour": [
           {
            "colorbar": {
             "outlinewidth": 0,
             "ticks": ""
            },
            "colorscale": [
             [
              0,
              "#0d0887"
             ],
             [
              0.1111111111111111,
              "#46039f"
             ],
             [
              0.2222222222222222,
              "#7201a8"
             ],
             [
              0.3333333333333333,
              "#9c179e"
             ],
             [
              0.4444444444444444,
              "#bd3786"
             ],
             [
              0.5555555555555556,
              "#d8576b"
             ],
             [
              0.6666666666666666,
              "#ed7953"
             ],
             [
              0.7777777777777778,
              "#fb9f3a"
             ],
             [
              0.8888888888888888,
              "#fdca26"
             ],
             [
              1,
              "#f0f921"
             ]
            ],
            "type": "histogram2dcontour"
           }
          ],
          "mesh3d": [
           {
            "colorbar": {
             "outlinewidth": 0,
             "ticks": ""
            },
            "type": "mesh3d"
           }
          ],
          "parcoords": [
           {
            "line": {
             "colorbar": {
              "outlinewidth": 0,
              "ticks": ""
             }
            },
            "type": "parcoords"
           }
          ],
          "pie": [
           {
            "automargin": true,
            "type": "pie"
           }
          ],
          "scatter": [
           {
            "marker": {
             "colorbar": {
              "outlinewidth": 0,
              "ticks": ""
             }
            },
            "type": "scatter"
           }
          ],
          "scatter3d": [
           {
            "line": {
             "colorbar": {
              "outlinewidth": 0,
              "ticks": ""
             }
            },
            "marker": {
             "colorbar": {
              "outlinewidth": 0,
              "ticks": ""
             }
            },
            "type": "scatter3d"
           }
          ],
          "scattercarpet": [
           {
            "marker": {
             "colorbar": {
              "outlinewidth": 0,
              "ticks": ""
             }
            },
            "type": "scattercarpet"
           }
          ],
          "scattergeo": [
           {
            "marker": {
             "colorbar": {
              "outlinewidth": 0,
              "ticks": ""
             }
            },
            "type": "scattergeo"
           }
          ],
          "scattergl": [
           {
            "marker": {
             "colorbar": {
              "outlinewidth": 0,
              "ticks": ""
             }
            },
            "type": "scattergl"
           }
          ],
          "scattermapbox": [
           {
            "marker": {
             "colorbar": {
              "outlinewidth": 0,
              "ticks": ""
             }
            },
            "type": "scattermapbox"
           }
          ],
          "scatterpolar": [
           {
            "marker": {
             "colorbar": {
              "outlinewidth": 0,
              "ticks": ""
             }
            },
            "type": "scatterpolar"
           }
          ],
          "scatterpolargl": [
           {
            "marker": {
             "colorbar": {
              "outlinewidth": 0,
              "ticks": ""
             }
            },
            "type": "scatterpolargl"
           }
          ],
          "scatterternary": [
           {
            "marker": {
             "colorbar": {
              "outlinewidth": 0,
              "ticks": ""
             }
            },
            "type": "scatterternary"
           }
          ],
          "surface": [
           {
            "colorbar": {
             "outlinewidth": 0,
             "ticks": ""
            },
            "colorscale": [
             [
              0,
              "#0d0887"
             ],
             [
              0.1111111111111111,
              "#46039f"
             ],
             [
              0.2222222222222222,
              "#7201a8"
             ],
             [
              0.3333333333333333,
              "#9c179e"
             ],
             [
              0.4444444444444444,
              "#bd3786"
             ],
             [
              0.5555555555555556,
              "#d8576b"
             ],
             [
              0.6666666666666666,
              "#ed7953"
             ],
             [
              0.7777777777777778,
              "#fb9f3a"
             ],
             [
              0.8888888888888888,
              "#fdca26"
             ],
             [
              1,
              "#f0f921"
             ]
            ],
            "type": "surface"
           }
          ],
          "table": [
           {
            "cells": {
             "fill": {
              "color": "#EBF0F8"
             },
             "line": {
              "color": "white"
             }
            },
            "header": {
             "fill": {
              "color": "#C8D4E3"
             },
             "line": {
              "color": "white"
             }
            },
            "type": "table"
           }
          ]
         },
         "layout": {
          "annotationdefaults": {
           "arrowcolor": "#2a3f5f",
           "arrowhead": 0,
           "arrowwidth": 1
          },
          "autotypenumbers": "strict",
          "coloraxis": {
           "colorbar": {
            "outlinewidth": 0,
            "ticks": ""
           }
          },
          "colorscale": {
           "diverging": [
            [
             0,
             "#8e0152"
            ],
            [
             0.1,
             "#c51b7d"
            ],
            [
             0.2,
             "#de77ae"
            ],
            [
             0.3,
             "#f1b6da"
            ],
            [
             0.4,
             "#fde0ef"
            ],
            [
             0.5,
             "#f7f7f7"
            ],
            [
             0.6,
             "#e6f5d0"
            ],
            [
             0.7,
             "#b8e186"
            ],
            [
             0.8,
             "#7fbc41"
            ],
            [
             0.9,
             "#4d9221"
            ],
            [
             1,
             "#276419"
            ]
           ],
           "sequential": [
            [
             0,
             "#0d0887"
            ],
            [
             0.1111111111111111,
             "#46039f"
            ],
            [
             0.2222222222222222,
             "#7201a8"
            ],
            [
             0.3333333333333333,
             "#9c179e"
            ],
            [
             0.4444444444444444,
             "#bd3786"
            ],
            [
             0.5555555555555556,
             "#d8576b"
            ],
            [
             0.6666666666666666,
             "#ed7953"
            ],
            [
             0.7777777777777778,
             "#fb9f3a"
            ],
            [
             0.8888888888888888,
             "#fdca26"
            ],
            [
             1,
             "#f0f921"
            ]
           ],
           "sequentialminus": [
            [
             0,
             "#0d0887"
            ],
            [
             0.1111111111111111,
             "#46039f"
            ],
            [
             0.2222222222222222,
             "#7201a8"
            ],
            [
             0.3333333333333333,
             "#9c179e"
            ],
            [
             0.4444444444444444,
             "#bd3786"
            ],
            [
             0.5555555555555556,
             "#d8576b"
            ],
            [
             0.6666666666666666,
             "#ed7953"
            ],
            [
             0.7777777777777778,
             "#fb9f3a"
            ],
            [
             0.8888888888888888,
             "#fdca26"
            ],
            [
             1,
             "#f0f921"
            ]
           ]
          },
          "colorway": [
           "#636efa",
           "#EF553B",
           "#00cc96",
           "#ab63fa",
           "#FFA15A",
           "#19d3f3",
           "#FF6692",
           "#B6E880",
           "#FF97FF",
           "#FECB52"
          ],
          "font": {
           "color": "#2a3f5f"
          },
          "geo": {
           "bgcolor": "white",
           "lakecolor": "white",
           "landcolor": "#E5ECF6",
           "showlakes": true,
           "showland": true,
           "subunitcolor": "white"
          },
          "hoverlabel": {
           "align": "left"
          },
          "hovermode": "closest",
          "mapbox": {
           "style": "light"
          },
          "paper_bgcolor": "white",
          "plot_bgcolor": "#E5ECF6",
          "polar": {
           "angularaxis": {
            "gridcolor": "white",
            "linecolor": "white",
            "ticks": ""
           },
           "bgcolor": "#E5ECF6",
           "radialaxis": {
            "gridcolor": "white",
            "linecolor": "white",
            "ticks": ""
           }
          },
          "scene": {
           "xaxis": {
            "backgroundcolor": "#E5ECF6",
            "gridcolor": "white",
            "gridwidth": 2,
            "linecolor": "white",
            "showbackground": true,
            "ticks": "",
            "zerolinecolor": "white"
           },
           "yaxis": {
            "backgroundcolor": "#E5ECF6",
            "gridcolor": "white",
            "gridwidth": 2,
            "linecolor": "white",
            "showbackground": true,
            "ticks": "",
            "zerolinecolor": "white"
           },
           "zaxis": {
            "backgroundcolor": "#E5ECF6",
            "gridcolor": "white",
            "gridwidth": 2,
            "linecolor": "white",
            "showbackground": true,
            "ticks": "",
            "zerolinecolor": "white"
           }
          },
          "shapedefaults": {
           "line": {
            "color": "#2a3f5f"
           }
          },
          "ternary": {
           "aaxis": {
            "gridcolor": "white",
            "linecolor": "white",
            "ticks": ""
           },
           "baxis": {
            "gridcolor": "white",
            "linecolor": "white",
            "ticks": ""
           },
           "bgcolor": "#E5ECF6",
           "caxis": {
            "gridcolor": "white",
            "linecolor": "white",
            "ticks": ""
           }
          },
          "title": {
           "x": 0.05
          },
          "xaxis": {
           "automargin": true,
           "gridcolor": "white",
           "linecolor": "white",
           "ticks": "",
           "title": {
            "standoff": 15
           },
           "zerolinecolor": "white",
           "zerolinewidth": 2
          },
          "yaxis": {
           "automargin": true,
           "gridcolor": "white",
           "linecolor": "white",
           "ticks": "",
           "title": {
            "standoff": 15
           },
           "zerolinecolor": "white",
           "zerolinewidth": 2
          }
         }
        },
        "xaxis": {
         "anchor": "y",
         "domain": [
          0,
          1
         ],
         "title": {
          "text": "f1"
         }
        },
        "yaxis": {
         "anchor": "x",
         "domain": [
          0,
          1
         ],
         "title": {
          "text": "model_name"
         }
        }
       }
      },
      "text/html": [
       "<div>                            <div id=\"9ec422d1-5e7d-4657-a4bb-016c005754a0\" class=\"plotly-graph-div\" style=\"height:500px; width:100%;\"></div>            <script type=\"text/javascript\">                require([\"plotly\"], function(Plotly) {                    window.PLOTLYENV=window.PLOTLYENV || {};                                    if (document.getElementById(\"9ec422d1-5e7d-4657-a4bb-016c005754a0\")) {                    Plotly.newPlot(                        \"9ec422d1-5e7d-4657-a4bb-016c005754a0\",                        [{\"alignmentgroup\":\"True\",\"hovertemplate\":\"f1=%{x}<br>model_name=%{y}<extra></extra>\",\"legendgroup\":\"\",\"marker\":{\"color\":\"#636efa\",\"pattern\":{\"shape\":\"\"}},\"name\":\"\",\"offsetgroup\":\"\",\"orientation\":\"h\",\"showlegend\":false,\"textposition\":\"auto\",\"x\":[0.7435323297392262,0.7529748403531423,0.7547597295815822,0.756494801091924,0.7690846127915173,0.7699124234137561,0.7889249304911955,0.7963870071217648,0.8100070804814727,0.8154272801972062,0.8214098470044325,0.8218366778149386,0.8245504357739123,0.8246884960880904,0.8247374562427071,0.8340475746848022],\"xaxis\":\"x\",\"y\":[\"bert-base-uncased\",\"bluebert_pubmed_mimic_uncased_L-12_H-768_A-12\",\"roberta-base\",\"bert-base-cased\",\"Bio_ClinicalBERT\",\"bluebert_pubmed_mimic_uncased_L-24_H-1024_A-16\",\"BioLinkBERT-base\",\"bluebert_pubmed_uncased_L-12_H-768_A-12\",\"BiomedNLP-PubMedBERT-base-uncased-abstract-fulltext\",\"scibert_scivocab_uncased\",\"scibert_scivocab_cased\",\"bluebert_pubmed_uncased_L-24_H-1024_A-16\",\"roberta-large\",\"BioLinkBERT-large\",\"BiomedNLP-PubMedBERT-base-uncased-abstract\",\"biobert-base-cased-v1.2\"],\"yaxis\":\"y\",\"type\":\"bar\"}],                        {\"template\":{\"data\":{\"bar\":[{\"error_x\":{\"color\":\"#2a3f5f\"},\"error_y\":{\"color\":\"#2a3f5f\"},\"marker\":{\"line\":{\"color\":\"#E5ECF6\",\"width\":0.5},\"pattern\":{\"fillmode\":\"overlay\",\"size\":10,\"solidity\":0.2}},\"type\":\"bar\"}],\"barpolar\":[{\"marker\":{\"line\":{\"color\":\"#E5ECF6\",\"width\":0.5},\"pattern\":{\"fillmode\":\"overlay\",\"size\":10,\"solidity\":0.2}},\"type\":\"barpolar\"}],\"carpet\":[{\"aaxis\":{\"endlinecolor\":\"#2a3f5f\",\"gridcolor\":\"white\",\"linecolor\":\"white\",\"minorgridcolor\":\"white\",\"startlinecolor\":\"#2a3f5f\"},\"baxis\":{\"endlinecolor\":\"#2a3f5f\",\"gridcolor\":\"white\",\"linecolor\":\"white\",\"minorgridcolor\":\"white\",\"startlinecolor\":\"#2a3f5f\"},\"type\":\"carpet\"}],\"choropleth\":[{\"colorbar\":{\"outlinewidth\":0,\"ticks\":\"\"},\"type\":\"choropleth\"}],\"contour\":[{\"colorbar\":{\"outlinewidth\":0,\"ticks\":\"\"},\"colorscale\":[[0.0,\"#0d0887\"],[0.1111111111111111,\"#46039f\"],[0.2222222222222222,\"#7201a8\"],[0.3333333333333333,\"#9c179e\"],[0.4444444444444444,\"#bd3786\"],[0.5555555555555556,\"#d8576b\"],[0.6666666666666666,\"#ed7953\"],[0.7777777777777778,\"#fb9f3a\"],[0.8888888888888888,\"#fdca26\"],[1.0,\"#f0f921\"]],\"type\":\"contour\"}],\"contourcarpet\":[{\"colorbar\":{\"outlinewidth\":0,\"ticks\":\"\"},\"type\":\"contourcarpet\"}],\"heatmap\":[{\"colorbar\":{\"outlinewidth\":0,\"ticks\":\"\"},\"colorscale\":[[0.0,\"#0d0887\"],[0.1111111111111111,\"#46039f\"],[0.2222222222222222,\"#7201a8\"],[0.3333333333333333,\"#9c179e\"],[0.4444444444444444,\"#bd3786\"],[0.5555555555555556,\"#d8576b\"],[0.6666666666666666,\"#ed7953\"],[0.7777777777777778,\"#fb9f3a\"],[0.8888888888888888,\"#fdca26\"],[1.0,\"#f0f921\"]],\"type\":\"heatmap\"}],\"heatmapgl\":[{\"colorbar\":{\"outlinewidth\":0,\"ticks\":\"\"},\"colorscale\":[[0.0,\"#0d0887\"],[0.1111111111111111,\"#46039f\"],[0.2222222222222222,\"#7201a8\"],[0.3333333333333333,\"#9c179e\"],[0.4444444444444444,\"#bd3786\"],[0.5555555555555556,\"#d8576b\"],[0.6666666666666666,\"#ed7953\"],[0.7777777777777778,\"#fb9f3a\"],[0.8888888888888888,\"#fdca26\"],[1.0,\"#f0f921\"]],\"type\":\"heatmapgl\"}],\"histogram\":[{\"marker\":{\"pattern\":{\"fillmode\":\"overlay\",\"size\":10,\"solidity\":0.2}},\"type\":\"histogram\"}],\"histogram2d\":[{\"colorbar\":{\"outlinewidth\":0,\"ticks\":\"\"},\"colorscale\":[[0.0,\"#0d0887\"],[0.1111111111111111,\"#46039f\"],[0.2222222222222222,\"#7201a8\"],[0.3333333333333333,\"#9c179e\"],[0.4444444444444444,\"#bd3786\"],[0.5555555555555556,\"#d8576b\"],[0.6666666666666666,\"#ed7953\"],[0.7777777777777778,\"#fb9f3a\"],[0.8888888888888888,\"#fdca26\"],[1.0,\"#f0f921\"]],\"type\":\"histogram2d\"}],\"histogram2dcontour\":[{\"colorbar\":{\"outlinewidth\":0,\"ticks\":\"\"},\"colorscale\":[[0.0,\"#0d0887\"],[0.1111111111111111,\"#46039f\"],[0.2222222222222222,\"#7201a8\"],[0.3333333333333333,\"#9c179e\"],[0.4444444444444444,\"#bd3786\"],[0.5555555555555556,\"#d8576b\"],[0.6666666666666666,\"#ed7953\"],[0.7777777777777778,\"#fb9f3a\"],[0.8888888888888888,\"#fdca26\"],[1.0,\"#f0f921\"]],\"type\":\"histogram2dcontour\"}],\"mesh3d\":[{\"colorbar\":{\"outlinewidth\":0,\"ticks\":\"\"},\"type\":\"mesh3d\"}],\"parcoords\":[{\"line\":{\"colorbar\":{\"outlinewidth\":0,\"ticks\":\"\"}},\"type\":\"parcoords\"}],\"pie\":[{\"automargin\":true,\"type\":\"pie\"}],\"scatter\":[{\"marker\":{\"colorbar\":{\"outlinewidth\":0,\"ticks\":\"\"}},\"type\":\"scatter\"}],\"scatter3d\":[{\"line\":{\"colorbar\":{\"outlinewidth\":0,\"ticks\":\"\"}},\"marker\":{\"colorbar\":{\"outlinewidth\":0,\"ticks\":\"\"}},\"type\":\"scatter3d\"}],\"scattercarpet\":[{\"marker\":{\"colorbar\":{\"outlinewidth\":0,\"ticks\":\"\"}},\"type\":\"scattercarpet\"}],\"scattergeo\":[{\"marker\":{\"colorbar\":{\"outlinewidth\":0,\"ticks\":\"\"}},\"type\":\"scattergeo\"}],\"scattergl\":[{\"marker\":{\"colorbar\":{\"outlinewidth\":0,\"ticks\":\"\"}},\"type\":\"scattergl\"}],\"scattermapbox\":[{\"marker\":{\"colorbar\":{\"outlinewidth\":0,\"ticks\":\"\"}},\"type\":\"scattermapbox\"}],\"scatterpolar\":[{\"marker\":{\"colorbar\":{\"outlinewidth\":0,\"ticks\":\"\"}},\"type\":\"scatterpolar\"}],\"scatterpolargl\":[{\"marker\":{\"colorbar\":{\"outlinewidth\":0,\"ticks\":\"\"}},\"type\":\"scatterpolargl\"}],\"scatterternary\":[{\"marker\":{\"colorbar\":{\"outlinewidth\":0,\"ticks\":\"\"}},\"type\":\"scatterternary\"}],\"surface\":[{\"colorbar\":{\"outlinewidth\":0,\"ticks\":\"\"},\"colorscale\":[[0.0,\"#0d0887\"],[0.1111111111111111,\"#46039f\"],[0.2222222222222222,\"#7201a8\"],[0.3333333333333333,\"#9c179e\"],[0.4444444444444444,\"#bd3786\"],[0.5555555555555556,\"#d8576b\"],[0.6666666666666666,\"#ed7953\"],[0.7777777777777778,\"#fb9f3a\"],[0.8888888888888888,\"#fdca26\"],[1.0,\"#f0f921\"]],\"type\":\"surface\"}],\"table\":[{\"cells\":{\"fill\":{\"color\":\"#EBF0F8\"},\"line\":{\"color\":\"white\"}},\"header\":{\"fill\":{\"color\":\"#C8D4E3\"},\"line\":{\"color\":\"white\"}},\"type\":\"table\"}]},\"layout\":{\"annotationdefaults\":{\"arrowcolor\":\"#2a3f5f\",\"arrowhead\":0,\"arrowwidth\":1},\"autotypenumbers\":\"strict\",\"coloraxis\":{\"colorbar\":{\"outlinewidth\":0,\"ticks\":\"\"}},\"colorscale\":{\"diverging\":[[0,\"#8e0152\"],[0.1,\"#c51b7d\"],[0.2,\"#de77ae\"],[0.3,\"#f1b6da\"],[0.4,\"#fde0ef\"],[0.5,\"#f7f7f7\"],[0.6,\"#e6f5d0\"],[0.7,\"#b8e186\"],[0.8,\"#7fbc41\"],[0.9,\"#4d9221\"],[1,\"#276419\"]],\"sequential\":[[0.0,\"#0d0887\"],[0.1111111111111111,\"#46039f\"],[0.2222222222222222,\"#7201a8\"],[0.3333333333333333,\"#9c179e\"],[0.4444444444444444,\"#bd3786\"],[0.5555555555555556,\"#d8576b\"],[0.6666666666666666,\"#ed7953\"],[0.7777777777777778,\"#fb9f3a\"],[0.8888888888888888,\"#fdca26\"],[1.0,\"#f0f921\"]],\"sequentialminus\":[[0.0,\"#0d0887\"],[0.1111111111111111,\"#46039f\"],[0.2222222222222222,\"#7201a8\"],[0.3333333333333333,\"#9c179e\"],[0.4444444444444444,\"#bd3786\"],[0.5555555555555556,\"#d8576b\"],[0.6666666666666666,\"#ed7953\"],[0.7777777777777778,\"#fb9f3a\"],[0.8888888888888888,\"#fdca26\"],[1.0,\"#f0f921\"]]},\"colorway\":[\"#636efa\",\"#EF553B\",\"#00cc96\",\"#ab63fa\",\"#FFA15A\",\"#19d3f3\",\"#FF6692\",\"#B6E880\",\"#FF97FF\",\"#FECB52\"],\"font\":{\"color\":\"#2a3f5f\"},\"geo\":{\"bgcolor\":\"white\",\"lakecolor\":\"white\",\"landcolor\":\"#E5ECF6\",\"showlakes\":true,\"showland\":true,\"subunitcolor\":\"white\"},\"hoverlabel\":{\"align\":\"left\"},\"hovermode\":\"closest\",\"mapbox\":{\"style\":\"light\"},\"paper_bgcolor\":\"white\",\"plot_bgcolor\":\"#E5ECF6\",\"polar\":{\"angularaxis\":{\"gridcolor\":\"white\",\"linecolor\":\"white\",\"ticks\":\"\"},\"bgcolor\":\"#E5ECF6\",\"radialaxis\":{\"gridcolor\":\"white\",\"linecolor\":\"white\",\"ticks\":\"\"}},\"scene\":{\"xaxis\":{\"backgroundcolor\":\"#E5ECF6\",\"gridcolor\":\"white\",\"gridwidth\":2,\"linecolor\":\"white\",\"showbackground\":true,\"ticks\":\"\",\"zerolinecolor\":\"white\"},\"yaxis\":{\"backgroundcolor\":\"#E5ECF6\",\"gridcolor\":\"white\",\"gridwidth\":2,\"linecolor\":\"white\",\"showbackground\":true,\"ticks\":\"\",\"zerolinecolor\":\"white\"},\"zaxis\":{\"backgroundcolor\":\"#E5ECF6\",\"gridcolor\":\"white\",\"gridwidth\":2,\"linecolor\":\"white\",\"showbackground\":true,\"ticks\":\"\",\"zerolinecolor\":\"white\"}},\"shapedefaults\":{\"line\":{\"color\":\"#2a3f5f\"}},\"ternary\":{\"aaxis\":{\"gridcolor\":\"white\",\"linecolor\":\"white\",\"ticks\":\"\"},\"baxis\":{\"gridcolor\":\"white\",\"linecolor\":\"white\",\"ticks\":\"\"},\"bgcolor\":\"#E5ECF6\",\"caxis\":{\"gridcolor\":\"white\",\"linecolor\":\"white\",\"ticks\":\"\"}},\"title\":{\"x\":0.05},\"xaxis\":{\"automargin\":true,\"gridcolor\":\"white\",\"linecolor\":\"white\",\"ticks\":\"\",\"title\":{\"standoff\":15},\"zerolinecolor\":\"white\",\"zerolinewidth\":2},\"yaxis\":{\"automargin\":true,\"gridcolor\":\"white\",\"linecolor\":\"white\",\"ticks\":\"\",\"title\":{\"standoff\":15},\"zerolinecolor\":\"white\",\"zerolinewidth\":2}}},\"xaxis\":{\"anchor\":\"y\",\"domain\":[0.0,1.0],\"title\":{\"text\":\"f1\"}},\"yaxis\":{\"anchor\":\"x\",\"domain\":[0.0,1.0],\"title\":{\"text\":\"model_name\"}},\"legend\":{\"tracegroupgap\":0},\"margin\":{\"t\":60},\"barmode\":\"relative\",\"height\":500},                        {\"responsive\": true}                    ).then(function(){\n",
       "                            \n",
       "var gd = document.getElementById('9ec422d1-5e7d-4657-a4bb-016c005754a0');\n",
       "var x = new MutationObserver(function (mutations, observer) {{\n",
       "        var display = window.getComputedStyle(gd).display;\n",
       "        if (!display || display === 'none') {{\n",
       "            console.log([gd, 'removed!']);\n",
       "            Plotly.purge(gd);\n",
       "            observer.disconnect();\n",
       "        }}\n",
       "}});\n",
       "\n",
       "// Listen for the removal of the full notebook cells\n",
       "var notebookContainer = gd.closest('#notebook-container');\n",
       "if (notebookContainer) {{\n",
       "    x.observe(notebookContainer, {childList: true});\n",
       "}}\n",
       "\n",
       "// Listen for the clearing of the current output cell\n",
       "var outputEl = gd.closest('.output');\n",
       "if (outputEl) {{\n",
       "    x.observe(outputEl, {childList: true});\n",
       "}}\n",
       "\n",
       "                        })                };                });            </script>        </div>"
      ]
     },
     "metadata": {},
     "output_type": "display_data"
    }
   ],
   "source": [
    "for dataset, df in df_plt.groupby('dataset'):\n",
    "    fig = px.bar(df, x='f1', y='model_name', height=500)\n",
    "    fig.show()"
   ]
  },
  {
   "cell_type": "code",
   "execution_count": null,
   "id": "f393a9cd",
   "metadata": {},
   "outputs": [],
   "source": []
  },
  {
   "cell_type": "code",
   "execution_count": null,
   "id": "3b03ed05",
   "metadata": {},
   "outputs": [],
   "source": []
  }
 ],
 "metadata": {
  "kernelspec": {
   "display_name": "Python 3 (ipykernel)",
   "language": "python",
   "name": "python3"
  },
  "language_info": {
   "codemirror_mode": {
    "name": "ipython",
    "version": 3
   },
   "file_extension": ".py",
   "mimetype": "text/x-python",
   "name": "python",
   "nbconvert_exporter": "python",
   "pygments_lexer": "ipython3",
   "version": "3.8.12"
  }
 },
 "nbformat": 4,
 "nbformat_minor": 5
}
